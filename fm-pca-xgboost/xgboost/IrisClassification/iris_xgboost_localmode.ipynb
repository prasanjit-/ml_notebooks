{
 "cells": [
  {
   "cell_type": "markdown",
   "metadata": {
    "nbpresent": {
     "id": "782a07bf-08de-4030-88e1-6731c4ac956e"
    }
   },
   "source": [
    "## Train a model with Iris data using XGBoost algorithm\n",
    "###  Model is trained with XGBoost installed in notebook instance\n",
    "###  In the later examples, we will train using SageMaker's XGBoost algorithm"
   ]
  },
  {
   "cell_type": "code",
   "execution_count": 1,
   "metadata": {
    "collapsed": true,
    "nbpresent": {
     "id": "6c6a8672-d428-410a-82fa-7f587c9ef2ae"
    }
   },
   "outputs": [
    {
     "name": "stdout",
     "output_type": "stream",
     "text": [
      "Solving environment: done\n",
      "\n",
      "\n",
      "==> WARNING: A newer version of conda exists. <==\n",
      "  current version: 4.5.11\n",
      "  latest version: 4.6.2\n",
      "\n",
      "Please update conda by running\n",
      "\n",
      "    $ conda update -n base -c defaults conda\n",
      "\n",
      "\n",
      "\n",
      "## Package Plan ##\n",
      "\n",
      "  environment location: /home/ec2-user/anaconda3/envs/python3\n",
      "\n",
      "  added / updated specs: \n",
      "    - xgboost\n",
      "\n",
      "\n",
      "The following packages will be downloaded:\n",
      "\n",
      "    package                    |            build\n",
      "    ---------------------------|-----------------\n",
      "    libstdcxx-ng-7.3.0         |       hdf63c60_0         2.6 MB  conda-forge\n",
      "    _py-xgboost-mutex-2.0      |            cpu_0           8 KB  conda-forge\n",
      "    xgboost-0.81               |py36hf484d3e_1000           9 KB  conda-forge\n",
      "    libxgboost-0.81            |    hf484d3e_1000         3.8 MB  conda-forge\n",
      "    openssl-1.0.2p             |    h14c3975_1002         3.1 MB  conda-forge\n",
      "    py-xgboost-0.81            |py36hf484d3e_1000          66 KB  conda-forge\n",
      "    ------------------------------------------------------------\n",
      "                                           Total:         9.5 MB\n",
      "\n",
      "The following NEW packages will be INSTALLED:\n",
      "\n",
      "    _py-xgboost-mutex: 2.0-cpu_0              conda-forge\n",
      "    libxgboost:        0.81-hf484d3e_1000     conda-forge\n",
      "    py-xgboost:        0.81-py36hf484d3e_1000 conda-forge\n",
      "    xgboost:           0.81-py36hf484d3e_1000 conda-forge\n",
      "\n",
      "The following packages will be UPDATED:\n",
      "\n",
      "    ca-certificates:   2018.8.24-ha4d7672_0   conda-forge --> 2018.11.29-ha4d7672_0 conda-forge\n",
      "    certifi:           2018.8.24-py36_1       conda-forge --> 2018.11.29-py36_1000  conda-forge\n",
      "    libstdcxx-ng:      7.2.0-hdf63c60_3                   --> 7.3.0-hdf63c60_0      conda-forge\n",
      "    openssl:           1.0.2p-h470a237_0      conda-forge --> 1.0.2p-h14c3975_1002  conda-forge\n",
      "\n",
      "\n",
      "Downloading and Extracting Packages\n",
      "libstdcxx-ng-7.3.0   | 2.6 MB    | ##################################### | 100% \n",
      "_py-xgboost-mutex-2. | 8 KB      | ##################################### | 100% \n",
      "xgboost-0.81         | 9 KB      | ##################################### | 100% \n",
      "libxgboost-0.81      | 3.8 MB    | ##################################### | 100% \n",
      "openssl-1.0.2p       | 3.1 MB    | ##################################### | 100% \n",
      "py-xgboost-0.81      | 66 KB     | ##################################### | 100% \n",
      "Preparing transaction: done\n",
      "Verifying transaction: done\n",
      "Executing transaction: done\n"
     ]
    }
   ],
   "source": [
    "# Install xgboost in notebook instance.\n",
    "#### Command to install xgboost\n",
    "!conda install -y -c conda-forge xgboost"
   ]
  },
  {
   "cell_type": "code",
   "execution_count": 2,
   "metadata": {
    "collapsed": true,
    "nbpresent": {
     "id": "652b58d4-3b75-405f-9f11-24d0cd1f9656"
    }
   },
   "outputs": [],
   "source": [
    "%matplotlib inline\n",
    "import sys\n",
    "import numpy as np\n",
    "import pandas as pd\n",
    "import matplotlib.pyplot as plt\n",
    "import xgboost as xgb\n",
    "from sklearn import preprocessing"
   ]
  },
  {
   "cell_type": "code",
   "execution_count": 3,
   "metadata": {
    "collapsed": true,
    "nbpresent": {
     "id": "a3946273-d086-4564-b0f1-6adc225191c3"
    }
   },
   "outputs": [],
   "source": [
    "column_list_file = 'iris_train_column_list.txt'\n",
    "train_file = 'iris_train.csv'\n",
    "validation_file = 'iris_validation.csv'"
   ]
  },
  {
   "cell_type": "code",
   "execution_count": 4,
   "metadata": {
    "collapsed": true,
    "nbpresent": {
     "id": "7c803d6c-74cc-40d2-ab48-747ff4346c22"
    }
   },
   "outputs": [],
   "source": [
    "columns = ''\n",
    "with open(column_list_file,'r') as f:\n",
    "    columns = f.read().split(',')"
   ]
  },
  {
   "cell_type": "code",
   "execution_count": 5,
   "metadata": {
    "nbpresent": {
     "id": "630dde8d-44b9-415d-8876-4e873407d0fc"
    }
   },
   "outputs": [
    {
     "data": {
      "text/plain": [
       "['encoded_class', 'sepal_length', 'sepal_width', 'petal_length', 'petal_width']"
      ]
     },
     "execution_count": 5,
     "metadata": {},
     "output_type": "execute_result"
    }
   ],
   "source": [
    "columns"
   ]
  },
  {
   "cell_type": "code",
   "execution_count": 6,
   "metadata": {},
   "outputs": [
    {
     "data": {
      "text/plain": [
       "LabelEncoder()"
      ]
     },
     "execution_count": 6,
     "metadata": {},
     "output_type": "execute_result"
    }
   ],
   "source": [
    "# Encode Class Labels to integers\n",
    "le = preprocessing.LabelEncoder()\n",
    "le.fit(['Iris-setosa', 'Iris-versicolor', 'Iris-virginica'])"
   ]
  },
  {
   "cell_type": "code",
   "execution_count": 7,
   "metadata": {
    "collapsed": true,
    "nbpresent": {
     "id": "d6ff2283-cb13-468f-b0cc-0aefeab7b57f"
    }
   },
   "outputs": [],
   "source": [
    "# Specify the column names as the file does not have column header\n",
    "df_train = pd.read_csv(train_file,names=columns)\n",
    "df_validation = pd.read_csv(validation_file,names=columns)"
   ]
  },
  {
   "cell_type": "code",
   "execution_count": 8,
   "metadata": {
    "nbpresent": {
     "id": "a195ae30-1962-4427-859b-73a013dc10d6"
    }
   },
   "outputs": [
    {
     "data": {
      "text/html": [
       "<div>\n",
       "<style scoped>\n",
       "    .dataframe tbody tr th:only-of-type {\n",
       "        vertical-align: middle;\n",
       "    }\n",
       "\n",
       "    .dataframe tbody tr th {\n",
       "        vertical-align: top;\n",
       "    }\n",
       "\n",
       "    .dataframe thead th {\n",
       "        text-align: right;\n",
       "    }\n",
       "</style>\n",
       "<table border=\"1\" class=\"dataframe\">\n",
       "  <thead>\n",
       "    <tr style=\"text-align: right;\">\n",
       "      <th></th>\n",
       "      <th>encoded_class</th>\n",
       "      <th>sepal_length</th>\n",
       "      <th>sepal_width</th>\n",
       "      <th>petal_length</th>\n",
       "      <th>petal_width</th>\n",
       "    </tr>\n",
       "  </thead>\n",
       "  <tbody>\n",
       "    <tr>\n",
       "      <th>0</th>\n",
       "      <td>1</td>\n",
       "      <td>5.8</td>\n",
       "      <td>2.7</td>\n",
       "      <td>3.9</td>\n",
       "      <td>1.2</td>\n",
       "    </tr>\n",
       "    <tr>\n",
       "      <th>1</th>\n",
       "      <td>2</td>\n",
       "      <td>6.1</td>\n",
       "      <td>2.6</td>\n",
       "      <td>5.6</td>\n",
       "      <td>1.4</td>\n",
       "    </tr>\n",
       "    <tr>\n",
       "      <th>2</th>\n",
       "      <td>2</td>\n",
       "      <td>5.8</td>\n",
       "      <td>2.8</td>\n",
       "      <td>5.1</td>\n",
       "      <td>2.4</td>\n",
       "    </tr>\n",
       "    <tr>\n",
       "      <th>3</th>\n",
       "      <td>0</td>\n",
       "      <td>4.4</td>\n",
       "      <td>3.2</td>\n",
       "      <td>1.3</td>\n",
       "      <td>0.2</td>\n",
       "    </tr>\n",
       "    <tr>\n",
       "      <th>4</th>\n",
       "      <td>2</td>\n",
       "      <td>7.2</td>\n",
       "      <td>3.6</td>\n",
       "      <td>6.1</td>\n",
       "      <td>2.5</td>\n",
       "    </tr>\n",
       "  </tbody>\n",
       "</table>\n",
       "</div>"
      ],
      "text/plain": [
       "   encoded_class  sepal_length  sepal_width  petal_length  petal_width\n",
       "0              1           5.8          2.7           3.9          1.2\n",
       "1              2           6.1          2.6           5.6          1.4\n",
       "2              2           5.8          2.8           5.1          2.4\n",
       "3              0           4.4          3.2           1.3          0.2\n",
       "4              2           7.2          3.6           6.1          2.5"
      ]
     },
     "execution_count": 8,
     "metadata": {},
     "output_type": "execute_result"
    }
   ],
   "source": [
    "df_train.head()"
   ]
  },
  {
   "cell_type": "code",
   "execution_count": 9,
   "metadata": {
    "nbpresent": {
     "id": "e30e8aeb-1ca2-4851-bc2d-1bdee29ab1cf"
    }
   },
   "outputs": [
    {
     "data": {
      "text/html": [
       "<div>\n",
       "<style scoped>\n",
       "    .dataframe tbody tr th:only-of-type {\n",
       "        vertical-align: middle;\n",
       "    }\n",
       "\n",
       "    .dataframe tbody tr th {\n",
       "        vertical-align: top;\n",
       "    }\n",
       "\n",
       "    .dataframe thead th {\n",
       "        text-align: right;\n",
       "    }\n",
       "</style>\n",
       "<table border=\"1\" class=\"dataframe\">\n",
       "  <thead>\n",
       "    <tr style=\"text-align: right;\">\n",
       "      <th></th>\n",
       "      <th>encoded_class</th>\n",
       "      <th>sepal_length</th>\n",
       "      <th>sepal_width</th>\n",
       "      <th>petal_length</th>\n",
       "      <th>petal_width</th>\n",
       "    </tr>\n",
       "  </thead>\n",
       "  <tbody>\n",
       "    <tr>\n",
       "      <th>0</th>\n",
       "      <td>1</td>\n",
       "      <td>5.8</td>\n",
       "      <td>2.7</td>\n",
       "      <td>4.1</td>\n",
       "      <td>1.0</td>\n",
       "    </tr>\n",
       "    <tr>\n",
       "      <th>1</th>\n",
       "      <td>0</td>\n",
       "      <td>4.8</td>\n",
       "      <td>3.4</td>\n",
       "      <td>1.6</td>\n",
       "      <td>0.2</td>\n",
       "    </tr>\n",
       "    <tr>\n",
       "      <th>2</th>\n",
       "      <td>1</td>\n",
       "      <td>6.0</td>\n",
       "      <td>2.2</td>\n",
       "      <td>4.0</td>\n",
       "      <td>1.0</td>\n",
       "    </tr>\n",
       "    <tr>\n",
       "      <th>3</th>\n",
       "      <td>2</td>\n",
       "      <td>6.4</td>\n",
       "      <td>3.1</td>\n",
       "      <td>5.5</td>\n",
       "      <td>1.8</td>\n",
       "    </tr>\n",
       "    <tr>\n",
       "      <th>4</th>\n",
       "      <td>2</td>\n",
       "      <td>6.7</td>\n",
       "      <td>2.5</td>\n",
       "      <td>5.8</td>\n",
       "      <td>1.8</td>\n",
       "    </tr>\n",
       "  </tbody>\n",
       "</table>\n",
       "</div>"
      ],
      "text/plain": [
       "   encoded_class  sepal_length  sepal_width  petal_length  petal_width\n",
       "0              1           5.8          2.7           4.1          1.0\n",
       "1              0           4.8          3.4           1.6          0.2\n",
       "2              1           6.0          2.2           4.0          1.0\n",
       "3              2           6.4          3.1           5.5          1.8\n",
       "4              2           6.7          2.5           5.8          1.8"
      ]
     },
     "execution_count": 9,
     "metadata": {},
     "output_type": "execute_result"
    }
   ],
   "source": [
    "df_validation.head()"
   ]
  },
  {
   "cell_type": "code",
   "execution_count": 10,
   "metadata": {
    "collapsed": true,
    "nbpresent": {
     "id": "3b240613-803d-4fa9-93cf-53ef68df7b93"
    }
   },
   "outputs": [],
   "source": [
    "X_train = df_train.iloc[:,1:] # Features: 1st column onwards \n",
    "y_train = df_train.iloc[:,0].ravel() # Target: 0th column\n",
    "\n",
    "X_validation = df_validation.iloc[:,1:]\n",
    "y_validation = df_validation.iloc[:,0].ravel()"
   ]
  },
  {
   "cell_type": "code",
   "execution_count": 11,
   "metadata": {
    "collapsed": true,
    "nbpresent": {
     "id": "9edc89e7-45d3-4350-9eb4-3e0938c3c55e"
    }
   },
   "outputs": [],
   "source": [
    "# Launch a classifier\n",
    "# XGBoost Training Parameter Reference: \n",
    "#   https://github.com/dmlc/xgboost/blob/master/doc/parameter.md\n",
    "classifier = xgb.XGBClassifier (max_depth=5,\n",
    "                                objective=\"multi:softmax\",\n",
    "                                num_class=3)"
   ]
  },
  {
   "cell_type": "code",
   "execution_count": 12,
   "metadata": {
    "nbpresent": {
     "id": "348296fb-8c9b-4598-ad2e-d1fe8e10f76a"
    }
   },
   "outputs": [
    {
     "data": {
      "text/plain": [
       "XGBClassifier(base_score=0.5, booster='gbtree', colsample_bylevel=1,\n",
       "       colsample_bytree=1, gamma=0, learning_rate=0.1, max_delta_step=0,\n",
       "       max_depth=5, min_child_weight=1, missing=None, n_estimators=100,\n",
       "       n_jobs=1, nthread=None, num_class=3, objective='multi:softmax',\n",
       "       random_state=0, reg_alpha=0, reg_lambda=1, scale_pos_weight=1,\n",
       "       seed=None, silent=True, subsample=1)"
      ]
     },
     "execution_count": 12,
     "metadata": {},
     "output_type": "execute_result"
    }
   ],
   "source": [
    "classifier"
   ]
  },
  {
   "cell_type": "code",
   "execution_count": 13,
   "metadata": {
    "nbpresent": {
     "id": "9839d7ce-e791-4d93-bc5f-28604ffde022"
    }
   },
   "outputs": [
    {
     "name": "stdout",
     "output_type": "stream",
     "text": [
      "[0]\tvalidation_0-merror:0.019048\tvalidation_0-mlogloss:0.968451\tvalidation_1-merror:0.044444\tvalidation_1-mlogloss:0.972033\n",
      "[1]\tvalidation_0-merror:0.019048\tvalidation_0-mlogloss:0.859166\tvalidation_1-merror:0.044444\tvalidation_1-mlogloss:0.866141\n",
      "[2]\tvalidation_0-merror:0.019048\tvalidation_0-mlogloss:0.766193\tvalidation_1-merror:0.044444\tvalidation_1-mlogloss:0.777684\n",
      "[3]\tvalidation_0-merror:0.019048\tvalidation_0-mlogloss:0.686141\tvalidation_1-merror:0.044444\tvalidation_1-mlogloss:0.70264\n",
      "[4]\tvalidation_0-merror:0.019048\tvalidation_0-mlogloss:0.616461\tvalidation_1-merror:0.044444\tvalidation_1-mlogloss:0.636643\n",
      "[5]\tvalidation_0-merror:0.019048\tvalidation_0-mlogloss:0.555607\tvalidation_1-merror:0.044444\tvalidation_1-mlogloss:0.579397\n",
      "[6]\tvalidation_0-merror:0.009524\tvalidation_0-mlogloss:0.50218\tvalidation_1-merror:0.044444\tvalidation_1-mlogloss:0.529519\n",
      "[7]\tvalidation_0-merror:0.009524\tvalidation_0-mlogloss:0.455069\tvalidation_1-merror:0.044444\tvalidation_1-mlogloss:0.485907\n",
      "[8]\tvalidation_0-merror:0.009524\tvalidation_0-mlogloss:0.413347\tvalidation_1-merror:0.044444\tvalidation_1-mlogloss:0.448054\n",
      "[9]\tvalidation_0-merror:0.009524\tvalidation_0-mlogloss:0.376282\tvalidation_1-merror:0.044444\tvalidation_1-mlogloss:0.414814\n",
      "[10]\tvalidation_0-merror:0.009524\tvalidation_0-mlogloss:0.343172\tvalidation_1-merror:0.044444\tvalidation_1-mlogloss:0.386267\n",
      "[11]\tvalidation_0-merror:0.009524\tvalidation_0-mlogloss:0.313737\tvalidation_1-merror:0.044444\tvalidation_1-mlogloss:0.361619\n",
      "[12]\tvalidation_0-merror:0.009524\tvalidation_0-mlogloss:0.287427\tvalidation_1-merror:0.044444\tvalidation_1-mlogloss:0.340004\n",
      "[13]\tvalidation_0-merror:0.009524\tvalidation_0-mlogloss:0.263866\tvalidation_1-merror:0.044444\tvalidation_1-mlogloss:0.321054\n",
      "[14]\tvalidation_0-merror:0.009524\tvalidation_0-mlogloss:0.242717\tvalidation_1-merror:0.044444\tvalidation_1-mlogloss:0.302998\n",
      "[15]\tvalidation_0-merror:0.009524\tvalidation_0-mlogloss:0.223721\tvalidation_1-merror:0.044444\tvalidation_1-mlogloss:0.287054\n",
      "[16]\tvalidation_0-merror:0.009524\tvalidation_0-mlogloss:0.206641\tvalidation_1-merror:0.044444\tvalidation_1-mlogloss:0.272554\n",
      "[17]\tvalidation_0-merror:0.009524\tvalidation_0-mlogloss:0.190998\tvalidation_1-merror:0.044444\tvalidation_1-mlogloss:0.260349\n",
      "[18]\tvalidation_0-merror:0.009524\tvalidation_0-mlogloss:0.177086\tvalidation_1-merror:0.044444\tvalidation_1-mlogloss:0.249044\n",
      "[19]\tvalidation_0-merror:0.009524\tvalidation_0-mlogloss:0.164518\tvalidation_1-merror:0.044444\tvalidation_1-mlogloss:0.239074\n",
      "[20]\tvalidation_0-merror:0.009524\tvalidation_0-mlogloss:0.152865\tvalidation_1-merror:0.044444\tvalidation_1-mlogloss:0.230843\n",
      "[21]\tvalidation_0-merror:0.009524\tvalidation_0-mlogloss:0.142569\tvalidation_1-merror:0.044444\tvalidation_1-mlogloss:0.223201\n",
      "[22]\tvalidation_0-merror:0.009524\tvalidation_0-mlogloss:0.133069\tvalidation_1-merror:0.044444\tvalidation_1-mlogloss:0.216889\n",
      "[23]\tvalidation_0-merror:0.009524\tvalidation_0-mlogloss:0.124475\tvalidation_1-merror:0.044444\tvalidation_1-mlogloss:0.212201\n",
      "[24]\tvalidation_0-merror:0.009524\tvalidation_0-mlogloss:0.116578\tvalidation_1-merror:0.044444\tvalidation_1-mlogloss:0.207464\n",
      "[25]\tvalidation_0-merror:0.009524\tvalidation_0-mlogloss:0.109388\tvalidation_1-merror:0.044444\tvalidation_1-mlogloss:0.202539\n",
      "[26]\tvalidation_0-merror:0.009524\tvalidation_0-mlogloss:0.102706\tvalidation_1-merror:0.044444\tvalidation_1-mlogloss:0.19847\n",
      "[27]\tvalidation_0-merror:0.009524\tvalidation_0-mlogloss:0.096693\tvalidation_1-merror:0.044444\tvalidation_1-mlogloss:0.194883\n",
      "[28]\tvalidation_0-merror:0.009524\tvalidation_0-mlogloss:0.091094\tvalidation_1-merror:0.044444\tvalidation_1-mlogloss:0.192599\n",
      "[29]\tvalidation_0-merror:0.009524\tvalidation_0-mlogloss:0.086016\tvalidation_1-merror:0.044444\tvalidation_1-mlogloss:0.18988\n",
      "[30]\tvalidation_0-merror:0.009524\tvalidation_0-mlogloss:0.080849\tvalidation_1-merror:0.044444\tvalidation_1-mlogloss:0.188672\n",
      "[31]\tvalidation_0-merror:0.009524\tvalidation_0-mlogloss:0.076116\tvalidation_1-merror:0.044444\tvalidation_1-mlogloss:0.187773\n",
      "[32]\tvalidation_0-merror:0.009524\tvalidation_0-mlogloss:0.072233\tvalidation_1-merror:0.044444\tvalidation_1-mlogloss:0.186487\n",
      "[33]\tvalidation_0-merror:0.009524\tvalidation_0-mlogloss:0.068298\tvalidation_1-merror:0.044444\tvalidation_1-mlogloss:0.186565\n",
      "[34]\tvalidation_0-merror:0.009524\tvalidation_0-mlogloss:0.064677\tvalidation_1-merror:0.044444\tvalidation_1-mlogloss:0.186888\n",
      "[35]\tvalidation_0-merror:0\tvalidation_0-mlogloss:0.061264\tvalidation_1-merror:0.044444\tvalidation_1-mlogloss:0.186897\n",
      "[36]\tvalidation_0-merror:0\tvalidation_0-mlogloss:0.058126\tvalidation_1-merror:0.044444\tvalidation_1-mlogloss:0.187066\n",
      "[37]\tvalidation_0-merror:0\tvalidation_0-mlogloss:0.055323\tvalidation_1-merror:0.044444\tvalidation_1-mlogloss:0.187471\n",
      "[38]\tvalidation_0-merror:0\tvalidation_0-mlogloss:0.052948\tvalidation_1-merror:0.044444\tvalidation_1-mlogloss:0.187759\n",
      "[39]\tvalidation_0-merror:0\tvalidation_0-mlogloss:0.050493\tvalidation_1-merror:0.044444\tvalidation_1-mlogloss:0.188192\n",
      "[40]\tvalidation_0-merror:0\tvalidation_0-mlogloss:0.048222\tvalidation_1-merror:0.044444\tvalidation_1-mlogloss:0.188882\n",
      "[41]\tvalidation_0-merror:0\tvalidation_0-mlogloss:0.046144\tvalidation_1-merror:0.044444\tvalidation_1-mlogloss:0.189646\n",
      "[42]\tvalidation_0-merror:0\tvalidation_0-mlogloss:0.044435\tvalidation_1-merror:0.044444\tvalidation_1-mlogloss:0.189939\n",
      "[43]\tvalidation_0-merror:0\tvalidation_0-mlogloss:0.042782\tvalidation_1-merror:0.044444\tvalidation_1-mlogloss:0.189474\n",
      "[44]\tvalidation_0-merror:0\tvalidation_0-mlogloss:0.041325\tvalidation_1-merror:0.044444\tvalidation_1-mlogloss:0.189186\n",
      "[45]\tvalidation_0-merror:0\tvalidation_0-mlogloss:0.039909\tvalidation_1-merror:0.044444\tvalidation_1-mlogloss:0.188876\n",
      "[46]\tvalidation_0-merror:0\tvalidation_0-mlogloss:0.038608\tvalidation_1-merror:0.044444\tvalidation_1-mlogloss:0.188662\n",
      "[47]\tvalidation_0-merror:0\tvalidation_0-mlogloss:0.037418\tvalidation_1-merror:0.044444\tvalidation_1-mlogloss:0.188523\n",
      "[48]\tvalidation_0-merror:0\tvalidation_0-mlogloss:0.036338\tvalidation_1-merror:0.044444\tvalidation_1-mlogloss:0.18845\n",
      "[49]\tvalidation_0-merror:0\tvalidation_0-mlogloss:0.035284\tvalidation_1-merror:0.044444\tvalidation_1-mlogloss:0.188392\n",
      "[50]\tvalidation_0-merror:0\tvalidation_0-mlogloss:0.034297\tvalidation_1-merror:0.044444\tvalidation_1-mlogloss:0.188445\n",
      "[51]\tvalidation_0-merror:0\tvalidation_0-mlogloss:0.033397\tvalidation_1-merror:0.044444\tvalidation_1-mlogloss:0.188514\n",
      "[52]\tvalidation_0-merror:0\tvalidation_0-mlogloss:0.032656\tvalidation_1-merror:0.044444\tvalidation_1-mlogloss:0.189728\n",
      "[53]\tvalidation_0-merror:0\tvalidation_0-mlogloss:0.031897\tvalidation_1-merror:0.044444\tvalidation_1-mlogloss:0.190261\n",
      "[54]\tvalidation_0-merror:0\tvalidation_0-mlogloss:0.031032\tvalidation_1-merror:0.044444\tvalidation_1-mlogloss:0.191722\n",
      "[55]\tvalidation_0-merror:0\tvalidation_0-mlogloss:0.03035\tvalidation_1-merror:0.044444\tvalidation_1-mlogloss:0.19112\n",
      "[56]\tvalidation_0-merror:0\tvalidation_0-mlogloss:0.029922\tvalidation_1-merror:0.044444\tvalidation_1-mlogloss:0.191974\n",
      "[57]\tvalidation_0-merror:0\tvalidation_0-mlogloss:0.029514\tvalidation_1-merror:0.044444\tvalidation_1-mlogloss:0.192823\n",
      "[58]\tvalidation_0-merror:0\tvalidation_0-mlogloss:0.029236\tvalidation_1-merror:0.044444\tvalidation_1-mlogloss:0.193924\n",
      "[59]\tvalidation_0-merror:0\tvalidation_0-mlogloss:0.028752\tvalidation_1-merror:0.044444\tvalidation_1-mlogloss:0.194091\n",
      "[60]\tvalidation_0-merror:0\tvalidation_0-mlogloss:0.028383\tvalidation_1-merror:0.044444\tvalidation_1-mlogloss:0.194928\n",
      "[61]\tvalidation_0-merror:0\tvalidation_0-mlogloss:0.02803\tvalidation_1-merror:0.044444\tvalidation_1-mlogloss:0.195713\n",
      "[62]\tvalidation_0-merror:0\tvalidation_0-mlogloss:0.027757\tvalidation_1-merror:0.044444\tvalidation_1-mlogloss:0.196874\n",
      "[63]\tvalidation_0-merror:0\tvalidation_0-mlogloss:0.027496\tvalidation_1-merror:0.044444\tvalidation_1-mlogloss:0.197396\n",
      "[64]\tvalidation_0-merror:0\tvalidation_0-mlogloss:0.02724\tvalidation_1-merror:0.044444\tvalidation_1-mlogloss:0.198524\n",
      "[65]\tvalidation_0-merror:0\tvalidation_0-mlogloss:0.026869\tvalidation_1-merror:0.044444\tvalidation_1-mlogloss:0.199506\n",
      "[66]\tvalidation_0-merror:0\tvalidation_0-mlogloss:0.026632\tvalidation_1-merror:0.044444\tvalidation_1-mlogloss:0.200698\n",
      "[67]\tvalidation_0-merror:0\tvalidation_0-mlogloss:0.026405\tvalidation_1-merror:0.044444\tvalidation_1-mlogloss:0.201751\n",
      "[68]\tvalidation_0-merror:0\tvalidation_0-mlogloss:0.026183\tvalidation_1-merror:0.044444\tvalidation_1-mlogloss:0.202187\n",
      "[69]\tvalidation_0-merror:0\tvalidation_0-mlogloss:0.025968\tvalidation_1-merror:0.044444\tvalidation_1-mlogloss:0.203212\n",
      "[70]\tvalidation_0-merror:0\tvalidation_0-mlogloss:0.025761\tvalidation_1-merror:0.044444\tvalidation_1-mlogloss:0.203627\n",
      "[71]\tvalidation_0-merror:0\tvalidation_0-mlogloss:0.025558\tvalidation_1-merror:0.044444\tvalidation_1-mlogloss:0.204625\n",
      "[72]\tvalidation_0-merror:0\tvalidation_0-mlogloss:0.025363\tvalidation_1-merror:0.044444\tvalidation_1-mlogloss:0.205709\n",
      "[73]\tvalidation_0-merror:0\tvalidation_0-mlogloss:0.025172\tvalidation_1-merror:0.044444\tvalidation_1-mlogloss:0.206089\n",
      "[74]\tvalidation_0-merror:0\tvalidation_0-mlogloss:0.024986\tvalidation_1-merror:0.044444\tvalidation_1-mlogloss:0.207043\n",
      "[75]\tvalidation_0-merror:0\tvalidation_0-mlogloss:0.024807\tvalidation_1-merror:0.044444\tvalidation_1-mlogloss:0.207406\n",
      "[76]\tvalidation_0-merror:0\tvalidation_0-mlogloss:0.024631\tvalidation_1-merror:0.044444\tvalidation_1-mlogloss:0.207852\n",
      "[77]\tvalidation_0-merror:0\tvalidation_0-mlogloss:0.024459\tvalidation_1-merror:0.044444\tvalidation_1-mlogloss:0.208768\n",
      "[78]\tvalidation_0-merror:0\tvalidation_0-mlogloss:0.024293\tvalidation_1-merror:0.044444\tvalidation_1-mlogloss:0.209101\n",
      "[79]\tvalidation_0-merror:0\tvalidation_0-mlogloss:0.024121\tvalidation_1-merror:0.044444\tvalidation_1-mlogloss:0.209429\n",
      "[80]\tvalidation_0-merror:0\tvalidation_0-mlogloss:0.023985\tvalidation_1-merror:0.044444\tvalidation_1-mlogloss:0.209466\n",
      "[81]\tvalidation_0-merror:0\tvalidation_0-mlogloss:0.023851\tvalidation_1-merror:0.044444\tvalidation_1-mlogloss:0.209583\n",
      "[82]\tvalidation_0-merror:0\tvalidation_0-mlogloss:0.023719\tvalidation_1-merror:0.044444\tvalidation_1-mlogloss:0.210169\n",
      "[83]\tvalidation_0-merror:0\tvalidation_0-mlogloss:0.023593\tvalidation_1-merror:0.044444\tvalidation_1-mlogloss:0.210834\n",
      "[84]\tvalidation_0-merror:0\tvalidation_0-mlogloss:0.023469\tvalidation_1-merror:0.044444\tvalidation_1-mlogloss:0.210864\n",
      "[85]\tvalidation_0-merror:0\tvalidation_0-mlogloss:0.023347\tvalidation_1-merror:0.044444\tvalidation_1-mlogloss:0.210599\n",
      "[86]\tvalidation_0-merror:0\tvalidation_0-mlogloss:0.023194\tvalidation_1-merror:0.044444\tvalidation_1-mlogloss:0.211439\n",
      "[87]\tvalidation_0-merror:0\tvalidation_0-mlogloss:0.023075\tvalidation_1-merror:0.044444\tvalidation_1-mlogloss:0.211476\n",
      "[88]\tvalidation_0-merror:0\tvalidation_0-mlogloss:0.02296\tvalidation_1-merror:0.044444\tvalidation_1-mlogloss:0.211588\n",
      "[89]\tvalidation_0-merror:0\tvalidation_0-mlogloss:0.022816\tvalidation_1-merror:0.044444\tvalidation_1-mlogloss:0.212412\n",
      "[90]\tvalidation_0-merror:0\tvalidation_0-mlogloss:0.022702\tvalidation_1-merror:0.044444\tvalidation_1-mlogloss:0.212449\n",
      "[91]\tvalidation_0-merror:0\tvalidation_0-mlogloss:0.022593\tvalidation_1-merror:0.044444\tvalidation_1-mlogloss:0.212649\n",
      "[92]\tvalidation_0-merror:0\tvalidation_0-mlogloss:0.022485\tvalidation_1-merror:0.044444\tvalidation_1-mlogloss:0.212689\n",
      "[93]\tvalidation_0-merror:0\tvalidation_0-mlogloss:0.022356\tvalidation_1-merror:0.044444\tvalidation_1-mlogloss:0.213043\n",
      "[94]\tvalidation_0-merror:0\tvalidation_0-mlogloss:0.022252\tvalidation_1-merror:0.044444\tvalidation_1-mlogloss:0.212745\n",
      "[95]\tvalidation_0-merror:0\tvalidation_0-mlogloss:0.022128\tvalidation_1-merror:0.044444\tvalidation_1-mlogloss:0.213533\n",
      "[96]\tvalidation_0-merror:0\tvalidation_0-mlogloss:0.022026\tvalidation_1-merror:0.044444\tvalidation_1-mlogloss:0.213652\n",
      "[97]\tvalidation_0-merror:0\tvalidation_0-mlogloss:0.021926\tvalidation_1-merror:0.044444\tvalidation_1-mlogloss:0.213697\n",
      "[98]\tvalidation_0-merror:0\tvalidation_0-mlogloss:0.021809\tvalidation_1-merror:0.044444\tvalidation_1-mlogloss:0.214471\n",
      "[99]\tvalidation_0-merror:0\tvalidation_0-mlogloss:0.021711\tvalidation_1-merror:0.044444\tvalidation_1-mlogloss:0.214194\n"
     ]
    },
    {
     "data": {
      "text/plain": [
       "XGBClassifier(base_score=0.5, booster='gbtree', colsample_bylevel=1,\n",
       "       colsample_bytree=1, gamma=0, learning_rate=0.1, max_delta_step=0,\n",
       "       max_depth=5, min_child_weight=1, missing=None, n_estimators=100,\n",
       "       n_jobs=1, nthread=None, num_class=3, objective='multi:softprob',\n",
       "       random_state=0, reg_alpha=0, reg_lambda=1, scale_pos_weight=1,\n",
       "       seed=None, silent=True, subsample=1)"
      ]
     },
     "execution_count": 13,
     "metadata": {},
     "output_type": "execute_result"
    }
   ],
   "source": [
    "classifier.fit(X_train,y_train, eval_set = [(X_train, y_train), (X_validation, y_validation)], eval_metric=['merror','mlogloss'])"
   ]
  },
  {
   "cell_type": "code",
   "execution_count": 14,
   "metadata": {
    "collapsed": true,
    "nbpresent": {
     "id": "e08f22c1-4346-4e2d-96a2-9974ed5c59ff"
    }
   },
   "outputs": [],
   "source": [
    "eval_result = classifier.evals_result()"
   ]
  },
  {
   "cell_type": "code",
   "execution_count": 15,
   "metadata": {
    "collapsed": true,
    "nbpresent": {
     "id": "092776c3-a611-4f40-91e2-664b3b99d05e"
    }
   },
   "outputs": [],
   "source": [
    "training_rounds = range(len(eval_result['validation_0']['mlogloss']))"
   ]
  },
  {
   "cell_type": "code",
   "execution_count": 16,
   "metadata": {
    "nbpresent": {
     "id": "2e9af3f7-fb85-4c52-83d5-ff9cae457294"
    }
   },
   "outputs": [
    {
     "name": "stdout",
     "output_type": "stream",
     "text": [
      "range(0, 100)\n"
     ]
    }
   ],
   "source": [
    "print(training_rounds)"
   ]
  },
  {
   "cell_type": "code",
   "execution_count": 17,
   "metadata": {
    "nbpresent": {
     "id": "5e71239a-e321-43ba-ac2c-993b57b3be3a"
    }
   },
   "outputs": [
    {
     "data": {
      "text/plain": [
       "<matplotlib.legend.Legend at 0x7f071ac0fc50>"
      ]
     },
     "execution_count": 17,
     "metadata": {},
     "output_type": "execute_result"
    },
    {
     "data": {
      "image/png": "[encoded data removed]",
      "text/plain": [
       "<Figure size 432x288 with 1 Axes>"
      ]
     },
     "metadata": {},
     "output_type": "display_data"
    }
   ],
   "source": [
    "plt.scatter(x=training_rounds,y=eval_result['validation_0']['mlogloss'],label='Training Error')\n",
    "plt.scatter(x=training_rounds,y=eval_result['validation_1']['mlogloss'],label='Validation Error')\n",
    "plt.grid(True)\n",
    "plt.xlabel('Iteration')\n",
    "plt.ylabel('LogLoss')\n",
    "plt.title('Training Vs Validation Error')\n",
    "plt.legend()"
   ]
  },
  {
   "cell_type": "code",
   "execution_count": 18,
   "metadata": {
    "nbpresent": {
     "id": "f144f315-6d38-429e-8c17-06c17a446198"
    }
   },
   "outputs": [
    {
     "data": {
      "text/plain": [
       "<matplotlib.axes._subplots.AxesSubplot at 0x7f071abe5240>"
      ]
     },
     "execution_count": 18,
     "metadata": {},
     "output_type": "execute_result"
    },
    {
     "data": {
      "image/png": "[encoded data removed]",
      "text/plain": [
       "<Figure size 432x288 with 1 Axes>"
      ]
     },
     "metadata": {},
     "output_type": "display_data"
    }
   ],
   "source": [
    "xgb.plot_importance(classifier)"
   ]
  },
  {
   "cell_type": "code",
   "execution_count": 19,
   "metadata": {
    "collapsed": true,
    "nbpresent": {
     "id": "3312675d-307c-4eff-b835-34f0e7f57924"
    }
   },
   "outputs": [],
   "source": [
    "df = pd.read_csv('iris_all.csv')"
   ]
  },
  {
   "cell_type": "code",
   "execution_count": 20,
   "metadata": {
    "nbpresent": {
     "id": "afad019f-88df-4893-bb3d-b7f2b7db214b"
    }
   },
   "outputs": [
    {
     "data": {
      "text/html": [
       "<div>\n",
       "<style scoped>\n",
       "    .dataframe tbody tr th:only-of-type {\n",
       "        vertical-align: middle;\n",
       "    }\n",
       "\n",
       "    .dataframe tbody tr th {\n",
       "        vertical-align: top;\n",
       "    }\n",
       "\n",
       "    .dataframe thead th {\n",
       "        text-align: right;\n",
       "    }\n",
       "</style>\n",
       "<table border=\"1\" class=\"dataframe\">\n",
       "  <thead>\n",
       "    <tr style=\"text-align: right;\">\n",
       "      <th></th>\n",
       "      <th>sepal_length</th>\n",
       "      <th>sepal_width</th>\n",
       "      <th>petal_length</th>\n",
       "      <th>petal_width</th>\n",
       "      <th>class</th>\n",
       "    </tr>\n",
       "  </thead>\n",
       "  <tbody>\n",
       "    <tr>\n",
       "      <th>0</th>\n",
       "      <td>5.1</td>\n",
       "      <td>3.5</td>\n",
       "      <td>1.4</td>\n",
       "      <td>0.2</td>\n",
       "      <td>Iris-setosa</td>\n",
       "    </tr>\n",
       "    <tr>\n",
       "      <th>1</th>\n",
       "      <td>4.9</td>\n",
       "      <td>3.0</td>\n",
       "      <td>1.4</td>\n",
       "      <td>0.2</td>\n",
       "      <td>Iris-setosa</td>\n",
       "    </tr>\n",
       "    <tr>\n",
       "      <th>2</th>\n",
       "      <td>4.7</td>\n",
       "      <td>3.2</td>\n",
       "      <td>1.3</td>\n",
       "      <td>0.2</td>\n",
       "      <td>Iris-setosa</td>\n",
       "    </tr>\n",
       "    <tr>\n",
       "      <th>3</th>\n",
       "      <td>4.6</td>\n",
       "      <td>3.1</td>\n",
       "      <td>1.5</td>\n",
       "      <td>0.2</td>\n",
       "      <td>Iris-setosa</td>\n",
       "    </tr>\n",
       "    <tr>\n",
       "      <th>4</th>\n",
       "      <td>5.0</td>\n",
       "      <td>3.6</td>\n",
       "      <td>1.4</td>\n",
       "      <td>0.2</td>\n",
       "      <td>Iris-setosa</td>\n",
       "    </tr>\n",
       "  </tbody>\n",
       "</table>\n",
       "</div>"
      ],
      "text/plain": [
       "   sepal_length  sepal_width  petal_length  petal_width        class\n",
       "0           5.1          3.5           1.4          0.2  Iris-setosa\n",
       "1           4.9          3.0           1.4          0.2  Iris-setosa\n",
       "2           4.7          3.2           1.3          0.2  Iris-setosa\n",
       "3           4.6          3.1           1.5          0.2  Iris-setosa\n",
       "4           5.0          3.6           1.4          0.2  Iris-setosa"
      ]
     },
     "execution_count": 20,
     "metadata": {},
     "output_type": "execute_result"
    }
   ],
   "source": [
    "df.head()"
   ]
  },
  {
   "cell_type": "code",
   "execution_count": 21,
   "metadata": {
    "nbpresent": {
     "id": "9b5cb70d-6069-4511-810e-fd17e72667dd"
    }
   },
   "outputs": [
    {
     "name": "stdout",
     "output_type": "stream",
     "text": [
      "   sepal_length  sepal_width  petal_length  petal_width\n",
      "0           5.1          3.5           1.4          0.2\n",
      "1           4.9          3.0           1.4          0.2\n",
      "2           4.7          3.2           1.3          0.2\n",
      "3           4.6          3.1           1.5          0.2\n",
      "4           5.0          3.6           1.4          0.2\n"
     ]
    }
   ],
   "source": [
    "X_test = df.iloc[:,:-1]\n",
    "print(X_test[:5])"
   ]
  },
  {
   "cell_type": "code",
   "execution_count": 22,
   "metadata": {
    "collapsed": true,
    "nbpresent": {
     "id": "f611c852-50e3-4a1a-9134-c1c6e82ad780"
    }
   },
   "outputs": [
    {
     "name": "stderr",
     "output_type": "stream",
     "text": [
      "/home/ec2-user/anaconda3/envs/python3/lib/python3.6/site-packages/sklearn/preprocessing/label.py:151: DeprecationWarning: The truth value of an empty array is ambiguous. Returning False, but in future this will result in an error. Use `array.size > 0` to check that an array is not empty.\n",
      "  if diff:\n"
     ]
    }
   ],
   "source": [
    "result = classifier.predict(X_test)"
   ]
  },
  {
   "cell_type": "code",
   "execution_count": 23,
   "metadata": {},
   "outputs": [
    {
     "data": {
      "text/plain": [
       "array([0, 0, 0, 0, 0])"
      ]
     },
     "execution_count": 23,
     "metadata": {},
     "output_type": "execute_result"
    }
   ],
   "source": [
    "result[:5]"
   ]
  },
  {
   "cell_type": "code",
   "execution_count": 24,
   "metadata": {
    "collapsed": true,
    "nbpresent": {
     "id": "2c573c2b-4143-4e01-b107-e6b871ce0249"
    }
   },
   "outputs": [
    {
     "name": "stderr",
     "output_type": "stream",
     "text": [
      "/home/ec2-user/anaconda3/envs/python3/lib/python3.6/site-packages/sklearn/preprocessing/label.py:151: DeprecationWarning: The truth value of an empty array is ambiguous. Returning False, but in future this will result in an error. Use `array.size > 0` to check that an array is not empty.\n",
      "  if diff:\n"
     ]
    }
   ],
   "source": [
    "df['predicted_class'] = le.inverse_transform(result)"
   ]
  },
  {
   "cell_type": "code",
   "execution_count": 25,
   "metadata": {
    "nbpresent": {
     "id": "5ad0fa04-6896-46b5-bc23-40d61480d7ca"
    }
   },
   "outputs": [
    {
     "data": {
      "text/html": [
       "<div>\n",
       "<style scoped>\n",
       "    .dataframe tbody tr th:only-of-type {\n",
       "        vertical-align: middle;\n",
       "    }\n",
       "\n",
       "    .dataframe tbody tr th {\n",
       "        vertical-align: top;\n",
       "    }\n",
       "\n",
       "    .dataframe thead th {\n",
       "        text-align: right;\n",
       "    }\n",
       "</style>\n",
       "<table border=\"1\" class=\"dataframe\">\n",
       "  <thead>\n",
       "    <tr style=\"text-align: right;\">\n",
       "      <th></th>\n",
       "      <th>sepal_length</th>\n",
       "      <th>sepal_width</th>\n",
       "      <th>petal_length</th>\n",
       "      <th>petal_width</th>\n",
       "      <th>class</th>\n",
       "      <th>predicted_class</th>\n",
       "    </tr>\n",
       "  </thead>\n",
       "  <tbody>\n",
       "    <tr>\n",
       "      <th>0</th>\n",
       "      <td>5.1</td>\n",
       "      <td>3.5</td>\n",
       "      <td>1.4</td>\n",
       "      <td>0.2</td>\n",
       "      <td>Iris-setosa</td>\n",
       "      <td>Iris-setosa</td>\n",
       "    </tr>\n",
       "    <tr>\n",
       "      <th>1</th>\n",
       "      <td>4.9</td>\n",
       "      <td>3.0</td>\n",
       "      <td>1.4</td>\n",
       "      <td>0.2</td>\n",
       "      <td>Iris-setosa</td>\n",
       "      <td>Iris-setosa</td>\n",
       "    </tr>\n",
       "    <tr>\n",
       "      <th>2</th>\n",
       "      <td>4.7</td>\n",
       "      <td>3.2</td>\n",
       "      <td>1.3</td>\n",
       "      <td>0.2</td>\n",
       "      <td>Iris-setosa</td>\n",
       "      <td>Iris-setosa</td>\n",
       "    </tr>\n",
       "    <tr>\n",
       "      <th>3</th>\n",
       "      <td>4.6</td>\n",
       "      <td>3.1</td>\n",
       "      <td>1.5</td>\n",
       "      <td>0.2</td>\n",
       "      <td>Iris-setosa</td>\n",
       "      <td>Iris-setosa</td>\n",
       "    </tr>\n",
       "    <tr>\n",
       "      <th>4</th>\n",
       "      <td>5.0</td>\n",
       "      <td>3.6</td>\n",
       "      <td>1.4</td>\n",
       "      <td>0.2</td>\n",
       "      <td>Iris-setosa</td>\n",
       "      <td>Iris-setosa</td>\n",
       "    </tr>\n",
       "  </tbody>\n",
       "</table>\n",
       "</div>"
      ],
      "text/plain": [
       "   sepal_length  sepal_width  petal_length  petal_width        class  \\\n",
       "0           5.1          3.5           1.4          0.2  Iris-setosa   \n",
       "1           4.9          3.0           1.4          0.2  Iris-setosa   \n",
       "2           4.7          3.2           1.3          0.2  Iris-setosa   \n",
       "3           4.6          3.1           1.5          0.2  Iris-setosa   \n",
       "4           5.0          3.6           1.4          0.2  Iris-setosa   \n",
       "\n",
       "  predicted_class  \n",
       "0     Iris-setosa  \n",
       "1     Iris-setosa  \n",
       "2     Iris-setosa  \n",
       "3     Iris-setosa  \n",
       "4     Iris-setosa  "
      ]
     },
     "execution_count": 25,
     "metadata": {},
     "output_type": "execute_result"
    }
   ],
   "source": [
    "df.head()"
   ]
  },
  {
   "cell_type": "code",
   "execution_count": 26,
   "metadata": {},
   "outputs": [
    {
     "name": "stdout",
     "output_type": "stream",
     "text": [
      "Confusion matrix - Actual versus Predicted\n"
     ]
    },
    {
     "data": {
      "text/html": [
       "<div>\n",
       "<style scoped>\n",
       "    .dataframe tbody tr th:only-of-type {\n",
       "        vertical-align: middle;\n",
       "    }\n",
       "\n",
       "    .dataframe tbody tr th {\n",
       "        vertical-align: top;\n",
       "    }\n",
       "\n",
       "    .dataframe thead th {\n",
       "        text-align: right;\n",
       "    }\n",
       "</style>\n",
       "<table border=\"1\" class=\"dataframe\">\n",
       "  <thead>\n",
       "    <tr style=\"text-align: right;\">\n",
       "      <th>predicted_class</th>\n",
       "      <th>Iris-setosa</th>\n",
       "      <th>Iris-versicolor</th>\n",
       "      <th>Iris-virginica</th>\n",
       "    </tr>\n",
       "    <tr>\n",
       "      <th>class</th>\n",
       "      <th></th>\n",
       "      <th></th>\n",
       "      <th></th>\n",
       "    </tr>\n",
       "  </thead>\n",
       "  <tbody>\n",
       "    <tr>\n",
       "      <th>Iris-setosa</th>\n",
       "      <td>50</td>\n",
       "      <td>0</td>\n",
       "      <td>0</td>\n",
       "    </tr>\n",
       "    <tr>\n",
       "      <th>Iris-versicolor</th>\n",
       "      <td>0</td>\n",
       "      <td>49</td>\n",
       "      <td>1</td>\n",
       "    </tr>\n",
       "    <tr>\n",
       "      <th>Iris-virginica</th>\n",
       "      <td>0</td>\n",
       "      <td>1</td>\n",
       "      <td>49</td>\n",
       "    </tr>\n",
       "  </tbody>\n",
       "</table>\n",
       "</div>"
      ],
      "text/plain": [
       "predicted_class  Iris-setosa  Iris-versicolor  Iris-virginica\n",
       "class                                                        \n",
       "Iris-setosa               50                0               0\n",
       "Iris-versicolor            0               49               1\n",
       "Iris-virginica             0                1              49"
      ]
     },
     "execution_count": 26,
     "metadata": {},
     "output_type": "execute_result"
    }
   ],
   "source": [
    "print('Confusion matrix - Actual versus Predicted')\n",
    "pd.crosstab(df['class'], df['predicted_class'])"
   ]
  },
  {
   "cell_type": "code",
   "execution_count": 27,
   "metadata": {
    "nbpresent": {
     "id": "e9c55c8c-a8cf-43b6-95b9-cb3c8f38e730"
    }
   },
   "outputs": [
    {
     "name": "stdout",
     "output_type": "stream",
     "text": [
      "                 precision    recall  f1-score   support\n",
      "\n",
      "    Iris-setosa       1.00      1.00      1.00        50\n",
      "Iris-versicolor       0.98      0.98      0.98        50\n",
      " Iris-virginica       0.98      0.98      0.98        50\n",
      "\n",
      "    avg / total       0.99      0.99      0.99       150\n",
      "\n"
     ]
    }
   ],
   "source": [
    "import sklearn.metrics as metrics\n",
    "print(metrics.classification_report(df['class'], df['predicted_class']))"
   ]
  },
  {
   "cell_type": "code",
   "execution_count": null,
   "metadata": {
    "collapsed": true
   },
   "outputs": [],
   "source": []
  }
 ],
 "metadata": {
  "kernelspec": {
   "display_name": "conda_python3",
   "language": "python",
   "name": "conda_python3"
  },
  "language_info": {
   "codemirror_mode": {
    "name": "ipython",
    "version": 3
   },
   "file_extension": ".py",
   "mimetype": "text/x-python",
   "name": "python",
   "nbconvert_exporter": "python",
   "pygments_lexer": "ipython3",
   "version": "3.6.5"
  }
 },
 "nbformat": 4,
 "nbformat_minor": 2
}
