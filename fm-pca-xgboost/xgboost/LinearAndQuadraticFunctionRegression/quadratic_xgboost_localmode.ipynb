{
 "cells": [
  {
   "cell_type": "markdown",
   "metadata": {},
   "source": [
    "## Train a model with quadratic data using XGBoost algorithm\n",
    "###  Model is trained with XGBoost installed in notebook instance\n",
    "###  In the later examples, we will train using SageMaker's XGBoost algorithm"
   ]
  },
  {
   "cell_type": "code",
   "execution_count": 1,
   "metadata": {},
   "outputs": [
    {
     "name": "stdout",
     "output_type": "stream",
     "text": [
      "Solving environment: done\n",
      "\n",
      "\n",
      "==> WARNING: A newer version of conda exists. <==\n",
      "  current version: 4.5.11\n",
      "  latest version: 4.6.2\n",
      "\n",
      "Please update conda by running\n",
      "\n",
      "    $ conda update -n base -c defaults conda\n",
      "\n",
      "\n",
      "\n",
      "## Package Plan ##\n",
      "\n",
      "  environment location: /home/ec2-user/anaconda3/envs/python3\n",
      "\n",
      "  added / updated specs: \n",
      "    - xgboost\n",
      "\n",
      "\n",
      "The following packages will be downloaded:\n",
      "\n",
      "    package                    |            build\n",
      "    ---------------------------|-----------------\n",
      "    openssl-1.0.2p             |    h14c3975_1002         3.1 MB  conda-forge\n",
      "    libstdcxx-ng-7.3.0         |       hdf63c60_0         2.6 MB  conda-forge\n",
      "    py-xgboost-0.81            |py36hf484d3e_1000          66 KB  conda-forge\n",
      "    xgboost-0.81               |py36hf484d3e_1000           9 KB  conda-forge\n",
      "    libxgboost-0.81            |    hf484d3e_1000         3.8 MB  conda-forge\n",
      "    _py-xgboost-mutex-2.0      |            cpu_0           8 KB  conda-forge\n",
      "    ------------------------------------------------------------\n",
      "                                           Total:         9.5 MB\n",
      "\n",
      "The following NEW packages will be INSTALLED:\n",
      "\n",
      "    _py-xgboost-mutex: 2.0-cpu_0              conda-forge\n",
      "    libxgboost:        0.81-hf484d3e_1000     conda-forge\n",
      "    py-xgboost:        0.81-py36hf484d3e_1000 conda-forge\n",
      "    xgboost:           0.81-py36hf484d3e_1000 conda-forge\n",
      "\n",
      "The following packages will be UPDATED:\n",
      "\n",
      "    ca-certificates:   2018.8.24-ha4d7672_0   conda-forge --> 2018.11.29-ha4d7672_0 conda-forge\n",
      "    certifi:           2018.8.24-py36_1       conda-forge --> 2018.11.29-py36_1000  conda-forge\n",
      "    libstdcxx-ng:      7.2.0-hdf63c60_3                   --> 7.3.0-hdf63c60_0      conda-forge\n",
      "    openssl:           1.0.2p-h470a237_0      conda-forge --> 1.0.2p-h14c3975_1002  conda-forge\n",
      "\n",
      "\n",
      "Downloading and Extracting Packages\n",
      "openssl-1.0.2p       | 3.1 MB    | ##################################### | 100% \n",
      "libstdcxx-ng-7.3.0   | 2.6 MB    | ##################################### | 100% \n",
      "py-xgboost-0.81      | 66 KB     | ##################################### | 100% \n",
      "xgboost-0.81         | 9 KB      | ##################################### | 100% \n",
      "libxgboost-0.81      | 3.8 MB    | ##################################### | 100% \n",
      "_py-xgboost-mutex-2. | 8 KB      | ##################################### | 100% \n",
      "Preparing transaction: done\n",
      "Verifying transaction: done\n",
      "Executing transaction: done\n"
     ]
    }
   ],
   "source": [
    "# Install xgboost in notebook instance.\n",
    "#### Command to install xgboost\n",
    "!conda install -y -c conda-forge xgboost"
   ]
  },
  {
   "cell_type": "code",
   "execution_count": 2,
   "metadata": {
    "collapsed": true
   },
   "outputs": [],
   "source": [
    "%matplotlib inline\n",
    "import sys\n",
    "import numpy as np\n",
    "import pandas as pd\n",
    "import matplotlib.pyplot as plt\n",
    "import xgboost as xgb"
   ]
  },
  {
   "cell_type": "code",
   "execution_count": 3,
   "metadata": {
    "collapsed": true
   },
   "outputs": [],
   "source": [
    "df = pd.read_csv('quadratic_all.csv')"
   ]
  },
  {
   "cell_type": "code",
   "execution_count": 4,
   "metadata": {},
   "outputs": [
    {
     "data": {
      "text/html": [
       "<div>\n",
       "<style scoped>\n",
       "    .dataframe tbody tr th:only-of-type {\n",
       "        vertical-align: middle;\n",
       "    }\n",
       "\n",
       "    .dataframe tbody tr th {\n",
       "        vertical-align: top;\n",
       "    }\n",
       "\n",
       "    .dataframe thead th {\n",
       "        text-align: right;\n",
       "    }\n",
       "</style>\n",
       "<table border=\"1\" class=\"dataframe\">\n",
       "  <thead>\n",
       "    <tr style=\"text-align: right;\">\n",
       "      <th></th>\n",
       "      <th>x</th>\n",
       "      <th>y</th>\n",
       "      <th>y_noisy</th>\n",
       "    </tr>\n",
       "  </thead>\n",
       "  <tbody>\n",
       "    <tr>\n",
       "      <th>0</th>\n",
       "      <td>-11.120273</td>\n",
       "      <td>921.068658</td>\n",
       "      <td>921.016598</td>\n",
       "    </tr>\n",
       "    <tr>\n",
       "      <th>1</th>\n",
       "      <td>14.829292</td>\n",
       "      <td>805.465821</td>\n",
       "      <td>805.082846</td>\n",
       "    </tr>\n",
       "    <tr>\n",
       "      <th>2</th>\n",
       "      <td>-11.731234</td>\n",
       "      <td>1004.927608</td>\n",
       "      <td>999.503858</td>\n",
       "    </tr>\n",
       "    <tr>\n",
       "      <th>3</th>\n",
       "      <td>16.744436</td>\n",
       "      <td>1063.758703</td>\n",
       "      <td>1066.740610</td>\n",
       "    </tr>\n",
       "    <tr>\n",
       "      <th>4</th>\n",
       "      <td>-0.463552</td>\n",
       "      <td>58.736111</td>\n",
       "      <td>54.262724</td>\n",
       "    </tr>\n",
       "  </tbody>\n",
       "</table>\n",
       "</div>"
      ],
      "text/plain": [
       "           x            y      y_noisy\n",
       "0 -11.120273   921.068658   921.016598\n",
       "1  14.829292   805.465821   805.082846\n",
       "2 -11.731234  1004.927608   999.503858\n",
       "3  16.744436  1063.758703  1066.740610\n",
       "4  -0.463552    58.736111    54.262724"
      ]
     },
     "execution_count": 4,
     "metadata": {},
     "output_type": "execute_result"
    }
   ],
   "source": [
    "df.head()"
   ]
  },
  {
   "cell_type": "code",
   "execution_count": 5,
   "metadata": {},
   "outputs": [
    {
     "data": {
      "text/plain": [
       "<matplotlib.legend.Legend at 0x7ff42e7ae198>"
      ]
     },
     "execution_count": 5,
     "metadata": {},
     "output_type": "execute_result"
    },
    {
     "data": {
      "image/png": "[encoded data removed]",
      "text/plain": [
       "<Figure size 432x288 with 1 Axes>"
      ]
     },
     "metadata": {},
     "output_type": "display_data"
    }
   ],
   "source": [
    "plt.scatter(x=df.x,y=df.y,label='ideal fit')\n",
    "plt.scatter(x=df.x,y=df.y_noisy, color='r',marker='+',label='Target')\n",
    "plt.grid(True)\n",
    "plt.xlabel('Input Feature')\n",
    "plt.ylabel('Target')\n",
    "plt.legend()"
   ]
  },
  {
   "cell_type": "code",
   "execution_count": 6,
   "metadata": {
    "collapsed": true
   },
   "outputs": [],
   "source": [
    "train_file = 'quadratic_train.csv'\n",
    "validation_file = 'quadratic_validation.csv'"
   ]
  },
  {
   "cell_type": "code",
   "execution_count": 7,
   "metadata": {
    "collapsed": true
   },
   "outputs": [],
   "source": [
    "# Specify the column names as the file does not have column header\n",
    "df_train = pd.read_csv(train_file,names=['y_noisy','x'])\n",
    "df_validation = pd.read_csv(validation_file,names=['y_noisy','x'])"
   ]
  },
  {
   "cell_type": "code",
   "execution_count": 8,
   "metadata": {},
   "outputs": [
    {
     "data": {
      "text/html": [
       "<div>\n",
       "<style scoped>\n",
       "    .dataframe tbody tr th:only-of-type {\n",
       "        vertical-align: middle;\n",
       "    }\n",
       "\n",
       "    .dataframe tbody tr th {\n",
       "        vertical-align: top;\n",
       "    }\n",
       "\n",
       "    .dataframe thead th {\n",
       "        text-align: right;\n",
       "    }\n",
       "</style>\n",
       "<table border=\"1\" class=\"dataframe\">\n",
       "  <thead>\n",
       "    <tr style=\"text-align: right;\">\n",
       "      <th></th>\n",
       "      <th>y_noisy</th>\n",
       "      <th>x</th>\n",
       "    </tr>\n",
       "  </thead>\n",
       "  <tbody>\n",
       "    <tr>\n",
       "      <th>0</th>\n",
       "      <td>330.577283</td>\n",
       "      <td>-5.558063</td>\n",
       "    </tr>\n",
       "    <tr>\n",
       "      <th>1</th>\n",
       "      <td>46.574088</td>\n",
       "      <td>-0.119586</td>\n",
       "    </tr>\n",
       "    <tr>\n",
       "      <th>2</th>\n",
       "      <td>295.927707</td>\n",
       "      <td>-5.102702</td>\n",
       "    </tr>\n",
       "    <tr>\n",
       "      <th>3</th>\n",
       "      <td>346.620938</td>\n",
       "      <td>10.421262</td>\n",
       "    </tr>\n",
       "    <tr>\n",
       "      <th>4</th>\n",
       "      <td>440.728826</td>\n",
       "      <td>-6.897442</td>\n",
       "    </tr>\n",
       "  </tbody>\n",
       "</table>\n",
       "</div>"
      ],
      "text/plain": [
       "      y_noisy          x\n",
       "0  330.577283  -5.558063\n",
       "1   46.574088  -0.119586\n",
       "2  295.927707  -5.102702\n",
       "3  346.620938  10.421262\n",
       "4  440.728826  -6.897442"
      ]
     },
     "execution_count": 8,
     "metadata": {},
     "output_type": "execute_result"
    }
   ],
   "source": [
    "df_train.head()"
   ]
  },
  {
   "cell_type": "code",
   "execution_count": 9,
   "metadata": {},
   "outputs": [
    {
     "data": {
      "text/html": [
       "<div>\n",
       "<style scoped>\n",
       "    .dataframe tbody tr th:only-of-type {\n",
       "        vertical-align: middle;\n",
       "    }\n",
       "\n",
       "    .dataframe tbody tr th {\n",
       "        vertical-align: top;\n",
       "    }\n",
       "\n",
       "    .dataframe thead th {\n",
       "        text-align: right;\n",
       "    }\n",
       "</style>\n",
       "<table border=\"1\" class=\"dataframe\">\n",
       "  <thead>\n",
       "    <tr style=\"text-align: right;\">\n",
       "      <th></th>\n",
       "      <th>y_noisy</th>\n",
       "      <th>x</th>\n",
       "    </tr>\n",
       "  </thead>\n",
       "  <tbody>\n",
       "    <tr>\n",
       "      <th>0</th>\n",
       "      <td>538.848844</td>\n",
       "      <td>12.477768</td>\n",
       "    </tr>\n",
       "    <tr>\n",
       "      <th>1</th>\n",
       "      <td>1006.975370</td>\n",
       "      <td>-11.739893</td>\n",
       "    </tr>\n",
       "    <tr>\n",
       "      <th>2</th>\n",
       "      <td>313.809512</td>\n",
       "      <td>9.967386</td>\n",
       "    </tr>\n",
       "    <tr>\n",
       "      <th>3</th>\n",
       "      <td>452.720007</td>\n",
       "      <td>11.560405</td>\n",
       "    </tr>\n",
       "    <tr>\n",
       "      <th>4</th>\n",
       "      <td>830.099204</td>\n",
       "      <td>-10.414382</td>\n",
       "    </tr>\n",
       "  </tbody>\n",
       "</table>\n",
       "</div>"
      ],
      "text/plain": [
       "       y_noisy          x\n",
       "0   538.848844  12.477768\n",
       "1  1006.975370 -11.739893\n",
       "2   313.809512   9.967386\n",
       "3   452.720007  11.560405\n",
       "4   830.099204 -10.414382"
      ]
     },
     "execution_count": 9,
     "metadata": {},
     "output_type": "execute_result"
    }
   ],
   "source": [
    "df_validation.head()"
   ]
  },
  {
   "cell_type": "code",
   "execution_count": 10,
   "metadata": {},
   "outputs": [
    {
     "data": {
      "text/plain": [
       "<matplotlib.legend.Legend at 0x7ff42e6d0c18>"
      ]
     },
     "execution_count": 10,
     "metadata": {},
     "output_type": "execute_result"
    },
    {
     "data": {
      "image/png": "[encoded data removed]",
      "text/plain": [
       "<Figure size 432x288 with 1 Axes>"
      ]
     },
     "metadata": {},
     "output_type": "display_data"
    }
   ],
   "source": [
    "plt.scatter(x=df_train.x,y=df_train.y_noisy,label='Training')\n",
    "plt.scatter(x=df_validation.x,y=df_validation.y_noisy, color='r',marker='+',label='Validation')\n",
    "plt.grid(True)\n",
    "plt.xlabel('Input Feature')\n",
    "plt.ylabel('Target')\n",
    "plt.title('Training and Validation Data')\n",
    "plt.legend()"
   ]
  },
  {
   "cell_type": "code",
   "execution_count": 11,
   "metadata": {
    "collapsed": true
   },
   "outputs": [],
   "source": [
    "X_train = df_train.iloc[:,1:] # Features: 1st column onwards \n",
    "y_train = df_train.iloc[:,0].ravel() # Target: 0th column\n",
    "\n",
    "X_validation = df_validation.iloc[:,1:]\n",
    "y_validation = df_validation.iloc[:,0].ravel()"
   ]
  },
  {
   "cell_type": "code",
   "execution_count": 12,
   "metadata": {
    "collapsed": true
   },
   "outputs": [],
   "source": [
    "# max_depth = 5,objective=\"reg:linear\",num_round = 50\n",
    "# XGBoost Training Parameter Reference: \n",
    "#   https://github.com/dmlc/xgboost/blob/master/doc/parameter.md\n",
    "regressor = xgb.XGBRegressor()"
   ]
  },
  {
   "cell_type": "code",
   "execution_count": 13,
   "metadata": {},
   "outputs": [
    {
     "data": {
      "text/plain": [
       "XGBRegressor(base_score=0.5, booster='gbtree', colsample_bylevel=1,\n",
       "       colsample_bytree=1, gamma=0, learning_rate=0.1, max_delta_step=0,\n",
       "       max_depth=3, min_child_weight=1, missing=None, n_estimators=100,\n",
       "       n_jobs=1, nthread=None, objective='reg:linear', random_state=0,\n",
       "       reg_alpha=0, reg_lambda=1, scale_pos_weight=1, seed=None,\n",
       "       silent=True, subsample=1)"
      ]
     },
     "execution_count": 13,
     "metadata": {},
     "output_type": "execute_result"
    }
   ],
   "source": [
    "regressor"
   ]
  },
  {
   "cell_type": "code",
   "execution_count": 14,
   "metadata": {},
   "outputs": [
    {
     "name": "stdout",
     "output_type": "stream",
     "text": [
      "[0]\tvalidation_0-rmse:899.299\tvalidation_1-rmse:845.125\n",
      "[1]\tvalidation_0-rmse:817.044\tvalidation_1-rmse:767.829\n",
      "[2]\tvalidation_0-rmse:742.493\tvalidation_1-rmse:695.237\n",
      "[3]\tvalidation_0-rmse:675.123\tvalidation_1-rmse:631.871\n",
      "[4]\tvalidation_0-rmse:614.837\tvalidation_1-rmse:576.151\n",
      "[5]\tvalidation_0-rmse:559.199\tvalidation_1-rmse:524.75\n",
      "[6]\tvalidation_0-rmse:508.077\tvalidation_1-rmse:475.943\n",
      "[7]\tvalidation_0-rmse:462.79\tvalidation_1-rmse:434.542\n",
      "[8]\tvalidation_0-rmse:420.62\tvalidation_1-rmse:393.627\n",
      "[9]\tvalidation_0-rmse:384.311\tvalidation_1-rmse:360.151\n",
      "[10]\tvalidation_0-rmse:350.289\tvalidation_1-rmse:328.135\n",
      "[11]\tvalidation_0-rmse:318.433\tvalidation_1-rmse:298.033\n",
      "[12]\tvalidation_0-rmse:289.441\tvalidation_1-rmse:271.389\n",
      "[13]\tvalidation_0-rmse:263.101\tvalidation_1-rmse:247.626\n",
      "[14]\tvalidation_0-rmse:239.397\tvalidation_1-rmse:226.58\n",
      "[15]\tvalidation_0-rmse:218.721\tvalidation_1-rmse:207.903\n",
      "[16]\tvalidation_0-rmse:199.095\tvalidation_1-rmse:189.482\n",
      "[17]\tvalidation_0-rmse:181.244\tvalidation_1-rmse:172.91\n",
      "[18]\tvalidation_0-rmse:165.047\tvalidation_1-rmse:157.532\n",
      "[19]\tvalidation_0-rmse:151.476\tvalidation_1-rmse:145.329\n",
      "[20]\tvalidation_0-rmse:138.28\tvalidation_1-rmse:133.564\n",
      "[21]\tvalidation_0-rmse:126.172\tvalidation_1-rmse:121.953\n",
      "[22]\tvalidation_0-rmse:115.859\tvalidation_1-rmse:112.29\n",
      "[23]\tvalidation_0-rmse:105.72\tvalidation_1-rmse:102.581\n",
      "[24]\tvalidation_0-rmse:96.6137\tvalidation_1-rmse:94.0746\n",
      "[25]\tvalidation_0-rmse:88.3523\tvalidation_1-rmse:86.2956\n",
      "[26]\tvalidation_0-rmse:81.5259\tvalidation_1-rmse:80.1444\n",
      "[27]\tvalidation_0-rmse:74.927\tvalidation_1-rmse:73.9391\n",
      "[28]\tvalidation_0-rmse:68.5748\tvalidation_1-rmse:67.779\n",
      "[29]\tvalidation_0-rmse:62.8179\tvalidation_1-rmse:62.3392\n",
      "[30]\tvalidation_0-rmse:57.5814\tvalidation_1-rmse:57.2104\n",
      "[31]\tvalidation_0-rmse:53.3733\tvalidation_1-rmse:53.3695\n",
      "[32]\tvalidation_0-rmse:49.3565\tvalidation_1-rmse:49.5873\n",
      "[33]\tvalidation_0-rmse:45.4535\tvalidation_1-rmse:46.1537\n",
      "[34]\tvalidation_0-rmse:41.8465\tvalidation_1-rmse:42.8607\n",
      "[35]\tvalidation_0-rmse:39.0201\tvalidation_1-rmse:40.425\n",
      "[36]\tvalidation_0-rmse:36.4772\tvalidation_1-rmse:38.2878\n",
      "[37]\tvalidation_0-rmse:33.8389\tvalidation_1-rmse:35.8619\n",
      "[38]\tvalidation_0-rmse:31.7787\tvalidation_1-rmse:34.2629\n",
      "[39]\tvalidation_0-rmse:29.4871\tvalidation_1-rmse:32.4122\n",
      "[40]\tvalidation_0-rmse:27.309\tvalidation_1-rmse:30.6139\n",
      "[41]\tvalidation_0-rmse:25.271\tvalidation_1-rmse:28.93\n",
      "[42]\tvalidation_0-rmse:23.5438\tvalidation_1-rmse:27.576\n",
      "[43]\tvalidation_0-rmse:21.8518\tvalidation_1-rmse:26.3194\n",
      "[44]\tvalidation_0-rmse:20.2944\tvalidation_1-rmse:25.0788\n",
      "[45]\tvalidation_0-rmse:19.2075\tvalidation_1-rmse:24.2965\n",
      "[46]\tvalidation_0-rmse:18.1817\tvalidation_1-rmse:23.5797\n",
      "[47]\tvalidation_0-rmse:17.1955\tvalidation_1-rmse:22.8955\n",
      "[48]\tvalidation_0-rmse:16.1096\tvalidation_1-rmse:22.1196\n",
      "[49]\tvalidation_0-rmse:15.3787\tvalidation_1-rmse:21.6363\n",
      "[50]\tvalidation_0-rmse:14.4871\tvalidation_1-rmse:21.049\n",
      "[51]\tvalidation_0-rmse:13.6508\tvalidation_1-rmse:20.5315\n",
      "[52]\tvalidation_0-rmse:12.8534\tvalidation_1-rmse:20.0325\n",
      "[53]\tvalidation_0-rmse:12.3563\tvalidation_1-rmse:19.7337\n",
      "[54]\tvalidation_0-rmse:11.7623\tvalidation_1-rmse:19.3769\n",
      "[55]\tvalidation_0-rmse:11.3491\tvalidation_1-rmse:19.1611\n",
      "[56]\tvalidation_0-rmse:10.8461\tvalidation_1-rmse:18.8819\n",
      "[57]\tvalidation_0-rmse:10.4046\tvalidation_1-rmse:18.6402\n",
      "[58]\tvalidation_0-rmse:9.96583\tvalidation_1-rmse:18.4409\n",
      "[59]\tvalidation_0-rmse:9.57825\tvalidation_1-rmse:18.2729\n",
      "[60]\tvalidation_0-rmse:9.22688\tvalidation_1-rmse:18.1234\n",
      "[61]\tvalidation_0-rmse:8.97978\tvalidation_1-rmse:17.9822\n",
      "[62]\tvalidation_0-rmse:8.77875\tvalidation_1-rmse:17.8799\n",
      "[63]\tvalidation_0-rmse:8.60307\tvalidation_1-rmse:17.8019\n",
      "[64]\tvalidation_0-rmse:8.43269\tvalidation_1-rmse:17.7334\n",
      "[65]\tvalidation_0-rmse:8.20901\tvalidation_1-rmse:17.6454\n",
      "[66]\tvalidation_0-rmse:8.0869\tvalidation_1-rmse:17.5833\n",
      "[67]\tvalidation_0-rmse:7.882\tvalidation_1-rmse:17.5086\n",
      "[68]\tvalidation_0-rmse:7.7281\tvalidation_1-rmse:17.4406\n",
      "[69]\tvalidation_0-rmse:7.56508\tvalidation_1-rmse:17.3865\n",
      "[70]\tvalidation_0-rmse:7.41521\tvalidation_1-rmse:17.3512\n",
      "[71]\tvalidation_0-rmse:7.34873\tvalidation_1-rmse:17.3185\n",
      "[72]\tvalidation_0-rmse:7.28055\tvalidation_1-rmse:17.2824\n",
      "[73]\tvalidation_0-rmse:7.16789\tvalidation_1-rmse:17.2257\n",
      "[74]\tvalidation_0-rmse:7.07461\tvalidation_1-rmse:17.1909\n",
      "[75]\tvalidation_0-rmse:6.99172\tvalidation_1-rmse:17.1668\n",
      "[76]\tvalidation_0-rmse:6.91304\tvalidation_1-rmse:17.1481\n",
      "[77]\tvalidation_0-rmse:6.87308\tvalidation_1-rmse:17.1473\n",
      "[78]\tvalidation_0-rmse:6.81003\tvalidation_1-rmse:17.1323\n",
      "[79]\tvalidation_0-rmse:6.75257\tvalidation_1-rmse:17.0989\n",
      "[80]\tvalidation_0-rmse:6.71165\tvalidation_1-rmse:17.0759\n",
      "[81]\tvalidation_0-rmse:6.66953\tvalidation_1-rmse:17.0575\n",
      "[82]\tvalidation_0-rmse:6.63113\tvalidation_1-rmse:17.0408\n",
      "[83]\tvalidation_0-rmse:6.61055\tvalidation_1-rmse:17.0301\n",
      "[84]\tvalidation_0-rmse:6.57689\tvalidation_1-rmse:17.0183\n",
      "[85]\tvalidation_0-rmse:6.55436\tvalidation_1-rmse:17.0358\n",
      "[86]\tvalidation_0-rmse:6.52668\tvalidation_1-rmse:17.0259\n",
      "[87]\tvalidation_0-rmse:6.51385\tvalidation_1-rmse:17.0243\n",
      "[88]\tvalidation_0-rmse:6.48203\tvalidation_1-rmse:17.0047\n",
      "[89]\tvalidation_0-rmse:6.46515\tvalidation_1-rmse:17.016\n",
      "[90]\tvalidation_0-rmse:6.4452\tvalidation_1-rmse:17.0074\n",
      "[91]\tvalidation_0-rmse:6.43393\tvalidation_1-rmse:17.0014\n",
      "[92]\tvalidation_0-rmse:6.40348\tvalidation_1-rmse:16.9685\n",
      "[93]\tvalidation_0-rmse:6.35638\tvalidation_1-rmse:16.9356\n",
      "[94]\tvalidation_0-rmse:6.34441\tvalidation_1-rmse:16.9255\n",
      "[95]\tvalidation_0-rmse:6.32184\tvalidation_1-rmse:16.9169\n",
      "[96]\tvalidation_0-rmse:6.30822\tvalidation_1-rmse:16.9134\n",
      "[97]\tvalidation_0-rmse:6.26723\tvalidation_1-rmse:16.8725\n",
      "[98]\tvalidation_0-rmse:6.26082\tvalidation_1-rmse:16.8675\n",
      "[99]\tvalidation_0-rmse:6.2252\tvalidation_1-rmse:16.8309\n"
     ]
    },
    {
     "data": {
      "text/plain": [
       "XGBRegressor(base_score=0.5, booster='gbtree', colsample_bylevel=1,\n",
       "       colsample_bytree=1, gamma=0, learning_rate=0.1, max_delta_step=0,\n",
       "       max_depth=3, min_child_weight=1, missing=None, n_estimators=100,\n",
       "       n_jobs=1, nthread=None, objective='reg:linear', random_state=0,\n",
       "       reg_alpha=0, reg_lambda=1, scale_pos_weight=1, seed=None,\n",
       "       silent=True, subsample=1)"
      ]
     },
     "execution_count": 14,
     "metadata": {},
     "output_type": "execute_result"
    }
   ],
   "source": [
    "regressor.fit(X_train,y_train, eval_set = [(X_train, y_train), (X_validation, y_validation)])"
   ]
  },
  {
   "cell_type": "code",
   "execution_count": 15,
   "metadata": {
    "collapsed": true
   },
   "outputs": [],
   "source": [
    "eval_result = regressor.evals_result()"
   ]
  },
  {
   "cell_type": "code",
   "execution_count": 16,
   "metadata": {
    "collapsed": true
   },
   "outputs": [],
   "source": [
    "training_rounds = range(len(eval_result['validation_0']['rmse']))"
   ]
  },
  {
   "cell_type": "code",
   "execution_count": 17,
   "metadata": {},
   "outputs": [
    {
     "name": "stdout",
     "output_type": "stream",
     "text": [
      "range(0, 100)\n"
     ]
    }
   ],
   "source": [
    "print(training_rounds)"
   ]
  },
  {
   "cell_type": "code",
   "execution_count": 18,
   "metadata": {},
   "outputs": [
    {
     "data": {
      "text/plain": [
       "<matplotlib.legend.Legend at 0x7ff42e6ac908>"
      ]
     },
     "execution_count": 18,
     "metadata": {},
     "output_type": "execute_result"
    },
    {
     "data": {
      "image/png": "[encoded data removed]",
      "text/plain": [
       "<Figure size 432x288 with 1 Axes>"
      ]
     },
     "metadata": {},
     "output_type": "display_data"
    }
   ],
   "source": [
    "plt.scatter(x=training_rounds,y=eval_result['validation_0']['rmse'],label='Training Error')\n",
    "plt.scatter(x=training_rounds,y=eval_result['validation_1']['rmse'],label='Validation Error')\n",
    "plt.grid(True)\n",
    "plt.xlabel('Iteration')\n",
    "plt.ylabel('RMSE')\n",
    "plt.title('Training Vs Validation Error')\n",
    "plt.legend()"
   ]
  },
  {
   "cell_type": "code",
   "execution_count": 19,
   "metadata": {},
   "outputs": [
    {
     "data": {
      "text/plain": [
       "<matplotlib.axes._subplots.AxesSubplot at 0x7ff42e684be0>"
      ]
     },
     "execution_count": 19,
     "metadata": {},
     "output_type": "execute_result"
    },
    {
     "data": {
      "image/png": "[encoded data removed]",
      "text/plain": [
       "<Figure size 432x288 with 1 Axes>"
      ]
     },
     "metadata": {},
     "output_type": "display_data"
    }
   ],
   "source": [
    "xgb.plot_importance(regressor)"
   ]
  },
  {
   "cell_type": "code",
   "execution_count": 20,
   "metadata": {},
   "outputs": [
    {
     "data": {
      "text/html": [
       "<div>\n",
       "<style scoped>\n",
       "    .dataframe tbody tr th:only-of-type {\n",
       "        vertical-align: middle;\n",
       "    }\n",
       "\n",
       "    .dataframe tbody tr th {\n",
       "        vertical-align: top;\n",
       "    }\n",
       "\n",
       "    .dataframe thead th {\n",
       "        text-align: right;\n",
       "    }\n",
       "</style>\n",
       "<table border=\"1\" class=\"dataframe\">\n",
       "  <thead>\n",
       "    <tr style=\"text-align: right;\">\n",
       "      <th></th>\n",
       "      <th>x</th>\n",
       "      <th>y</th>\n",
       "      <th>y_noisy</th>\n",
       "    </tr>\n",
       "  </thead>\n",
       "  <tbody>\n",
       "    <tr>\n",
       "      <th>0</th>\n",
       "      <td>-11.120273</td>\n",
       "      <td>921.068658</td>\n",
       "      <td>921.016598</td>\n",
       "    </tr>\n",
       "    <tr>\n",
       "      <th>1</th>\n",
       "      <td>14.829292</td>\n",
       "      <td>805.465821</td>\n",
       "      <td>805.082846</td>\n",
       "    </tr>\n",
       "    <tr>\n",
       "      <th>2</th>\n",
       "      <td>-11.731234</td>\n",
       "      <td>1004.927608</td>\n",
       "      <td>999.503858</td>\n",
       "    </tr>\n",
       "    <tr>\n",
       "      <th>3</th>\n",
       "      <td>16.744436</td>\n",
       "      <td>1063.758703</td>\n",
       "      <td>1066.740610</td>\n",
       "    </tr>\n",
       "    <tr>\n",
       "      <th>4</th>\n",
       "      <td>-0.463552</td>\n",
       "      <td>58.736111</td>\n",
       "      <td>54.262724</td>\n",
       "    </tr>\n",
       "  </tbody>\n",
       "</table>\n",
       "</div>"
      ],
      "text/plain": [
       "           x            y      y_noisy\n",
       "0 -11.120273   921.068658   921.016598\n",
       "1  14.829292   805.465821   805.082846\n",
       "2 -11.731234  1004.927608   999.503858\n",
       "3  16.744436  1063.758703  1066.740610\n",
       "4  -0.463552    58.736111    54.262724"
      ]
     },
     "execution_count": 20,
     "metadata": {},
     "output_type": "execute_result"
    }
   ],
   "source": [
    "df.head()"
   ]
  },
  {
   "cell_type": "code",
   "execution_count": 21,
   "metadata": {},
   "outputs": [
    {
     "name": "stdout",
     "output_type": "stream",
     "text": [
      "           x\n",
      "0 -11.120273\n",
      "1  14.829292\n",
      "2 -11.731234\n",
      "3  16.744436\n",
      "4  -0.463552\n"
     ]
    }
   ],
   "source": [
    "X_test = df.iloc[:,:1]\n",
    "print(X_test[:5])"
   ]
  },
  {
   "cell_type": "code",
   "execution_count": 22,
   "metadata": {
    "collapsed": true
   },
   "outputs": [
    {
     "data": {
      "text/plain": [
       "pandas.core.frame.DataFrame"
      ]
     },
     "execution_count": 22,
     "metadata": {},
     "output_type": "execute_result"
    }
   ],
   "source": [
    "# This works\n",
    "type(X_test)"
   ]
  },
  {
   "cell_type": "code",
   "execution_count": 23,
   "metadata": {
    "collapsed": true
   },
   "outputs": [
    {
     "data": {
      "text/plain": [
       "pandas.core.series.Series"
      ]
     },
     "execution_count": 23,
     "metadata": {},
     "output_type": "execute_result"
    }
   ],
   "source": [
    "# This does not work\n",
    "type(df.iloc[:5,0])"
   ]
  },
  {
   "cell_type": "code",
   "execution_count": 24,
   "metadata": {
    "collapsed": true
   },
   "outputs": [],
   "source": [
    "result = regressor.predict(X_test)"
   ]
  },
  {
   "cell_type": "code",
   "execution_count": 25,
   "metadata": {},
   "outputs": [
    {
     "data": {
      "text/plain": [
       "array([ 914.13556 ,  808.2975  ,  996.34515 , 1073.4296  ,   54.747013],\n",
       "      dtype=float32)"
      ]
     },
     "execution_count": 25,
     "metadata": {},
     "output_type": "execute_result"
    }
   ],
   "source": [
    "result[:5]"
   ]
  },
  {
   "cell_type": "code",
   "execution_count": 26,
   "metadata": {
    "collapsed": true
   },
   "outputs": [],
   "source": [
    "df['y_predicted'] = result"
   ]
  },
  {
   "cell_type": "code",
   "execution_count": 27,
   "metadata": {},
   "outputs": [
    {
     "data": {
      "text/html": [
       "<div>\n",
       "<style scoped>\n",
       "    .dataframe tbody tr th:only-of-type {\n",
       "        vertical-align: middle;\n",
       "    }\n",
       "\n",
       "    .dataframe tbody tr th {\n",
       "        vertical-align: top;\n",
       "    }\n",
       "\n",
       "    .dataframe thead th {\n",
       "        text-align: right;\n",
       "    }\n",
       "</style>\n",
       "<table border=\"1\" class=\"dataframe\">\n",
       "  <thead>\n",
       "    <tr style=\"text-align: right;\">\n",
       "      <th></th>\n",
       "      <th>x</th>\n",
       "      <th>y</th>\n",
       "      <th>y_noisy</th>\n",
       "      <th>y_predicted</th>\n",
       "    </tr>\n",
       "  </thead>\n",
       "  <tbody>\n",
       "    <tr>\n",
       "      <th>0</th>\n",
       "      <td>-11.120273</td>\n",
       "      <td>921.068658</td>\n",
       "      <td>921.016598</td>\n",
       "      <td>914.135559</td>\n",
       "    </tr>\n",
       "    <tr>\n",
       "      <th>1</th>\n",
       "      <td>14.829292</td>\n",
       "      <td>805.465821</td>\n",
       "      <td>805.082846</td>\n",
       "      <td>808.297485</td>\n",
       "    </tr>\n",
       "    <tr>\n",
       "      <th>2</th>\n",
       "      <td>-11.731234</td>\n",
       "      <td>1004.927608</td>\n",
       "      <td>999.503858</td>\n",
       "      <td>996.345154</td>\n",
       "    </tr>\n",
       "    <tr>\n",
       "      <th>3</th>\n",
       "      <td>16.744436</td>\n",
       "      <td>1063.758703</td>\n",
       "      <td>1066.740610</td>\n",
       "      <td>1073.429565</td>\n",
       "    </tr>\n",
       "    <tr>\n",
       "      <th>4</th>\n",
       "      <td>-0.463552</td>\n",
       "      <td>58.736111</td>\n",
       "      <td>54.262724</td>\n",
       "      <td>54.747013</td>\n",
       "    </tr>\n",
       "  </tbody>\n",
       "</table>\n",
       "</div>"
      ],
      "text/plain": [
       "           x            y      y_noisy  y_predicted\n",
       "0 -11.120273   921.068658   921.016598   914.135559\n",
       "1  14.829292   805.465821   805.082846   808.297485\n",
       "2 -11.731234  1004.927608   999.503858   996.345154\n",
       "3  16.744436  1063.758703  1066.740610  1073.429565\n",
       "4  -0.463552    58.736111    54.262724    54.747013"
      ]
     },
     "execution_count": 27,
     "metadata": {},
     "output_type": "execute_result"
    }
   ],
   "source": [
    "df.head()"
   ]
  },
  {
   "cell_type": "code",
   "execution_count": 28,
   "metadata": {},
   "outputs": [
    {
     "data": {
      "text/plain": [
       "<matplotlib.legend.Legend at 0x7ff42e606eb8>"
      ]
     },
     "execution_count": 28,
     "metadata": {},
     "output_type": "execute_result"
    },
    {
     "data": {
      "image/png": "[encoded data removed]",
      "text/plain": [
       "<Figure size 432x288 with 1 Axes>"
      ]
     },
     "metadata": {},
     "output_type": "display_data"
    }
   ],
   "source": [
    "plt.scatter(x=df.x,y=df.y_noisy,color='r',label='actual')\n",
    "plt.scatter(x=df.x,y=df.y_predicted,color='b',label='predicted')\n",
    "plt.grid(True)\n",
    "plt.legend()"
   ]
  },
  {
   "cell_type": "code",
   "execution_count": 29,
   "metadata": {},
   "outputs": [
    {
     "data": {
      "image/png": "[encoded data removed]",
      "text/plain": [
       "<Figure size 432x288 with 1 Axes>"
      ]
     },
     "metadata": {},
     "output_type": "display_data"
    }
   ],
   "source": [
    "plt.boxplot([df.y_noisy,df.y_predicted], labels=['actual','predicted'])\n",
    "plt.title('Box Plot - Actual, Predicted')\n",
    "plt.ylabel('Target')\n",
    "plt.grid(True)"
   ]
  },
  {
   "cell_type": "code",
   "execution_count": 30,
   "metadata": {},
   "outputs": [
    {
     "data": {
      "text/plain": [
       "<matplotlib.lines.Line2D at 0x7ff42e53ed68>"
      ]
     },
     "execution_count": 30,
     "metadata": {},
     "output_type": "execute_result"
    },
    {
     "data": {
      "image/png": "[encoded data removed]",
      "text/plain": [
       "<Figure size 432x288 with 1 Axes>"
      ]
     },
     "metadata": {},
     "output_type": "display_data"
    }
   ],
   "source": [
    "# Over prediction and Under Prediction needs to be balanced\n",
    "# Training Data Residuals\n",
    "residuals = (df.y_predicted - df.y_noisy)\n",
    "\n",
    "plt.hist(residuals)\n",
    "plt.grid(True)\n",
    "plt.xlabel('(Predicted - Actual)')\n",
    "plt.ylabel('Count')\n",
    "plt.title('Residuals Distribution')\n",
    "plt.axvline(color='g')\n"
   ]
  },
  {
   "cell_type": "markdown",
   "metadata": {},
   "source": [
    "### Tree Based Algorithms cap the upper and lower values that are predicted."
   ]
  },
  {
   "cell_type": "code",
   "execution_count": 31,
   "metadata": {
    "collapsed": true
   },
   "outputs": [],
   "source": [
    "# True Function\n",
    "def quad_func (x):\n",
    "    return 5*x**2 -23*x + 47"
   ]
  },
  {
   "cell_type": "code",
   "execution_count": 32,
   "metadata": {
    "collapsed": true
   },
   "outputs": [],
   "source": [
    "# X is outside range of training samples\n",
    "X = np.array([1000,25,-100,5000,-25])\n",
    "tmp_df = pd.DataFrame({'x':X})"
   ]
  },
  {
   "cell_type": "code",
   "execution_count": 33,
   "metadata": {},
   "outputs": [
    {
     "name": "stdout",
     "output_type": "stream",
     "text": [
      "True Function:\n",
      "[  4977047      2597     52347 124885047      3747]\n",
      "Predicted:\n",
      "[1566.231  1566.231  2498.9023 1566.231  2498.9023]\n"
     ]
    }
   ],
   "source": [
    "print(\"True Function:\\n{0}\".format(quad_func(X)))\n",
    "print(\"Predicted:\\n{0}\".format(regressor.predict(tmp_df)))"
   ]
  },
  {
   "cell_type": "code",
   "execution_count": 34,
   "metadata": {
    "collapsed": true
   },
   "outputs": [],
   "source": [
    "# X is inside range of training samples\n",
    "X = np.array([0,1,3,5,7,9,11,15,18,-15,-12,-5])\n",
    "tmp_df = pd.DataFrame({'x':X})"
   ]
  },
  {
   "cell_type": "code",
   "execution_count": 35,
   "metadata": {},
   "outputs": [
    {
     "name": "stdout",
     "output_type": "stream",
     "text": [
      "True Function:\n",
      "[  47   29   23   57  131  245  399  827 1253 1517 1043  287]\n",
      "Predicted:\n",
      "[  47.04674    28.245811   27.066414   63.18764   140.6969    252.8634\n",
      "  379.79236   808.2975   1319.7086   1561.7623   1039.2347    287.3219  ]\n"
     ]
    }
   ],
   "source": [
    "print(\"True Function:\\n{0}\".format(quad_func(X)))\n",
    "print(\"Predicted:\\n{0}\".format(regressor.predict(tmp_df)))"
   ]
  },
  {
   "cell_type": "code",
   "execution_count": 36,
   "metadata": {},
   "outputs": [
    {
     "data": {
      "text/html": [
       "<div>\n",
       "<style scoped>\n",
       "    .dataframe tbody tr th:only-of-type {\n",
       "        vertical-align: middle;\n",
       "    }\n",
       "\n",
       "    .dataframe tbody tr th {\n",
       "        vertical-align: top;\n",
       "    }\n",
       "\n",
       "    .dataframe thead th {\n",
       "        text-align: right;\n",
       "    }\n",
       "</style>\n",
       "<table border=\"1\" class=\"dataframe\">\n",
       "  <thead>\n",
       "    <tr style=\"text-align: right;\">\n",
       "      <th></th>\n",
       "      <th>x</th>\n",
       "      <th>y</th>\n",
       "      <th>y_noisy</th>\n",
       "      <th>y_predicted</th>\n",
       "    </tr>\n",
       "  </thead>\n",
       "  <tbody>\n",
       "    <tr>\n",
       "      <th>count</th>\n",
       "      <td>300.000000</td>\n",
       "      <td>300.000000</td>\n",
       "      <td>300.000000</td>\n",
       "      <td>300.000000</td>\n",
       "    </tr>\n",
       "    <tr>\n",
       "      <th>mean</th>\n",
       "      <td>-0.046847</td>\n",
       "      <td>722.293796</td>\n",
       "      <td>722.315189</td>\n",
       "      <td>722.044739</td>\n",
       "    </tr>\n",
       "    <tr>\n",
       "      <th>std</th>\n",
       "      <td>11.631511</td>\n",
       "      <td>653.177023</td>\n",
       "      <td>653.352678</td>\n",
       "      <td>652.732971</td>\n",
       "    </tr>\n",
       "    <tr>\n",
       "      <th>min</th>\n",
       "      <td>-19.984684</td>\n",
       "      <td>20.643275</td>\n",
       "      <td>16.197206</td>\n",
       "      <td>27.066414</td>\n",
       "    </tr>\n",
       "    <tr>\n",
       "      <th>25%</th>\n",
       "      <td>-10.188161</td>\n",
       "      <td>155.673641</td>\n",
       "      <td>153.613849</td>\n",
       "      <td>152.777695</td>\n",
       "    </tr>\n",
       "    <tr>\n",
       "      <th>50%</th>\n",
       "      <td>-0.125883</td>\n",
       "      <td>533.697343</td>\n",
       "      <td>535.227828</td>\n",
       "      <td>533.036774</td>\n",
       "    </tr>\n",
       "    <tr>\n",
       "      <th>75%</th>\n",
       "      <td>10.719268</td>\n",
       "      <td>1118.990118</td>\n",
       "      <td>1117.454317</td>\n",
       "      <td>1120.614777</td>\n",
       "    </tr>\n",
       "    <tr>\n",
       "      <th>max</th>\n",
       "      <td>19.889019</td>\n",
       "      <td>2503.585755</td>\n",
       "      <td>2506.255402</td>\n",
       "      <td>2498.902344</td>\n",
       "    </tr>\n",
       "  </tbody>\n",
       "</table>\n",
       "</div>"
      ],
      "text/plain": [
       "                x            y      y_noisy  y_predicted\n",
       "count  300.000000   300.000000   300.000000   300.000000\n",
       "mean    -0.046847   722.293796   722.315189   722.044739\n",
       "std     11.631511   653.177023   653.352678   652.732971\n",
       "min    -19.984684    20.643275    16.197206    27.066414\n",
       "25%    -10.188161   155.673641   153.613849   152.777695\n",
       "50%     -0.125883   533.697343   535.227828   533.036774\n",
       "75%     10.719268  1118.990118  1117.454317  1120.614777\n",
       "max     19.889019  2503.585755  2506.255402  2498.902344"
      ]
     },
     "execution_count": 36,
     "metadata": {},
     "output_type": "execute_result"
    }
   ],
   "source": [
    "df.describe()"
   ]
  },
  {
   "cell_type": "code",
   "execution_count": 37,
   "metadata": {},
   "outputs": [
    {
     "name": "stdout",
     "output_type": "stream",
     "text": [
      "RMSE: 10.58826667097993\n"
     ]
    }
   ],
   "source": [
    "import sklearn.metrics as metrics\n",
    "print(\"RMSE: {0}\".format(metrics.mean_squared_error(df.y_noisy,df.y_predicted)**.5))"
   ]
  },
  {
   "cell_type": "code",
   "execution_count": null,
   "metadata": {
    "collapsed": true
   },
   "outputs": [],
   "source": []
  }
 ],
 "metadata": {
  "kernelspec": {
   "display_name": "conda_python3",
   "language": "python",
   "name": "conda_python3"
  },
  "language_info": {
   "codemirror_mode": {
    "name": "ipython",
    "version": 3
   },
   "file_extension": ".py",
   "mimetype": "text/x-python",
   "name": "python",
   "nbconvert_exporter": "python",
   "pygments_lexer": "ipython3",
   "version": "3.6.5"
  }
 },
 "nbformat": 4,
 "nbformat_minor": 2
}
