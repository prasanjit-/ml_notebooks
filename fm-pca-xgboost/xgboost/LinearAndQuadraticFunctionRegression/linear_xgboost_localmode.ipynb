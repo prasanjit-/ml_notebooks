{
 "cells": [
  {
   "cell_type": "markdown",
   "metadata": {},
   "source": [
    "## Train a model with linear data using XGBoost algorithm\n",
    "###  Model is trained with XGBoost installed in notebook instance\n",
    "###  In the later examples, we will train using SageMaker's XGBoost algorithm"
   ]
  },
  {
   "cell_type": "code",
   "execution_count": 1,
   "metadata": {},
   "outputs": [
    {
     "name": "stdout",
     "output_type": "stream",
     "text": [
      "Solving environment: done\n",
      "\n",
      "\n",
      "==> WARNING: A newer version of conda exists. <==\n",
      "  current version: 4.5.11\n",
      "  latest version: 4.6.2\n",
      "\n",
      "Please update conda by running\n",
      "\n",
      "    $ conda update -n base -c defaults conda\n",
      "\n",
      "\n",
      "\n",
      "## Package Plan ##\n",
      "\n",
      "  environment location: /home/ec2-user/anaconda3/envs/python3\n",
      "\n",
      "  added / updated specs: \n",
      "    - xgboost\n",
      "\n",
      "\n",
      "The following packages will be downloaded:\n",
      "\n",
      "    package                    |            build\n",
      "    ---------------------------|-----------------\n",
      "    py-xgboost-0.81            |py36hf484d3e_1000          66 KB  conda-forge\n",
      "    openssl-1.0.2p             |    h14c3975_1002         3.1 MB  conda-forge\n",
      "    xgboost-0.81               |py36hf484d3e_1000           9 KB  conda-forge\n",
      "    libstdcxx-ng-7.3.0         |       hdf63c60_0         2.6 MB  conda-forge\n",
      "    libxgboost-0.81            |    hf484d3e_1000         3.8 MB  conda-forge\n",
      "    _py-xgboost-mutex-2.0      |            cpu_0           8 KB  conda-forge\n",
      "    ------------------------------------------------------------\n",
      "                                           Total:         9.5 MB\n",
      "\n",
      "The following NEW packages will be INSTALLED:\n",
      "\n",
      "    _py-xgboost-mutex: 2.0-cpu_0              conda-forge\n",
      "    libxgboost:        0.81-hf484d3e_1000     conda-forge\n",
      "    py-xgboost:        0.81-py36hf484d3e_1000 conda-forge\n",
      "    xgboost:           0.81-py36hf484d3e_1000 conda-forge\n",
      "\n",
      "The following packages will be UPDATED:\n",
      "\n",
      "    ca-certificates:   2018.8.24-ha4d7672_0   conda-forge --> 2018.11.29-ha4d7672_0 conda-forge\n",
      "    certifi:           2018.8.24-py36_1       conda-forge --> 2018.11.29-py36_1000  conda-forge\n",
      "    libstdcxx-ng:      7.2.0-hdf63c60_3                   --> 7.3.0-hdf63c60_0      conda-forge\n",
      "    openssl:           1.0.2p-h470a237_0      conda-forge --> 1.0.2p-h14c3975_1002  conda-forge\n",
      "\n",
      "\n",
      "Downloading and Extracting Packages\n",
      "py-xgboost-0.81      | 66 KB     | ##################################### | 100% \n",
      "openssl-1.0.2p       | 3.1 MB    | ##################################### | 100% \n",
      "xgboost-0.81         | 9 KB      | ##################################### | 100% \n",
      "libstdcxx-ng-7.3.0   | 2.6 MB    | ##################################### | 100% \n",
      "libxgboost-0.81      | 3.8 MB    | ##################################### | 100% \n",
      "_py-xgboost-mutex-2. | 8 KB      | ##################################### | 100% \n",
      "Preparing transaction: done\n",
      "Verifying transaction: done\n",
      "Executing transaction: done\n"
     ]
    }
   ],
   "source": [
    "# Install xgboost in notebook instance.\n",
    "#### Command to install xgboost\n",
    "!conda install -y -c conda-forge xgboost"
   ]
  },
  {
   "cell_type": "code",
   "execution_count": 2,
   "metadata": {
    "collapsed": true
   },
   "outputs": [],
   "source": [
    "%matplotlib inline\n",
    "import sys\n",
    "import numpy as np\n",
    "import pandas as pd\n",
    "import matplotlib.pyplot as plt\n",
    "import xgboost as xgb"
   ]
  },
  {
   "cell_type": "code",
   "execution_count": 3,
   "metadata": {
    "collapsed": true
   },
   "outputs": [],
   "source": [
    "df = pd.read_csv('linear_all.csv')"
   ]
  },
  {
   "cell_type": "code",
   "execution_count": 4,
   "metadata": {},
   "outputs": [
    {
     "data": {
      "text/html": [
       "<div>\n",
       "<style scoped>\n",
       "    .dataframe tbody tr th:only-of-type {\n",
       "        vertical-align: middle;\n",
       "    }\n",
       "\n",
       "    .dataframe tbody tr th {\n",
       "        vertical-align: top;\n",
       "    }\n",
       "\n",
       "    .dataframe thead th {\n",
       "        text-align: right;\n",
       "    }\n",
       "</style>\n",
       "<table border=\"1\" class=\"dataframe\">\n",
       "  <thead>\n",
       "    <tr style=\"text-align: right;\">\n",
       "      <th></th>\n",
       "      <th>x</th>\n",
       "      <th>y</th>\n",
       "      <th>y_noisy</th>\n",
       "    </tr>\n",
       "  </thead>\n",
       "  <tbody>\n",
       "    <tr>\n",
       "      <th>0</th>\n",
       "      <td>4.439863</td>\n",
       "      <td>30.199317</td>\n",
       "      <td>27.659911</td>\n",
       "    </tr>\n",
       "    <tr>\n",
       "      <th>1</th>\n",
       "      <td>17.414646</td>\n",
       "      <td>95.073231</td>\n",
       "      <td>102.635654</td>\n",
       "    </tr>\n",
       "    <tr>\n",
       "      <th>2</th>\n",
       "      <td>4.134383</td>\n",
       "      <td>28.671916</td>\n",
       "      <td>24.974757</td>\n",
       "    </tr>\n",
       "    <tr>\n",
       "      <th>3</th>\n",
       "      <td>18.372218</td>\n",
       "      <td>99.861091</td>\n",
       "      <td>102.041951</td>\n",
       "    </tr>\n",
       "    <tr>\n",
       "      <th>4</th>\n",
       "      <td>9.768224</td>\n",
       "      <td>56.841119</td>\n",
       "      <td>56.978985</td>\n",
       "    </tr>\n",
       "  </tbody>\n",
       "</table>\n",
       "</div>"
      ],
      "text/plain": [
       "           x          y     y_noisy\n",
       "0   4.439863  30.199317   27.659911\n",
       "1  17.414646  95.073231  102.635654\n",
       "2   4.134383  28.671916   24.974757\n",
       "3  18.372218  99.861091  102.041951\n",
       "4   9.768224  56.841119   56.978985"
      ]
     },
     "execution_count": 4,
     "metadata": {},
     "output_type": "execute_result"
    }
   ],
   "source": [
    "df.head()"
   ]
  },
  {
   "cell_type": "code",
   "execution_count": 5,
   "metadata": {},
   "outputs": [
    {
     "data": {
      "text/plain": [
       "<matplotlib.legend.Legend at 0x7f5e714446a0>"
      ]
     },
     "execution_count": 5,
     "metadata": {},
     "output_type": "execute_result"
    },
    {
     "data": {
      "image/png": "[encoded data removed]",
      "text/plain": [
       "<Figure size 432x288 with 1 Axes>"
      ]
     },
     "metadata": {},
     "output_type": "display_data"
    }
   ],
   "source": [
    "plt.scatter(x=df.x,y=df.y,label='ideal fit')\n",
    "plt.scatter(x=df.x,y=df.y_noisy, color='r',marker='+',label='Target')\n",
    "plt.grid(True)\n",
    "plt.xlabel('Input Feature')\n",
    "plt.ylabel('Target')\n",
    "plt.legend()"
   ]
  },
  {
   "cell_type": "code",
   "execution_count": 6,
   "metadata": {
    "collapsed": true
   },
   "outputs": [],
   "source": [
    "train_file = 'linear_train.csv'\n",
    "validation_file = 'linear_validation.csv'"
   ]
  },
  {
   "cell_type": "code",
   "execution_count": 7,
   "metadata": {
    "collapsed": true
   },
   "outputs": [],
   "source": [
    "# Specify the column names as the file does not have column header\n",
    "df_train = pd.read_csv(train_file,names=['y_noisy','x'])\n",
    "df_validation = pd.read_csv(validation_file,names=['y_noisy','x'])"
   ]
  },
  {
   "cell_type": "code",
   "execution_count": 8,
   "metadata": {},
   "outputs": [
    {
     "data": {
      "text/html": [
       "<div>\n",
       "<style scoped>\n",
       "    .dataframe tbody tr th:only-of-type {\n",
       "        vertical-align: middle;\n",
       "    }\n",
       "\n",
       "    .dataframe tbody tr th {\n",
       "        vertical-align: top;\n",
       "    }\n",
       "\n",
       "    .dataframe thead th {\n",
       "        text-align: right;\n",
       "    }\n",
       "</style>\n",
       "<table border=\"1\" class=\"dataframe\">\n",
       "  <thead>\n",
       "    <tr style=\"text-align: right;\">\n",
       "      <th></th>\n",
       "      <th>y_noisy</th>\n",
       "      <th>x</th>\n",
       "    </tr>\n",
       "  </thead>\n",
       "  <tbody>\n",
       "    <tr>\n",
       "      <th>0</th>\n",
       "      <td>88.563247</td>\n",
       "      <td>16.871099</td>\n",
       "    </tr>\n",
       "    <tr>\n",
       "      <th>1</th>\n",
       "      <td>13.212976</td>\n",
       "      <td>1.268020</td>\n",
       "    </tr>\n",
       "    <tr>\n",
       "      <th>2</th>\n",
       "      <td>60.304166</td>\n",
       "      <td>10.534351</td>\n",
       "    </tr>\n",
       "    <tr>\n",
       "      <th>3</th>\n",
       "      <td>92.380046</td>\n",
       "      <td>17.409662</td>\n",
       "    </tr>\n",
       "    <tr>\n",
       "      <th>4</th>\n",
       "      <td>102.040835</td>\n",
       "      <td>19.072610</td>\n",
       "    </tr>\n",
       "  </tbody>\n",
       "</table>\n",
       "</div>"
      ],
      "text/plain": [
       "      y_noisy          x\n",
       "0   88.563247  16.871099\n",
       "1   13.212976   1.268020\n",
       "2   60.304166  10.534351\n",
       "3   92.380046  17.409662\n",
       "4  102.040835  19.072610"
      ]
     },
     "execution_count": 8,
     "metadata": {},
     "output_type": "execute_result"
    }
   ],
   "source": [
    "df_train.head()"
   ]
  },
  {
   "cell_type": "code",
   "execution_count": 9,
   "metadata": {},
   "outputs": [
    {
     "data": {
      "text/html": [
       "<div>\n",
       "<style scoped>\n",
       "    .dataframe tbody tr th:only-of-type {\n",
       "        vertical-align: middle;\n",
       "    }\n",
       "\n",
       "    .dataframe tbody tr th {\n",
       "        vertical-align: top;\n",
       "    }\n",
       "\n",
       "    .dataframe thead th {\n",
       "        text-align: right;\n",
       "    }\n",
       "</style>\n",
       "<table border=\"1\" class=\"dataframe\">\n",
       "  <thead>\n",
       "    <tr style=\"text-align: right;\">\n",
       "      <th></th>\n",
       "      <th>y_noisy</th>\n",
       "      <th>x</th>\n",
       "    </tr>\n",
       "  </thead>\n",
       "  <tbody>\n",
       "    <tr>\n",
       "      <th>0</th>\n",
       "      <td>12.879772</td>\n",
       "      <td>0.710181</td>\n",
       "    </tr>\n",
       "    <tr>\n",
       "      <th>1</th>\n",
       "      <td>88.557926</td>\n",
       "      <td>14.768806</td>\n",
       "    </tr>\n",
       "    <tr>\n",
       "      <th>2</th>\n",
       "      <td>99.765246</td>\n",
       "      <td>18.533652</td>\n",
       "    </tr>\n",
       "    <tr>\n",
       "      <th>3</th>\n",
       "      <td>86.486503</td>\n",
       "      <td>16.155549</td>\n",
       "    </tr>\n",
       "    <tr>\n",
       "      <th>4</th>\n",
       "      <td>99.099132</td>\n",
       "      <td>18.429411</td>\n",
       "    </tr>\n",
       "  </tbody>\n",
       "</table>\n",
       "</div>"
      ],
      "text/plain": [
       "     y_noisy          x\n",
       "0  12.879772   0.710181\n",
       "1  88.557926  14.768806\n",
       "2  99.765246  18.533652\n",
       "3  86.486503  16.155549\n",
       "4  99.099132  18.429411"
      ]
     },
     "execution_count": 9,
     "metadata": {},
     "output_type": "execute_result"
    }
   ],
   "source": [
    "df_validation.head()"
   ]
  },
  {
   "cell_type": "code",
   "execution_count": 10,
   "metadata": {},
   "outputs": [
    {
     "data": {
      "text/plain": [
       "<matplotlib.legend.Legend at 0x7f5e7135c9e8>"
      ]
     },
     "execution_count": 10,
     "metadata": {},
     "output_type": "execute_result"
    },
    {
     "data": {
      "image/png": "[encoded data removed]",
      "text/plain": [
       "<Figure size 432x288 with 1 Axes>"
      ]
     },
     "metadata": {},
     "output_type": "display_data"
    }
   ],
   "source": [
    "plt.scatter(x=df_train.x,y=df_train.y_noisy,label='Training')\n",
    "plt.scatter(x=df_validation.x,y=df_validation.y_noisy, color='r',marker='+',label='Validation')\n",
    "plt.grid(True)\n",
    "plt.xlabel('Input Feature')\n",
    "plt.ylabel('Target')\n",
    "plt.title('Training and Validation Data')\n",
    "plt.legend()"
   ]
  },
  {
   "cell_type": "code",
   "execution_count": 11,
   "metadata": {
    "collapsed": true
   },
   "outputs": [],
   "source": [
    "X_train = df_train.iloc[:,1:] # Features: 1st column onwards \n",
    "y_train = df_train.iloc[:,0].ravel() # Target: 0th column\n",
    "\n",
    "X_validation = df_validation.iloc[:,1:]\n",
    "y_validation = df_validation.iloc[:,0].ravel()"
   ]
  },
  {
   "cell_type": "code",
   "execution_count": 12,
   "metadata": {
    "collapsed": true
   },
   "outputs": [],
   "source": [
    "# max_depth = 5,objective=\"reg:linear\",num_round = 50\n",
    "regressor = xgb.XGBRegressor()"
   ]
  },
  {
   "cell_type": "code",
   "execution_count": 13,
   "metadata": {},
   "outputs": [
    {
     "data": {
      "text/plain": [
       "XGBRegressor(base_score=0.5, booster='gbtree', colsample_bylevel=1,\n",
       "       colsample_bytree=1, gamma=0, learning_rate=0.1, max_delta_step=0,\n",
       "       max_depth=3, min_child_weight=1, missing=None, n_estimators=100,\n",
       "       n_jobs=1, nthread=None, objective='reg:linear', random_state=0,\n",
       "       reg_alpha=0, reg_lambda=1, scale_pos_weight=1, seed=None,\n",
       "       silent=True, subsample=1)"
      ]
     },
     "execution_count": 13,
     "metadata": {},
     "output_type": "execute_result"
    }
   ],
   "source": [
    "regressor"
   ]
  },
  {
   "cell_type": "code",
   "execution_count": 14,
   "metadata": {},
   "outputs": [
    {
     "name": "stdout",
     "output_type": "stream",
     "text": [
      "[0]\tvalidation_0-rmse:59.9154\tvalidation_1-rmse:58.6815\n",
      "[1]\tvalidation_0-rmse:54.199\tvalidation_1-rmse:52.8974\n",
      "[2]\tvalidation_0-rmse:49.0326\tvalidation_1-rmse:47.5879\n",
      "[3]\tvalidation_0-rmse:44.3695\tvalidation_1-rmse:42.9155\n",
      "[4]\tvalidation_0-rmse:40.1549\tvalidation_1-rmse:38.633\n",
      "[5]\tvalidation_0-rmse:36.3543\tvalidation_1-rmse:34.8554\n",
      "[6]\tvalidation_0-rmse:32.9178\tvalidation_1-rmse:31.3881\n",
      "[7]\tvalidation_0-rmse:29.811\tvalidation_1-rmse:28.363\n",
      "[8]\tvalidation_0-rmse:27.0065\tvalidation_1-rmse:25.689\n",
      "[9]\tvalidation_0-rmse:24.4668\tvalidation_1-rmse:23.2019\n",
      "[10]\tvalidation_0-rmse:22.1778\tvalidation_1-rmse:20.9532\n",
      "[11]\tvalidation_0-rmse:20.0954\tvalidation_1-rmse:18.8611\n",
      "[12]\tvalidation_0-rmse:18.2253\tvalidation_1-rmse:17.0583\n",
      "[13]\tvalidation_0-rmse:16.5299\tvalidation_1-rmse:15.4002\n",
      "[14]\tvalidation_0-rmse:15.0003\tvalidation_1-rmse:13.8925\n",
      "[15]\tvalidation_0-rmse:13.6189\tvalidation_1-rmse:12.5316\n",
      "[16]\tvalidation_0-rmse:12.3733\tvalidation_1-rmse:11.3235\n",
      "[17]\tvalidation_0-rmse:11.25\tvalidation_1-rmse:10.2456\n",
      "[18]\tvalidation_0-rmse:10.2339\tvalidation_1-rmse:9.27389\n",
      "[19]\tvalidation_0-rmse:9.31834\tvalidation_1-rmse:8.40786\n",
      "[20]\tvalidation_0-rmse:8.49393\tvalidation_1-rmse:7.64458\n",
      "[21]\tvalidation_0-rmse:7.7502\tvalidation_1-rmse:6.96186\n",
      "[22]\tvalidation_0-rmse:7.08306\tvalidation_1-rmse:6.35348\n",
      "[23]\tvalidation_0-rmse:6.48296\tvalidation_1-rmse:5.82674\n",
      "[24]\tvalidation_0-rmse:5.94453\tvalidation_1-rmse:5.36749\n",
      "[25]\tvalidation_0-rmse:5.46123\tvalidation_1-rmse:4.9804\n",
      "[26]\tvalidation_0-rmse:5.02915\tvalidation_1-rmse:4.6286\n",
      "[27]\tvalidation_0-rmse:4.6448\tvalidation_1-rmse:4.33258\n",
      "[28]\tvalidation_0-rmse:4.30096\tvalidation_1-rmse:4.07338\n",
      "[29]\tvalidation_0-rmse:3.9966\tvalidation_1-rmse:3.84864\n",
      "[30]\tvalidation_0-rmse:3.72664\tvalidation_1-rmse:3.66933\n",
      "[31]\tvalidation_0-rmse:3.48906\tvalidation_1-rmse:3.53357\n",
      "[32]\tvalidation_0-rmse:3.28059\tvalidation_1-rmse:3.41606\n",
      "[33]\tvalidation_0-rmse:3.09596\tvalidation_1-rmse:3.32301\n",
      "[34]\tvalidation_0-rmse:2.93237\tvalidation_1-rmse:3.26679\n",
      "[35]\tvalidation_0-rmse:2.79229\tvalidation_1-rmse:3.21529\n",
      "[36]\tvalidation_0-rmse:2.66856\tvalidation_1-rmse:3.16945\n",
      "[37]\tvalidation_0-rmse:2.56467\tvalidation_1-rmse:3.12504\n",
      "[38]\tvalidation_0-rmse:2.47199\tvalidation_1-rmse:3.10408\n",
      "[39]\tvalidation_0-rmse:2.39174\tvalidation_1-rmse:3.09472\n",
      "[40]\tvalidation_0-rmse:2.32458\tvalidation_1-rmse:3.07964\n",
      "[41]\tvalidation_0-rmse:2.26565\tvalidation_1-rmse:3.07234\n",
      "[42]\tvalidation_0-rmse:2.21103\tvalidation_1-rmse:3.0869\n",
      "[43]\tvalidation_0-rmse:2.16715\tvalidation_1-rmse:3.08485\n",
      "[44]\tvalidation_0-rmse:2.1242\tvalidation_1-rmse:3.06815\n",
      "[45]\tvalidation_0-rmse:2.08977\tvalidation_1-rmse:3.06389\n",
      "[46]\tvalidation_0-rmse:2.0565\tvalidation_1-rmse:3.05147\n",
      "[47]\tvalidation_0-rmse:2.02891\tvalidation_1-rmse:3.06141\n",
      "[48]\tvalidation_0-rmse:2.00458\tvalidation_1-rmse:3.06524\n",
      "[49]\tvalidation_0-rmse:1.98188\tvalidation_1-rmse:3.06625\n",
      "[50]\tvalidation_0-rmse:1.95819\tvalidation_1-rmse:3.06652\n",
      "[51]\tvalidation_0-rmse:1.94345\tvalidation_1-rmse:3.07154\n",
      "[52]\tvalidation_0-rmse:1.92439\tvalidation_1-rmse:3.07877\n",
      "[53]\tvalidation_0-rmse:1.90588\tvalidation_1-rmse:3.07439\n",
      "[54]\tvalidation_0-rmse:1.89306\tvalidation_1-rmse:3.07606\n",
      "[55]\tvalidation_0-rmse:1.87481\tvalidation_1-rmse:3.09438\n",
      "[56]\tvalidation_0-rmse:1.86188\tvalidation_1-rmse:3.09798\n",
      "[57]\tvalidation_0-rmse:1.84936\tvalidation_1-rmse:3.09972\n",
      "[58]\tvalidation_0-rmse:1.83393\tvalidation_1-rmse:3.09966\n",
      "[59]\tvalidation_0-rmse:1.82793\tvalidation_1-rmse:3.09921\n",
      "[60]\tvalidation_0-rmse:1.80881\tvalidation_1-rmse:3.11841\n",
      "[61]\tvalidation_0-rmse:1.80372\tvalidation_1-rmse:3.11785\n",
      "[62]\tvalidation_0-rmse:1.79925\tvalidation_1-rmse:3.11735\n",
      "[63]\tvalidation_0-rmse:1.79532\tvalidation_1-rmse:3.11691\n",
      "[64]\tvalidation_0-rmse:1.77973\tvalidation_1-rmse:3.12189\n",
      "[65]\tvalidation_0-rmse:1.77178\tvalidation_1-rmse:3.11504\n",
      "[66]\tvalidation_0-rmse:1.76221\tvalidation_1-rmse:3.11604\n",
      "[67]\tvalidation_0-rmse:1.75361\tvalidation_1-rmse:3.11738\n",
      "[68]\tvalidation_0-rmse:1.74549\tvalidation_1-rmse:3.11639\n",
      "[69]\tvalidation_0-rmse:1.73795\tvalidation_1-rmse:3.11778\n",
      "[70]\tvalidation_0-rmse:1.73529\tvalidation_1-rmse:3.11711\n",
      "[71]\tvalidation_0-rmse:1.73009\tvalidation_1-rmse:3.12364\n",
      "[72]\tvalidation_0-rmse:1.7279\tvalidation_1-rmse:3.12302\n",
      "[73]\tvalidation_0-rmse:1.71208\tvalidation_1-rmse:3.13899\n",
      "[74]\tvalidation_0-rmse:1.71015\tvalidation_1-rmse:3.13836\n",
      "[75]\tvalidation_0-rmse:1.70224\tvalidation_1-rmse:3.14242\n",
      "[76]\tvalidation_0-rmse:1.70056\tvalidation_1-rmse:3.1418\n",
      "[77]\tvalidation_0-rmse:1.69368\tvalidation_1-rmse:3.14277\n",
      "[78]\tvalidation_0-rmse:1.68917\tvalidation_1-rmse:3.13791\n",
      "[79]\tvalidation_0-rmse:1.67249\tvalidation_1-rmse:3.15444\n",
      "[80]\tvalidation_0-rmse:1.66859\tvalidation_1-rmse:3.15015\n",
      "[81]\tvalidation_0-rmse:1.66614\tvalidation_1-rmse:3.1487\n",
      "[82]\tvalidation_0-rmse:1.65463\tvalidation_1-rmse:3.15596\n",
      "[83]\tvalidation_0-rmse:1.65329\tvalidation_1-rmse:3.15534\n",
      "[84]\tvalidation_0-rmse:1.64992\tvalidation_1-rmse:3.15142\n",
      "[85]\tvalidation_0-rmse:1.64286\tvalidation_1-rmse:3.15571\n",
      "[86]\tvalidation_0-rmse:1.63996\tvalidation_1-rmse:3.15222\n",
      "[87]\tvalidation_0-rmse:1.63374\tvalidation_1-rmse:3.15673\n",
      "[88]\tvalidation_0-rmse:1.63054\tvalidation_1-rmse:3.15893\n",
      "[89]\tvalidation_0-rmse:1.61731\tvalidation_1-rmse:3.17809\n",
      "[90]\tvalidation_0-rmse:1.6161\tvalidation_1-rmse:3.17737\n",
      "[91]\tvalidation_0-rmse:1.61359\tvalidation_1-rmse:3.17419\n",
      "[92]\tvalidation_0-rmse:1.60155\tvalidation_1-rmse:3.19265\n",
      "[93]\tvalidation_0-rmse:1.59924\tvalidation_1-rmse:3.1896\n",
      "[94]\tvalidation_0-rmse:1.59815\tvalidation_1-rmse:3.1896\n",
      "[95]\tvalidation_0-rmse:1.5863\tvalidation_1-rmse:3.19251\n",
      "[96]\tvalidation_0-rmse:1.58378\tvalidation_1-rmse:3.19453\n",
      "[97]\tvalidation_0-rmse:1.58281\tvalidation_1-rmse:3.19389\n",
      "[98]\tvalidation_0-rmse:1.58082\tvalidation_1-rmse:3.19125\n",
      "[99]\tvalidation_0-rmse:1.56988\tvalidation_1-rmse:3.2088\n"
     ]
    },
    {
     "data": {
      "text/plain": [
       "XGBRegressor(base_score=0.5, booster='gbtree', colsample_bylevel=1,\n",
       "       colsample_bytree=1, gamma=0, learning_rate=0.1, max_delta_step=0,\n",
       "       max_depth=3, min_child_weight=1, missing=None, n_estimators=100,\n",
       "       n_jobs=1, nthread=None, objective='reg:linear', random_state=0,\n",
       "       reg_alpha=0, reg_lambda=1, scale_pos_weight=1, seed=None,\n",
       "       silent=True, subsample=1)"
      ]
     },
     "execution_count": 14,
     "metadata": {},
     "output_type": "execute_result"
    }
   ],
   "source": [
    "regressor.fit(X_train,y_train, eval_set = [(X_train, y_train), (X_validation, y_validation)])"
   ]
  },
  {
   "cell_type": "code",
   "execution_count": 15,
   "metadata": {
    "collapsed": true
   },
   "outputs": [],
   "source": [
    "eval_result = regressor.evals_result()"
   ]
  },
  {
   "cell_type": "code",
   "execution_count": 16,
   "metadata": {},
   "outputs": [
    {
     "data": {
      "text/plain": [
       "{'validation_0': {'rmse': [59.91539,\n",
       "   54.198971,\n",
       "   49.032558,\n",
       "   44.36945,\n",
       "   40.154881,\n",
       "   36.354263,\n",
       "   32.917763,\n",
       "   29.811041,\n",
       "   27.00647,\n",
       "   24.466795,\n",
       "   22.177771,\n",
       "   20.09539,\n",
       "   18.225262,\n",
       "   16.529873,\n",
       "   15.000331,\n",
       "   13.618901,\n",
       "   12.373326,\n",
       "   11.249956,\n",
       "   10.233866,\n",
       "   9.318343,\n",
       "   8.493932,\n",
       "   7.750203,\n",
       "   7.08306,\n",
       "   6.482958,\n",
       "   5.944533,\n",
       "   5.461228,\n",
       "   5.029148,\n",
       "   4.644796,\n",
       "   4.300961,\n",
       "   3.996599,\n",
       "   3.726644,\n",
       "   3.489061,\n",
       "   3.280589,\n",
       "   3.095958,\n",
       "   2.932368,\n",
       "   2.792294,\n",
       "   2.668564,\n",
       "   2.564667,\n",
       "   2.471993,\n",
       "   2.391735,\n",
       "   2.324584,\n",
       "   2.265652,\n",
       "   2.211031,\n",
       "   2.167151,\n",
       "   2.124197,\n",
       "   2.089766,\n",
       "   2.056503,\n",
       "   2.028913,\n",
       "   2.004578,\n",
       "   1.981877,\n",
       "   1.958192,\n",
       "   1.943447,\n",
       "   1.92439,\n",
       "   1.905876,\n",
       "   1.893058,\n",
       "   1.874805,\n",
       "   1.861881,\n",
       "   1.849355,\n",
       "   1.833931,\n",
       "   1.827931,\n",
       "   1.808806,\n",
       "   1.80372,\n",
       "   1.799252,\n",
       "   1.795322,\n",
       "   1.779727,\n",
       "   1.771783,\n",
       "   1.762211,\n",
       "   1.753605,\n",
       "   1.745494,\n",
       "   1.73795,\n",
       "   1.735292,\n",
       "   1.73009,\n",
       "   1.727898,\n",
       "   1.712081,\n",
       "   1.710151,\n",
       "   1.702242,\n",
       "   1.700556,\n",
       "   1.693676,\n",
       "   1.689172,\n",
       "   1.672489,\n",
       "   1.668589,\n",
       "   1.666137,\n",
       "   1.654633,\n",
       "   1.65329,\n",
       "   1.649924,\n",
       "   1.642864,\n",
       "   1.639964,\n",
       "   1.633737,\n",
       "   1.630537,\n",
       "   1.617307,\n",
       "   1.616102,\n",
       "   1.613585,\n",
       "   1.601553,\n",
       "   1.599239,\n",
       "   1.598153,\n",
       "   1.586302,\n",
       "   1.583778,\n",
       "   1.582805,\n",
       "   1.580822,\n",
       "   1.56988]},\n",
       " 'validation_1': {'rmse': [58.681473,\n",
       "   52.897392,\n",
       "   47.587917,\n",
       "   42.915535,\n",
       "   38.632984,\n",
       "   34.855446,\n",
       "   31.3881,\n",
       "   28.36302,\n",
       "   25.689039,\n",
       "   23.201878,\n",
       "   20.953201,\n",
       "   18.861052,\n",
       "   17.058331,\n",
       "   15.400195,\n",
       "   13.892498,\n",
       "   12.531649,\n",
       "   11.323496,\n",
       "   10.245634,\n",
       "   9.273886,\n",
       "   8.407865,\n",
       "   7.64458,\n",
       "   6.961862,\n",
       "   6.353477,\n",
       "   5.826744,\n",
       "   5.367486,\n",
       "   4.980397,\n",
       "   4.628602,\n",
       "   4.332576,\n",
       "   4.073379,\n",
       "   3.848645,\n",
       "   3.669331,\n",
       "   3.533566,\n",
       "   3.416063,\n",
       "   3.323011,\n",
       "   3.266785,\n",
       "   3.215289,\n",
       "   3.169452,\n",
       "   3.125037,\n",
       "   3.104085,\n",
       "   3.094724,\n",
       "   3.079638,\n",
       "   3.072339,\n",
       "   3.086902,\n",
       "   3.084845,\n",
       "   3.068149,\n",
       "   3.063886,\n",
       "   3.051474,\n",
       "   3.061406,\n",
       "   3.065242,\n",
       "   3.06625,\n",
       "   3.066523,\n",
       "   3.071537,\n",
       "   3.078767,\n",
       "   3.074394,\n",
       "   3.076063,\n",
       "   3.094378,\n",
       "   3.097977,\n",
       "   3.099723,\n",
       "   3.099658,\n",
       "   3.099208,\n",
       "   3.118413,\n",
       "   3.117846,\n",
       "   3.117349,\n",
       "   3.116912,\n",
       "   3.121892,\n",
       "   3.115035,\n",
       "   3.116039,\n",
       "   3.117379,\n",
       "   3.116395,\n",
       "   3.117776,\n",
       "   3.117114,\n",
       "   3.123637,\n",
       "   3.123022,\n",
       "   3.138993,\n",
       "   3.138358,\n",
       "   3.142422,\n",
       "   3.141802,\n",
       "   3.142766,\n",
       "   3.137907,\n",
       "   3.154441,\n",
       "   3.150153,\n",
       "   3.1487,\n",
       "   3.155957,\n",
       "   3.155344,\n",
       "   3.151419,\n",
       "   3.155706,\n",
       "   3.152217,\n",
       "   3.15673,\n",
       "   3.158929,\n",
       "   3.178086,\n",
       "   3.177371,\n",
       "   3.174187,\n",
       "   3.192648,\n",
       "   3.189597,\n",
       "   3.189595,\n",
       "   3.192508,\n",
       "   3.194531,\n",
       "   3.193888,\n",
       "   3.191246,\n",
       "   3.208797]}}"
      ]
     },
     "execution_count": 16,
     "metadata": {},
     "output_type": "execute_result"
    }
   ],
   "source": [
    "eval_result"
   ]
  },
  {
   "cell_type": "code",
   "execution_count": 17,
   "metadata": {
    "collapsed": true
   },
   "outputs": [],
   "source": [
    "training_rounds = range(len(eval_result['validation_0']['rmse']))"
   ]
  },
  {
   "cell_type": "code",
   "execution_count": 18,
   "metadata": {},
   "outputs": [
    {
     "name": "stdout",
     "output_type": "stream",
     "text": [
      "range(0, 100)\n"
     ]
    }
   ],
   "source": [
    "print(training_rounds)"
   ]
  },
  {
   "cell_type": "code",
   "execution_count": 19,
   "metadata": {},
   "outputs": [
    {
     "data": {
      "text/plain": [
       "<matplotlib.legend.Legend at 0x7f5e712e4208>"
      ]
     },
     "execution_count": 19,
     "metadata": {},
     "output_type": "execute_result"
    },
    {
     "data": {
      "image/png": "[encoded data removed]",
      "text/plain": [
       "<Figure size 432x288 with 1 Axes>"
      ]
     },
     "metadata": {},
     "output_type": "display_data"
    }
   ],
   "source": [
    "plt.scatter(x=training_rounds,y=eval_result['validation_0']['rmse'],label='Training Error')\n",
    "plt.scatter(x=training_rounds,y=eval_result['validation_1']['rmse'],label='Validation Error')\n",
    "plt.grid(True)\n",
    "plt.xlabel('Iterations')\n",
    "plt.ylabel('RMSE')\n",
    "plt.title('Training Vs Validation Error')\n",
    "plt.legend()"
   ]
  },
  {
   "cell_type": "code",
   "execution_count": 20,
   "metadata": {},
   "outputs": [
    {
     "data": {
      "text/plain": [
       "<matplotlib.axes._subplots.AxesSubplot at 0x7f5e712a9da0>"
      ]
     },
     "execution_count": 20,
     "metadata": {},
     "output_type": "execute_result"
    },
    {
     "data": {
      "image/png": "[encoded data removed]",
      "text/plain": [
       "<Figure size 432x288 with 1 Axes>"
      ]
     },
     "metadata": {},
     "output_type": "display_data"
    }
   ],
   "source": [
    "xgb.plot_importance(regressor)"
   ]
  },
  {
   "cell_type": "code",
   "execution_count": 21,
   "metadata": {},
   "outputs": [
    {
     "data": {
      "text/html": [
       "<div>\n",
       "<style scoped>\n",
       "    .dataframe tbody tr th:only-of-type {\n",
       "        vertical-align: middle;\n",
       "    }\n",
       "\n",
       "    .dataframe tbody tr th {\n",
       "        vertical-align: top;\n",
       "    }\n",
       "\n",
       "    .dataframe thead th {\n",
       "        text-align: right;\n",
       "    }\n",
       "</style>\n",
       "<table border=\"1\" class=\"dataframe\">\n",
       "  <thead>\n",
       "    <tr style=\"text-align: right;\">\n",
       "      <th></th>\n",
       "      <th>x</th>\n",
       "      <th>y</th>\n",
       "      <th>y_noisy</th>\n",
       "    </tr>\n",
       "  </thead>\n",
       "  <tbody>\n",
       "    <tr>\n",
       "      <th>0</th>\n",
       "      <td>4.439863</td>\n",
       "      <td>30.199317</td>\n",
       "      <td>27.659911</td>\n",
       "    </tr>\n",
       "    <tr>\n",
       "      <th>1</th>\n",
       "      <td>17.414646</td>\n",
       "      <td>95.073231</td>\n",
       "      <td>102.635654</td>\n",
       "    </tr>\n",
       "    <tr>\n",
       "      <th>2</th>\n",
       "      <td>4.134383</td>\n",
       "      <td>28.671916</td>\n",
       "      <td>24.974757</td>\n",
       "    </tr>\n",
       "    <tr>\n",
       "      <th>3</th>\n",
       "      <td>18.372218</td>\n",
       "      <td>99.861091</td>\n",
       "      <td>102.041951</td>\n",
       "    </tr>\n",
       "    <tr>\n",
       "      <th>4</th>\n",
       "      <td>9.768224</td>\n",
       "      <td>56.841119</td>\n",
       "      <td>56.978985</td>\n",
       "    </tr>\n",
       "  </tbody>\n",
       "</table>\n",
       "</div>"
      ],
      "text/plain": [
       "           x          y     y_noisy\n",
       "0   4.439863  30.199317   27.659911\n",
       "1  17.414646  95.073231  102.635654\n",
       "2   4.134383  28.671916   24.974757\n",
       "3  18.372218  99.861091  102.041951\n",
       "4   9.768224  56.841119   56.978985"
      ]
     },
     "execution_count": 21,
     "metadata": {},
     "output_type": "execute_result"
    }
   ],
   "source": [
    "df.head()"
   ]
  },
  {
   "cell_type": "code",
   "execution_count": 22,
   "metadata": {},
   "outputs": [
    {
     "name": "stdout",
     "output_type": "stream",
     "text": [
      "           x\n",
      "0   4.439863\n",
      "1  17.414646\n",
      "2   4.134383\n",
      "3  18.372218\n",
      "4   9.768224\n"
     ]
    }
   ],
   "source": [
    "X_test = df.iloc[:,:1]\n",
    "print(X_test[:5])"
   ]
  },
  {
   "cell_type": "code",
   "execution_count": 23,
   "metadata": {},
   "outputs": [
    {
     "data": {
      "text/plain": [
       "pandas.core.frame.DataFrame"
      ]
     },
     "execution_count": 23,
     "metadata": {},
     "output_type": "execute_result"
    }
   ],
   "source": [
    "# This works\n",
    "type(X_test)"
   ]
  },
  {
   "cell_type": "code",
   "execution_count": 24,
   "metadata": {},
   "outputs": [
    {
     "data": {
      "text/plain": [
       "pandas.core.series.Series"
      ]
     },
     "execution_count": 24,
     "metadata": {},
     "output_type": "execute_result"
    }
   ],
   "source": [
    "# This does not work\n",
    "type(df.iloc[:5,0])"
   ]
  },
  {
   "cell_type": "code",
   "execution_count": 25,
   "metadata": {
    "collapsed": true
   },
   "outputs": [],
   "source": [
    "result = regressor.predict(X_test)"
   ]
  },
  {
   "cell_type": "code",
   "execution_count": 26,
   "metadata": {},
   "outputs": [
    {
     "data": {
      "text/plain": [
       "array([32.158833, 99.79756 , 25.818325, 99.5197  , 57.693382],\n",
       "      dtype=float32)"
      ]
     },
     "execution_count": 26,
     "metadata": {},
     "output_type": "execute_result"
    }
   ],
   "source": [
    "result[:5]"
   ]
  },
  {
   "cell_type": "code",
   "execution_count": 27,
   "metadata": {
    "collapsed": true
   },
   "outputs": [],
   "source": [
    "df['y_predicted'] = result"
   ]
  },
  {
   "cell_type": "code",
   "execution_count": 28,
   "metadata": {},
   "outputs": [
    {
     "data": {
      "text/html": [
       "<div>\n",
       "<style scoped>\n",
       "    .dataframe tbody tr th:only-of-type {\n",
       "        vertical-align: middle;\n",
       "    }\n",
       "\n",
       "    .dataframe tbody tr th {\n",
       "        vertical-align: top;\n",
       "    }\n",
       "\n",
       "    .dataframe thead th {\n",
       "        text-align: right;\n",
       "    }\n",
       "</style>\n",
       "<table border=\"1\" class=\"dataframe\">\n",
       "  <thead>\n",
       "    <tr style=\"text-align: right;\">\n",
       "      <th></th>\n",
       "      <th>x</th>\n",
       "      <th>y</th>\n",
       "      <th>y_noisy</th>\n",
       "      <th>y_predicted</th>\n",
       "    </tr>\n",
       "  </thead>\n",
       "  <tbody>\n",
       "    <tr>\n",
       "      <th>0</th>\n",
       "      <td>4.439863</td>\n",
       "      <td>30.199317</td>\n",
       "      <td>27.659911</td>\n",
       "      <td>32.158833</td>\n",
       "    </tr>\n",
       "    <tr>\n",
       "      <th>1</th>\n",
       "      <td>17.414646</td>\n",
       "      <td>95.073231</td>\n",
       "      <td>102.635654</td>\n",
       "      <td>99.797562</td>\n",
       "    </tr>\n",
       "    <tr>\n",
       "      <th>2</th>\n",
       "      <td>4.134383</td>\n",
       "      <td>28.671916</td>\n",
       "      <td>24.974757</td>\n",
       "      <td>25.818325</td>\n",
       "    </tr>\n",
       "    <tr>\n",
       "      <th>3</th>\n",
       "      <td>18.372218</td>\n",
       "      <td>99.861091</td>\n",
       "      <td>102.041951</td>\n",
       "      <td>99.519699</td>\n",
       "    </tr>\n",
       "    <tr>\n",
       "      <th>4</th>\n",
       "      <td>9.768224</td>\n",
       "      <td>56.841119</td>\n",
       "      <td>56.978985</td>\n",
       "      <td>57.693382</td>\n",
       "    </tr>\n",
       "  </tbody>\n",
       "</table>\n",
       "</div>"
      ],
      "text/plain": [
       "           x          y     y_noisy  y_predicted\n",
       "0   4.439863  30.199317   27.659911    32.158833\n",
       "1  17.414646  95.073231  102.635654    99.797562\n",
       "2   4.134383  28.671916   24.974757    25.818325\n",
       "3  18.372218  99.861091  102.041951    99.519699\n",
       "4   9.768224  56.841119   56.978985    57.693382"
      ]
     },
     "execution_count": 28,
     "metadata": {},
     "output_type": "execute_result"
    }
   ],
   "source": [
    "df.head()"
   ]
  },
  {
   "cell_type": "code",
   "execution_count": 29,
   "metadata": {},
   "outputs": [
    {
     "data": {
      "text/plain": [
       "<matplotlib.legend.Legend at 0x7f5e7122bf60>"
      ]
     },
     "execution_count": 29,
     "metadata": {},
     "output_type": "execute_result"
    },
    {
     "data": {
      "image/png": "[encoded data removed]",
      "text/plain": [
       "<Figure size 432x288 with 1 Axes>"
      ]
     },
     "metadata": {},
     "output_type": "display_data"
    }
   ],
   "source": [
    "plt.scatter(x=df.x,y=df.y_noisy,color='r',label='actual')\n",
    "plt.scatter(x=df.x,y=df.y_predicted,color='b',label='predicted')\n",
    "plt.grid(True)\n",
    "plt.legend()"
   ]
  },
  {
   "cell_type": "code",
   "execution_count": 30,
   "metadata": {},
   "outputs": [
    {
     "data": {
      "image/png": "[encoded data removed]",
      "text/plain": [
       "<Figure size 432x288 with 1 Axes>"
      ]
     },
     "metadata": {},
     "output_type": "display_data"
    }
   ],
   "source": [
    "plt.boxplot([df.y_noisy,df.y_predicted], labels=['actual','predicted'])\n",
    "plt.title('Box Plot - Actual, Predicted')\n",
    "plt.ylabel('Target')\n",
    "plt.grid(True)"
   ]
  },
  {
   "cell_type": "code",
   "execution_count": 31,
   "metadata": {},
   "outputs": [
    {
     "data": {
      "text/plain": [
       "<matplotlib.lines.Line2D at 0x7f5e711d53c8>"
      ]
     },
     "execution_count": 31,
     "metadata": {},
     "output_type": "execute_result"
    },
    {
     "data": {
      "image/png": "[encoded data removed]",
      "text/plain": [
       "<Figure size 432x288 with 1 Axes>"
      ]
     },
     "metadata": {},
     "output_type": "display_data"
    }
   ],
   "source": [
    "# Over prediction and Under Prediction needs to be balanced\n",
    "# Training Data Residuals\n",
    "residuals = (df.y_predicted - df.y_noisy)\n",
    "\n",
    "plt.hist(residuals)\n",
    "plt.grid(True)\n",
    "plt.xlabel('(Predicted - Actual)')\n",
    "plt.ylabel('Count')\n",
    "plt.title('Residuals Distribution')\n",
    "plt.axvline(color='g')\n"
   ]
  },
  {
   "cell_type": "markdown",
   "metadata": {},
   "source": [
    "### Tree Based Algorithms cap the upper and lower values that are predicted."
   ]
  },
  {
   "cell_type": "code",
   "execution_count": 32,
   "metadata": {
    "collapsed": true
   },
   "outputs": [],
   "source": [
    "# True Function\n",
    "def straight_line(x):\n",
    "    return 5*x + 8"
   ]
  },
  {
   "cell_type": "code",
   "execution_count": 33,
   "metadata": {
    "collapsed": true
   },
   "outputs": [],
   "source": [
    "# X is outside range of training samples\n",
    "X = np.array([1000,25,-100,5000])\n",
    "tmp_df = pd.DataFrame({'x':X})"
   ]
  },
  {
   "cell_type": "code",
   "execution_count": 34,
   "metadata": {},
   "outputs": [
    {
     "name": "stdout",
     "output_type": "stream",
     "text": [
      "True Function:\n",
      "[ 5008   133  -492 25008]\n",
      "Predicted:\n",
      "[108.23764  108.23764   10.979865 108.23764 ]\n"
     ]
    }
   ],
   "source": [
    "print(\"True Function:\\n{0}\".format(straight_line(X)))\n",
    "print(\"Predicted:\\n{0}\".format(regressor.predict(tmp_df)))"
   ]
  },
  {
   "cell_type": "code",
   "execution_count": 35,
   "metadata": {
    "collapsed": true
   },
   "outputs": [],
   "source": [
    "# X is inside range of training samples\n",
    "X = np.array([0,1,3,5,7,9,11,15,18])\n",
    "tmp_df = pd.DataFrame({'x':X})"
   ]
  },
  {
   "cell_type": "code",
   "execution_count": 36,
   "metadata": {},
   "outputs": [
    {
     "name": "stdout",
     "output_type": "stream",
     "text": [
      "True Function:\n",
      "[ 8 13 23 33 43 53 63 83 98]\n",
      "Predicted:\n",
      "[10.979865 11.920725 20.232351 32.694294 41.305157 53.531315 64.285965\n",
      " 83.82669  99.538284]\n"
     ]
    }
   ],
   "source": [
    "print(\"True Function:\\n{0}\".format(straight_line(X)))\n",
    "print(\"Predicted:\\n{0}\".format(regressor.predict(tmp_df)))"
   ]
  },
  {
   "cell_type": "code",
   "execution_count": 37,
   "metadata": {
    "collapsed": true
   },
   "outputs": [
    {
     "data": {
      "text/html": [
       "<div>\n",
       "<style scoped>\n",
       "    .dataframe tbody tr th:only-of-type {\n",
       "        vertical-align: middle;\n",
       "    }\n",
       "\n",
       "    .dataframe tbody tr th {\n",
       "        vertical-align: top;\n",
       "    }\n",
       "\n",
       "    .dataframe thead th {\n",
       "        text-align: right;\n",
       "    }\n",
       "</style>\n",
       "<table border=\"1\" class=\"dataframe\">\n",
       "  <thead>\n",
       "    <tr style=\"text-align: right;\">\n",
       "      <th></th>\n",
       "      <th>x</th>\n",
       "      <th>y</th>\n",
       "      <th>y_noisy</th>\n",
       "      <th>y_predicted</th>\n",
       "    </tr>\n",
       "  </thead>\n",
       "  <tbody>\n",
       "    <tr>\n",
       "      <th>count</th>\n",
       "      <td>150.000000</td>\n",
       "      <td>150.000000</td>\n",
       "      <td>150.000000</td>\n",
       "      <td>150.000000</td>\n",
       "    </tr>\n",
       "    <tr>\n",
       "      <th>mean</th>\n",
       "      <td>10.155632</td>\n",
       "      <td>58.778159</td>\n",
       "      <td>58.639605</td>\n",
       "      <td>58.834286</td>\n",
       "    </tr>\n",
       "    <tr>\n",
       "      <th>std</th>\n",
       "      <td>6.137159</td>\n",
       "      <td>30.685793</td>\n",
       "      <td>31.214842</td>\n",
       "      <td>31.252228</td>\n",
       "    </tr>\n",
       "    <tr>\n",
       "      <th>min</th>\n",
       "      <td>0.032843</td>\n",
       "      <td>8.164217</td>\n",
       "      <td>4.927482</td>\n",
       "      <td>6.500861</td>\n",
       "    </tr>\n",
       "    <tr>\n",
       "      <th>25%</th>\n",
       "      <td>4.853069</td>\n",
       "      <td>32.265347</td>\n",
       "      <td>31.431020</td>\n",
       "      <td>32.158833</td>\n",
       "    </tr>\n",
       "    <tr>\n",
       "      <th>50%</th>\n",
       "      <td>10.250928</td>\n",
       "      <td>59.254638</td>\n",
       "      <td>58.780872</td>\n",
       "      <td>59.385063</td>\n",
       "    </tr>\n",
       "    <tr>\n",
       "      <th>75%</th>\n",
       "      <td>16.044461</td>\n",
       "      <td>88.222305</td>\n",
       "      <td>88.217169</td>\n",
       "      <td>88.770012</td>\n",
       "    </tr>\n",
       "    <tr>\n",
       "      <th>max</th>\n",
       "      <td>19.712488</td>\n",
       "      <td>106.562440</td>\n",
       "      <td>109.311361</td>\n",
       "      <td>108.237640</td>\n",
       "    </tr>\n",
       "  </tbody>\n",
       "</table>\n",
       "</div>"
      ],
      "text/plain": [
       "                x           y     y_noisy  y_predicted\n",
       "count  150.000000  150.000000  150.000000   150.000000\n",
       "mean    10.155632   58.778159   58.639605    58.834286\n",
       "std      6.137159   30.685793   31.214842    31.252228\n",
       "min      0.032843    8.164217    4.927482     6.500861\n",
       "25%      4.853069   32.265347   31.431020    32.158833\n",
       "50%     10.250928   59.254638   58.780872    59.385063\n",
       "75%     16.044461   88.222305   88.217169    88.770012\n",
       "max     19.712488  106.562440  109.311361   108.237640"
      ]
     },
     "execution_count": 37,
     "metadata": {},
     "output_type": "execute_result"
    }
   ],
   "source": [
    "df.describe()"
   ]
  },
  {
   "cell_type": "code",
   "execution_count": null,
   "metadata": {
    "collapsed": true
   },
   "outputs": [],
   "source": []
  }
 ],
 "metadata": {
  "kernelspec": {
   "display_name": "conda_python3",
   "language": "python",
   "name": "conda_python3"
  },
  "language_info": {
   "codemirror_mode": {
    "name": "ipython",
    "version": 3
   },
   "file_extension": ".py",
   "mimetype": "text/x-python",
   "name": "python",
   "nbconvert_exporter": "python",
   "pygments_lexer": "ipython3",
   "version": "3.6.5"
  }
 },
 "nbformat": 4,
 "nbformat_minor": 2
}
