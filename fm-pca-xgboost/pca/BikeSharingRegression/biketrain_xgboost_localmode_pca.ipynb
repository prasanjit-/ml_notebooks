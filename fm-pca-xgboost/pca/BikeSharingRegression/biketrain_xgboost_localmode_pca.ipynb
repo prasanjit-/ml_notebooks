{
 "cells": [
  {
   "cell_type": "markdown",
   "metadata": {},
   "source": [
    "## Train  model using PCA Components\n",
    "###  Model is trained with XGBoost installed in notebook instance"
   ]
  },
  {
   "cell_type": "code",
   "execution_count": null,
   "metadata": {},
   "outputs": [],
   "source": [
    "# Install xgboost in notebook instance.\n",
    "#### Command to install xgboost\n",
    "!conda install -y -c conda-forge xgboost"
   ]
  },
  {
   "cell_type": "code",
   "execution_count": 1,
   "metadata": {},
   "outputs": [],
   "source": [
    "%matplotlib inline\n",
    "import sys\n",
    "import numpy as np\n",
    "import pandas as pd\n",
    "import matplotlib.pyplot as plt\n",
    "import xgboost as xgb"
   ]
  },
  {
   "cell_type": "code",
   "execution_count": 2,
   "metadata": {},
   "outputs": [],
   "source": [
    "column_list_file = 'bike_train_column_list_pca.txt'\n",
    "train_file = 'bike_train_pca.csv'\n",
    "validation_file = 'bike_validation_pca.csv'\n",
    "test_file = 'bike_test_pca.csv'"
   ]
  },
  {
   "cell_type": "code",
   "execution_count": 3,
   "metadata": {},
   "outputs": [],
   "source": [
    "columns = ''\n",
    "with open(column_list_file,'r') as f:\n",
    "    columns = f.read().split(',')"
   ]
  },
  {
   "cell_type": "code",
   "execution_count": 4,
   "metadata": {},
   "outputs": [
    {
     "data": {
      "text/plain": [
       "['count',\n",
       " 'season',\n",
       " 'holiday',\n",
       " 'workingday',\n",
       " 'weather',\n",
       " 'year',\n",
       " 'month',\n",
       " 'day',\n",
       " 'dayofweek',\n",
       " 'hour',\n",
       " 'component_0',\n",
       " 'component_1',\n",
       " 'component_2']"
      ]
     },
     "execution_count": 4,
     "metadata": {},
     "output_type": "execute_result"
    }
   ],
   "source": [
    "columns"
   ]
  },
  {
   "cell_type": "code",
   "execution_count": 5,
   "metadata": {},
   "outputs": [],
   "source": [
    "# Specify the column names as the file does not have column header\n",
    "df_train = pd.read_csv(train_file,names=columns)\n",
    "df_validation = pd.read_csv(validation_file,names=columns)"
   ]
  },
  {
   "cell_type": "code",
   "execution_count": 6,
   "metadata": {},
   "outputs": [
    {
     "data": {
      "text/html": [
       "<div>\n",
       "<style scoped>\n",
       "    .dataframe tbody tr th:only-of-type {\n",
       "        vertical-align: middle;\n",
       "    }\n",
       "\n",
       "    .dataframe tbody tr th {\n",
       "        vertical-align: top;\n",
       "    }\n",
       "\n",
       "    .dataframe thead th {\n",
       "        text-align: right;\n",
       "    }\n",
       "</style>\n",
       "<table border=\"1\" class=\"dataframe\">\n",
       "  <thead>\n",
       "    <tr style=\"text-align: right;\">\n",
       "      <th></th>\n",
       "      <th>count</th>\n",
       "      <th>season</th>\n",
       "      <th>holiday</th>\n",
       "      <th>workingday</th>\n",
       "      <th>weather</th>\n",
       "      <th>year</th>\n",
       "      <th>month</th>\n",
       "      <th>day</th>\n",
       "      <th>dayofweek</th>\n",
       "      <th>hour</th>\n",
       "      <th>component_0</th>\n",
       "      <th>component_1</th>\n",
       "      <th>component_2</th>\n",
       "    </tr>\n",
       "  </thead>\n",
       "  <tbody>\n",
       "    <tr>\n",
       "      <th>0</th>\n",
       "      <td>4.477337</td>\n",
       "      <td>3</td>\n",
       "      <td>0</td>\n",
       "      <td>0</td>\n",
       "      <td>2</td>\n",
       "      <td>2011</td>\n",
       "      <td>9</td>\n",
       "      <td>3</td>\n",
       "      <td>5</td>\n",
       "      <td>0</td>\n",
       "      <td>1.081421</td>\n",
       "      <td>-0.937364</td>\n",
       "      <td>-0.014431</td>\n",
       "    </tr>\n",
       "    <tr>\n",
       "      <th>1</th>\n",
       "      <td>5.517453</td>\n",
       "      <td>3</td>\n",
       "      <td>0</td>\n",
       "      <td>1</td>\n",
       "      <td>1</td>\n",
       "      <td>2012</td>\n",
       "      <td>8</td>\n",
       "      <td>13</td>\n",
       "      <td>0</td>\n",
       "      <td>14</td>\n",
       "      <td>2.192260</td>\n",
       "      <td>0.507226</td>\n",
       "      <td>-1.412858</td>\n",
       "    </tr>\n",
       "  </tbody>\n",
       "</table>\n",
       "</div>"
      ],
      "text/plain": [
       "      count  season  holiday  workingday  weather  year  month  day  \\\n",
       "0  4.477337       3        0           0        2  2011      9    3   \n",
       "1  5.517453       3        0           1        1  2012      8   13   \n",
       "\n",
       "   dayofweek  hour  component_0  component_1  component_2  \n",
       "0          5     0     1.081421    -0.937364    -0.014431  \n",
       "1          0    14     2.192260     0.507226    -1.412858  "
      ]
     },
     "execution_count": 6,
     "metadata": {},
     "output_type": "execute_result"
    }
   ],
   "source": [
    "df_train.head(2)"
   ]
  },
  {
   "cell_type": "code",
   "execution_count": 7,
   "metadata": {},
   "outputs": [
    {
     "data": {
      "text/html": [
       "<div>\n",
       "<style scoped>\n",
       "    .dataframe tbody tr th:only-of-type {\n",
       "        vertical-align: middle;\n",
       "    }\n",
       "\n",
       "    .dataframe tbody tr th {\n",
       "        vertical-align: top;\n",
       "    }\n",
       "\n",
       "    .dataframe thead th {\n",
       "        text-align: right;\n",
       "    }\n",
       "</style>\n",
       "<table border=\"1\" class=\"dataframe\">\n",
       "  <thead>\n",
       "    <tr style=\"text-align: right;\">\n",
       "      <th></th>\n",
       "      <th>count</th>\n",
       "      <th>season</th>\n",
       "      <th>holiday</th>\n",
       "      <th>workingday</th>\n",
       "      <th>weather</th>\n",
       "      <th>year</th>\n",
       "      <th>month</th>\n",
       "      <th>day</th>\n",
       "      <th>dayofweek</th>\n",
       "      <th>hour</th>\n",
       "      <th>component_0</th>\n",
       "      <th>component_1</th>\n",
       "      <th>component_2</th>\n",
       "    </tr>\n",
       "  </thead>\n",
       "  <tbody>\n",
       "    <tr>\n",
       "      <th>0</th>\n",
       "      <td>6.095825</td>\n",
       "      <td>3</td>\n",
       "      <td>0</td>\n",
       "      <td>1</td>\n",
       "      <td>2</td>\n",
       "      <td>2011</td>\n",
       "      <td>7</td>\n",
       "      <td>7</td>\n",
       "      <td>3</td>\n",
       "      <td>8</td>\n",
       "      <td>1.511799</td>\n",
       "      <td>-0.648078</td>\n",
       "      <td>0.755707</td>\n",
       "    </tr>\n",
       "    <tr>\n",
       "      <th>1</th>\n",
       "      <td>5.961005</td>\n",
       "      <td>2</td>\n",
       "      <td>0</td>\n",
       "      <td>0</td>\n",
       "      <td>1</td>\n",
       "      <td>2011</td>\n",
       "      <td>6</td>\n",
       "      <td>11</td>\n",
       "      <td>5</td>\n",
       "      <td>13</td>\n",
       "      <td>2.344418</td>\n",
       "      <td>0.211416</td>\n",
       "      <td>-0.073554</td>\n",
       "    </tr>\n",
       "  </tbody>\n",
       "</table>\n",
       "</div>"
      ],
      "text/plain": [
       "      count  season  holiday  workingday  weather  year  month  day  \\\n",
       "0  6.095825       3        0           1        2  2011      7    7   \n",
       "1  5.961005       2        0           0        1  2011      6   11   \n",
       "\n",
       "   dayofweek  hour  component_0  component_1  component_2  \n",
       "0          3     8     1.511799    -0.648078     0.755707  \n",
       "1          5    13     2.344418     0.211416    -0.073554  "
      ]
     },
     "execution_count": 7,
     "metadata": {},
     "output_type": "execute_result"
    }
   ],
   "source": [
    "df_validation.head(2)"
   ]
  },
  {
   "cell_type": "code",
   "execution_count": 8,
   "metadata": {},
   "outputs": [
    {
     "data": {
      "text/html": [
       "<div>\n",
       "<style scoped>\n",
       "    .dataframe tbody tr th:only-of-type {\n",
       "        vertical-align: middle;\n",
       "    }\n",
       "\n",
       "    .dataframe tbody tr th {\n",
       "        vertical-align: top;\n",
       "    }\n",
       "\n",
       "    .dataframe thead th {\n",
       "        text-align: right;\n",
       "    }\n",
       "</style>\n",
       "<table border=\"1\" class=\"dataframe\">\n",
       "  <thead>\n",
       "    <tr style=\"text-align: right;\">\n",
       "      <th></th>\n",
       "      <th>season</th>\n",
       "      <th>holiday</th>\n",
       "      <th>workingday</th>\n",
       "      <th>weather</th>\n",
       "      <th>year</th>\n",
       "      <th>month</th>\n",
       "      <th>day</th>\n",
       "      <th>dayofweek</th>\n",
       "      <th>hour</th>\n",
       "      <th>component_0</th>\n",
       "    </tr>\n",
       "  </thead>\n",
       "  <tbody>\n",
       "    <tr>\n",
       "      <th>0</th>\n",
       "      <td>3</td>\n",
       "      <td>0</td>\n",
       "      <td>0</td>\n",
       "      <td>2</td>\n",
       "      <td>2011</td>\n",
       "      <td>9</td>\n",
       "      <td>3</td>\n",
       "      <td>5</td>\n",
       "      <td>0</td>\n",
       "      <td>1.081421</td>\n",
       "    </tr>\n",
       "    <tr>\n",
       "      <th>1</th>\n",
       "      <td>3</td>\n",
       "      <td>0</td>\n",
       "      <td>1</td>\n",
       "      <td>1</td>\n",
       "      <td>2012</td>\n",
       "      <td>8</td>\n",
       "      <td>13</td>\n",
       "      <td>0</td>\n",
       "      <td>14</td>\n",
       "      <td>2.192260</td>\n",
       "    </tr>\n",
       "  </tbody>\n",
       "</table>\n",
       "</div>"
      ],
      "text/plain": [
       "   season  holiday  workingday  weather  year  month  day  dayofweek  hour  \\\n",
       "0       3        0           0        2  2011      9    3          5     0   \n",
       "1       3        0           1        1  2012      8   13          0    14   \n",
       "\n",
       "   component_0  \n",
       "0     1.081421  \n",
       "1     2.192260  "
      ]
     },
     "execution_count": 8,
     "metadata": {},
     "output_type": "execute_result"
    }
   ],
   "source": [
    "df_train.iloc[:,1:-2].head(2)"
   ]
  },
  {
   "cell_type": "code",
   "execution_count": 9,
   "metadata": {},
   "outputs": [],
   "source": [
    "X_train = df_train.iloc[:,1:] # Features: 1st column onwards \n",
    "y_train = df_train.iloc[:,0].ravel() # Target: 0th column\n",
    "\n",
    "X_validation = df_validation.iloc[:,1:]\n",
    "y_validation = df_validation.iloc[:,0].ravel()"
   ]
  },
  {
   "cell_type": "code",
   "execution_count": 10,
   "metadata": {},
   "outputs": [],
   "source": [
    "# XGBoost Training Parameter Reference: \n",
    "#   https://github.com/dmlc/xgboost/blob/master/doc/parameter.md\n",
    "regressor = xgb.XGBRegressor(max_depth=5,eta=0.1,subsample=0.7,num_round=150,n_estimators=150)"
   ]
  },
  {
   "cell_type": "code",
   "execution_count": 11,
   "metadata": {},
   "outputs": [
    {
     "data": {
      "text/plain": [
       "XGBRegressor(base_score=0.5, booster='gbtree', colsample_bylevel=1,\n",
       "       colsample_bytree=1, eta=0.1, gamma=0, learning_rate=0.1,\n",
       "       max_delta_step=0, max_depth=5, min_child_weight=1, missing=None,\n",
       "       n_estimators=150, n_jobs=1, nthread=None, num_round=150,\n",
       "       objective='reg:linear', random_state=0, reg_alpha=0, reg_lambda=1,\n",
       "       scale_pos_weight=1, seed=None, silent=True, subsample=0.7)"
      ]
     },
     "execution_count": 11,
     "metadata": {},
     "output_type": "execute_result"
    }
   ],
   "source": [
    "regressor"
   ]
  },
  {
   "cell_type": "code",
   "execution_count": 12,
   "metadata": {},
   "outputs": [
    {
     "name": "stdout",
     "output_type": "stream",
     "text": [
      "[0]\tvalidation_0-rmse:3.90417\tvalidation_1-rmse:3.91436\n",
      "[1]\tvalidation_0-rmse:3.52485\tvalidation_1-rmse:3.53364\n",
      "[2]\tvalidation_0-rmse:3.18439\tvalidation_1-rmse:3.19215\n",
      "[3]\tvalidation_0-rmse:2.87804\tvalidation_1-rmse:2.88492\n",
      "[4]\tvalidation_0-rmse:2.60205\tvalidation_1-rmse:2.60833\n",
      "[5]\tvalidation_0-rmse:2.35445\tvalidation_1-rmse:2.35977\n",
      "[6]\tvalidation_0-rmse:2.1335\tvalidation_1-rmse:2.13889\n",
      "[7]\tvalidation_0-rmse:1.93422\tvalidation_1-rmse:1.94019\n",
      "[8]\tvalidation_0-rmse:1.75598\tvalidation_1-rmse:1.76186\n",
      "[9]\tvalidation_0-rmse:1.59734\tvalidation_1-rmse:1.60238\n",
      "[10]\tvalidation_0-rmse:1.45478\tvalidation_1-rmse:1.45954\n",
      "[11]\tvalidation_0-rmse:1.32733\tvalidation_1-rmse:1.33223\n",
      "[12]\tvalidation_0-rmse:1.21176\tvalidation_1-rmse:1.21685\n",
      "[13]\tvalidation_0-rmse:1.10638\tvalidation_1-rmse:1.11297\n",
      "[14]\tvalidation_0-rmse:1.01552\tvalidation_1-rmse:1.0222\n",
      "[15]\tvalidation_0-rmse:0.929391\tvalidation_1-rmse:0.937292\n",
      "[16]\tvalidation_0-rmse:0.857935\tvalidation_1-rmse:0.866833\n",
      "[17]\tvalidation_0-rmse:0.792153\tvalidation_1-rmse:0.801245\n",
      "[18]\tvalidation_0-rmse:0.735756\tvalidation_1-rmse:0.745264\n",
      "[19]\tvalidation_0-rmse:0.686756\tvalidation_1-rmse:0.696666\n",
      "[20]\tvalidation_0-rmse:0.640373\tvalidation_1-rmse:0.652008\n",
      "[21]\tvalidation_0-rmse:0.602406\tvalidation_1-rmse:0.615431\n",
      "[22]\tvalidation_0-rmse:0.568756\tvalidation_1-rmse:0.58292\n",
      "[23]\tvalidation_0-rmse:0.536108\tvalidation_1-rmse:0.550979\n",
      "[24]\tvalidation_0-rmse:0.509799\tvalidation_1-rmse:0.526213\n",
      "[25]\tvalidation_0-rmse:0.483409\tvalidation_1-rmse:0.501881\n",
      "[26]\tvalidation_0-rmse:0.463485\tvalidation_1-rmse:0.482359\n",
      "[27]\tvalidation_0-rmse:0.445778\tvalidation_1-rmse:0.465674\n",
      "[28]\tvalidation_0-rmse:0.430202\tvalidation_1-rmse:0.451507\n",
      "[29]\tvalidation_0-rmse:0.417433\tvalidation_1-rmse:0.439469\n",
      "[30]\tvalidation_0-rmse:0.398293\tvalidation_1-rmse:0.421066\n",
      "[31]\tvalidation_0-rmse:0.386392\tvalidation_1-rmse:0.409409\n",
      "[32]\tvalidation_0-rmse:0.373281\tvalidation_1-rmse:0.397694\n",
      "[33]\tvalidation_0-rmse:0.361601\tvalidation_1-rmse:0.387319\n",
      "[34]\tvalidation_0-rmse:0.355319\tvalidation_1-rmse:0.3816\n",
      "[35]\tvalidation_0-rmse:0.349697\tvalidation_1-rmse:0.376725\n",
      "[36]\tvalidation_0-rmse:0.345014\tvalidation_1-rmse:0.37259\n",
      "[37]\tvalidation_0-rmse:0.339956\tvalidation_1-rmse:0.368217\n",
      "[38]\tvalidation_0-rmse:0.336179\tvalidation_1-rmse:0.364948\n",
      "[39]\tvalidation_0-rmse:0.333044\tvalidation_1-rmse:0.362397\n",
      "[40]\tvalidation_0-rmse:0.329616\tvalidation_1-rmse:0.359951\n",
      "[41]\tvalidation_0-rmse:0.32672\tvalidation_1-rmse:0.358018\n",
      "[42]\tvalidation_0-rmse:0.31783\tvalidation_1-rmse:0.350194\n",
      "[43]\tvalidation_0-rmse:0.315675\tvalidation_1-rmse:0.348827\n",
      "[44]\tvalidation_0-rmse:0.314086\tvalidation_1-rmse:0.347852\n",
      "[45]\tvalidation_0-rmse:0.311841\tvalidation_1-rmse:0.346226\n",
      "[46]\tvalidation_0-rmse:0.309563\tvalidation_1-rmse:0.344458\n",
      "[47]\tvalidation_0-rmse:0.304487\tvalidation_1-rmse:0.34026\n",
      "[48]\tvalidation_0-rmse:0.302593\tvalidation_1-rmse:0.338798\n",
      "[49]\tvalidation_0-rmse:0.296766\tvalidation_1-rmse:0.333504\n",
      "[50]\tvalidation_0-rmse:0.292835\tvalidation_1-rmse:0.329784\n",
      "[51]\tvalidation_0-rmse:0.291423\tvalidation_1-rmse:0.328787\n",
      "[52]\tvalidation_0-rmse:0.287791\tvalidation_1-rmse:0.325677\n",
      "[53]\tvalidation_0-rmse:0.287057\tvalidation_1-rmse:0.325202\n",
      "[54]\tvalidation_0-rmse:0.28346\tvalidation_1-rmse:0.322062\n",
      "[55]\tvalidation_0-rmse:0.282544\tvalidation_1-rmse:0.321623\n",
      "[56]\tvalidation_0-rmse:0.281491\tvalidation_1-rmse:0.321084\n",
      "[57]\tvalidation_0-rmse:0.280268\tvalidation_1-rmse:0.32013\n",
      "[58]\tvalidation_0-rmse:0.279234\tvalidation_1-rmse:0.319567\n",
      "[59]\tvalidation_0-rmse:0.278431\tvalidation_1-rmse:0.319096\n",
      "[60]\tvalidation_0-rmse:0.275128\tvalidation_1-rmse:0.316352\n",
      "[61]\tvalidation_0-rmse:0.273089\tvalidation_1-rmse:0.314754\n",
      "[62]\tvalidation_0-rmse:0.272278\tvalidation_1-rmse:0.314113\n",
      "[63]\tvalidation_0-rmse:0.271651\tvalidation_1-rmse:0.313824\n",
      "[64]\tvalidation_0-rmse:0.27057\tvalidation_1-rmse:0.313127\n",
      "[65]\tvalidation_0-rmse:0.269412\tvalidation_1-rmse:0.312695\n",
      "[66]\tvalidation_0-rmse:0.267678\tvalidation_1-rmse:0.311187\n",
      "[67]\tvalidation_0-rmse:0.267341\tvalidation_1-rmse:0.311075\n",
      "[68]\tvalidation_0-rmse:0.26615\tvalidation_1-rmse:0.310258\n",
      "[69]\tvalidation_0-rmse:0.265531\tvalidation_1-rmse:0.310319\n",
      "[70]\tvalidation_0-rmse:0.265201\tvalidation_1-rmse:0.310247\n",
      "[71]\tvalidation_0-rmse:0.262578\tvalidation_1-rmse:0.308109\n",
      "[72]\tvalidation_0-rmse:0.261934\tvalidation_1-rmse:0.307789\n",
      "[73]\tvalidation_0-rmse:0.2617\tvalidation_1-rmse:0.30775\n",
      "[74]\tvalidation_0-rmse:0.261157\tvalidation_1-rmse:0.307848\n",
      "[75]\tvalidation_0-rmse:0.260283\tvalidation_1-rmse:0.307383\n",
      "[76]\tvalidation_0-rmse:0.259543\tvalidation_1-rmse:0.307283\n",
      "[77]\tvalidation_0-rmse:0.259053\tvalidation_1-rmse:0.306852\n",
      "[78]\tvalidation_0-rmse:0.258332\tvalidation_1-rmse:0.306419\n",
      "[79]\tvalidation_0-rmse:0.256259\tvalidation_1-rmse:0.304727\n",
      "[80]\tvalidation_0-rmse:0.255705\tvalidation_1-rmse:0.304721\n",
      "[81]\tvalidation_0-rmse:0.255206\tvalidation_1-rmse:0.304583\n",
      "[82]\tvalidation_0-rmse:0.254144\tvalidation_1-rmse:0.303865\n",
      "[83]\tvalidation_0-rmse:0.253597\tvalidation_1-rmse:0.303671\n",
      "[84]\tvalidation_0-rmse:0.252582\tvalidation_1-rmse:0.303322\n",
      "[85]\tvalidation_0-rmse:0.251923\tvalidation_1-rmse:0.303287\n",
      "[86]\tvalidation_0-rmse:0.251653\tvalidation_1-rmse:0.303165\n",
      "[87]\tvalidation_0-rmse:0.251267\tvalidation_1-rmse:0.303014\n",
      "[88]\tvalidation_0-rmse:0.250533\tvalidation_1-rmse:0.302752\n",
      "[89]\tvalidation_0-rmse:0.249911\tvalidation_1-rmse:0.302706\n",
      "[90]\tvalidation_0-rmse:0.249457\tvalidation_1-rmse:0.302624\n",
      "[91]\tvalidation_0-rmse:0.248933\tvalidation_1-rmse:0.302526\n",
      "[92]\tvalidation_0-rmse:0.248319\tvalidation_1-rmse:0.302445\n",
      "[93]\tvalidation_0-rmse:0.247984\tvalidation_1-rmse:0.302316\n",
      "[94]\tvalidation_0-rmse:0.247626\tvalidation_1-rmse:0.302196\n",
      "[95]\tvalidation_0-rmse:0.246211\tvalidation_1-rmse:0.301225\n",
      "[96]\tvalidation_0-rmse:0.245657\tvalidation_1-rmse:0.301214\n",
      "[97]\tvalidation_0-rmse:0.244838\tvalidation_1-rmse:0.301076\n",
      "[98]\tvalidation_0-rmse:0.243238\tvalidation_1-rmse:0.29985\n",
      "[99]\tvalidation_0-rmse:0.2427\tvalidation_1-rmse:0.299861\n",
      "[100]\tvalidation_0-rmse:0.242477\tvalidation_1-rmse:0.299827\n",
      "[101]\tvalidation_0-rmse:0.241979\tvalidation_1-rmse:0.299763\n",
      "[102]\tvalidation_0-rmse:0.241282\tvalidation_1-rmse:0.299614\n",
      "[103]\tvalidation_0-rmse:0.240814\tvalidation_1-rmse:0.299486\n",
      "[104]\tvalidation_0-rmse:0.240466\tvalidation_1-rmse:0.299479\n",
      "[105]\tvalidation_0-rmse:0.239671\tvalidation_1-rmse:0.299136\n",
      "[106]\tvalidation_0-rmse:0.23946\tvalidation_1-rmse:0.299171\n",
      "[107]\tvalidation_0-rmse:0.239321\tvalidation_1-rmse:0.299264\n",
      "[108]\tvalidation_0-rmse:0.239111\tvalidation_1-rmse:0.299296\n",
      "[109]\tvalidation_0-rmse:0.238616\tvalidation_1-rmse:0.299043\n",
      "[110]\tvalidation_0-rmse:0.238426\tvalidation_1-rmse:0.299088\n",
      "[111]\tvalidation_0-rmse:0.238187\tvalidation_1-rmse:0.299133\n",
      "[112]\tvalidation_0-rmse:0.237563\tvalidation_1-rmse:0.298576\n",
      "[113]\tvalidation_0-rmse:0.237133\tvalidation_1-rmse:0.298248\n",
      "[114]\tvalidation_0-rmse:0.23642\tvalidation_1-rmse:0.298006\n",
      "[115]\tvalidation_0-rmse:0.235457\tvalidation_1-rmse:0.297127\n",
      "[116]\tvalidation_0-rmse:0.234931\tvalidation_1-rmse:0.29711\n",
      "[117]\tvalidation_0-rmse:0.234572\tvalidation_1-rmse:0.296939\n",
      "[118]\tvalidation_0-rmse:0.234267\tvalidation_1-rmse:0.296925\n",
      "[119]\tvalidation_0-rmse:0.233924\tvalidation_1-rmse:0.296709\n",
      "[120]\tvalidation_0-rmse:0.233498\tvalidation_1-rmse:0.296517\n",
      "[121]\tvalidation_0-rmse:0.233346\tvalidation_1-rmse:0.296393\n",
      "[122]\tvalidation_0-rmse:0.232175\tvalidation_1-rmse:0.295529\n",
      "[123]\tvalidation_0-rmse:0.231829\tvalidation_1-rmse:0.295439\n",
      "[124]\tvalidation_0-rmse:0.231571\tvalidation_1-rmse:0.29552\n",
      "[125]\tvalidation_0-rmse:0.231101\tvalidation_1-rmse:0.295267\n",
      "[126]\tvalidation_0-rmse:0.230657\tvalidation_1-rmse:0.29527\n",
      "[127]\tvalidation_0-rmse:0.230589\tvalidation_1-rmse:0.29528\n",
      "[128]\tvalidation_0-rmse:0.230292\tvalidation_1-rmse:0.295311\n",
      "[129]\tvalidation_0-rmse:0.229961\tvalidation_1-rmse:0.295258\n",
      "[130]\tvalidation_0-rmse:0.229608\tvalidation_1-rmse:0.295188\n",
      "[131]\tvalidation_0-rmse:0.229359\tvalidation_1-rmse:0.29508\n",
      "[132]\tvalidation_0-rmse:0.229188\tvalidation_1-rmse:0.295057\n",
      "[133]\tvalidation_0-rmse:0.22897\tvalidation_1-rmse:0.29505\n",
      "[134]\tvalidation_0-rmse:0.228363\tvalidation_1-rmse:0.294575\n",
      "[135]\tvalidation_0-rmse:0.227749\tvalidation_1-rmse:0.294283\n",
      "[136]\tvalidation_0-rmse:0.227415\tvalidation_1-rmse:0.294334\n",
      "[137]\tvalidation_0-rmse:0.22709\tvalidation_1-rmse:0.294324\n",
      "[138]\tvalidation_0-rmse:0.226504\tvalidation_1-rmse:0.29431\n",
      "[139]\tvalidation_0-rmse:0.226075\tvalidation_1-rmse:0.294334\n",
      "[140]\tvalidation_0-rmse:0.225319\tvalidation_1-rmse:0.293843\n",
      "[141]\tvalidation_0-rmse:0.22517\tvalidation_1-rmse:0.293797\n",
      "[142]\tvalidation_0-rmse:0.224913\tvalidation_1-rmse:0.293732\n",
      "[143]\tvalidation_0-rmse:0.224442\tvalidation_1-rmse:0.293647\n",
      "[144]\tvalidation_0-rmse:0.224048\tvalidation_1-rmse:0.293547\n",
      "[145]\tvalidation_0-rmse:0.223608\tvalidation_1-rmse:0.293383\n",
      "[146]\tvalidation_0-rmse:0.223158\tvalidation_1-rmse:0.293323\n",
      "[147]\tvalidation_0-rmse:0.222812\tvalidation_1-rmse:0.293395\n",
      "[148]\tvalidation_0-rmse:0.222249\tvalidation_1-rmse:0.293099\n",
      "[149]\tvalidation_0-rmse:0.221904\tvalidation_1-rmse:0.293025\n"
     ]
    },
    {
     "data": {
      "text/plain": [
       "XGBRegressor(base_score=0.5, booster='gbtree', colsample_bylevel=1,\n",
       "       colsample_bytree=1, eta=0.1, gamma=0, learning_rate=0.1,\n",
       "       max_delta_step=0, max_depth=5, min_child_weight=1, missing=None,\n",
       "       n_estimators=150, n_jobs=1, nthread=None, num_round=150,\n",
       "       objective='reg:linear', random_state=0, reg_alpha=0, reg_lambda=1,\n",
       "       scale_pos_weight=1, seed=None, silent=True, subsample=0.7)"
      ]
     },
     "execution_count": 12,
     "metadata": {},
     "output_type": "execute_result"
    }
   ],
   "source": [
    "regressor.fit(X_train,y_train, eval_set = [(X_train, y_train), (X_validation, y_validation)])"
   ]
  },
  {
   "cell_type": "code",
   "execution_count": 13,
   "metadata": {},
   "outputs": [],
   "source": [
    "eval_result = regressor.evals_result()"
   ]
  },
  {
   "cell_type": "code",
   "execution_count": 14,
   "metadata": {},
   "outputs": [],
   "source": [
    "training_rounds = range(len(eval_result['validation_0']['rmse']))"
   ]
  },
  {
   "cell_type": "code",
   "execution_count": 15,
   "metadata": {},
   "outputs": [
    {
     "data": {
      "text/plain": [
       "<matplotlib.legend.Legend at 0x7ffa0386a390>"
      ]
     },
     "execution_count": 15,
     "metadata": {},
     "output_type": "execute_result"
    },
    {
     "data": {
      "image/png": "[encoded data removed]",
      "text/plain": [
       "<Figure size 432x288 with 1 Axes>"
      ]
     },
     "metadata": {},
     "output_type": "display_data"
    }
   ],
   "source": [
    "plt.scatter(x=training_rounds,y=eval_result['validation_0']['rmse'],label='Training Error')\n",
    "plt.scatter(x=training_rounds,y=eval_result['validation_1']['rmse'],label='Validation Error')\n",
    "plt.grid(True)\n",
    "plt.xlabel('Iteration')\n",
    "plt.ylabel('RMSE')\n",
    "plt.title('Training Vs Validation Error')\n",
    "plt.legend()"
   ]
  },
  {
   "cell_type": "code",
   "execution_count": 16,
   "metadata": {},
   "outputs": [
    {
     "data": {
      "text/plain": [
       "<matplotlib.axes._subplots.AxesSubplot at 0x7ffa037fc438>"
      ]
     },
     "execution_count": 16,
     "metadata": {},
     "output_type": "execute_result"
    },
    {
     "data": {
      "image/png": "[encoded data removed]",
      "text/plain": [
       "<Figure size 432x288 with 1 Axes>"
      ]
     },
     "metadata": {},
     "output_type": "display_data"
    }
   ],
   "source": [
    "xgb.plot_importance(regressor)"
   ]
  },
  {
   "cell_type": "code",
   "execution_count": 18,
   "metadata": {},
   "outputs": [],
   "source": [
    "def adjust_count(x):\n",
    "    if x < 0:\n",
    "        return 0\n",
    "    else:\n",
    "        return x"
   ]
  },
  {
   "cell_type": "code",
   "execution_count": 19,
   "metadata": {},
   "outputs": [],
   "source": [
    "# Prepare Data for Submission to Kaggle\n",
    "df_test = pd.read_csv(test_file,parse_dates=['datetime'])"
   ]
  },
  {
   "cell_type": "code",
   "execution_count": 20,
   "metadata": {},
   "outputs": [
    {
     "data": {
      "text/html": [
       "<div>\n",
       "<style scoped>\n",
       "    .dataframe tbody tr th:only-of-type {\n",
       "        vertical-align: middle;\n",
       "    }\n",
       "\n",
       "    .dataframe tbody tr th {\n",
       "        vertical-align: top;\n",
       "    }\n",
       "\n",
       "    .dataframe thead th {\n",
       "        text-align: right;\n",
       "    }\n",
       "</style>\n",
       "<table border=\"1\" class=\"dataframe\">\n",
       "  <thead>\n",
       "    <tr style=\"text-align: right;\">\n",
       "      <th></th>\n",
       "      <th>datetime</th>\n",
       "      <th>season</th>\n",
       "      <th>holiday</th>\n",
       "      <th>workingday</th>\n",
       "      <th>weather</th>\n",
       "      <th>year</th>\n",
       "      <th>month</th>\n",
       "      <th>day</th>\n",
       "      <th>dayofweek</th>\n",
       "      <th>hour</th>\n",
       "      <th>component_0</th>\n",
       "      <th>component_1</th>\n",
       "      <th>component_2</th>\n",
       "    </tr>\n",
       "  </thead>\n",
       "  <tbody>\n",
       "    <tr>\n",
       "      <th>0</th>\n",
       "      <td>2011-01-20 00:00:00</td>\n",
       "      <td>1</td>\n",
       "      <td>0</td>\n",
       "      <td>1</td>\n",
       "      <td>1</td>\n",
       "      <td>2011</td>\n",
       "      <td>1</td>\n",
       "      <td>20</td>\n",
       "      <td>3</td>\n",
       "      <td>0</td>\n",
       "      <td>-1.920363</td>\n",
       "      <td>1.412416</td>\n",
       "      <td>0.791086</td>\n",
       "    </tr>\n",
       "    <tr>\n",
       "      <th>1</th>\n",
       "      <td>2011-01-20 01:00:00</td>\n",
       "      <td>1</td>\n",
       "      <td>0</td>\n",
       "      <td>1</td>\n",
       "      <td>1</td>\n",
       "      <td>2011</td>\n",
       "      <td>1</td>\n",
       "      <td>20</td>\n",
       "      <td>3</td>\n",
       "      <td>1</td>\n",
       "      <td>-1.629284</td>\n",
       "      <td>-0.856109</td>\n",
       "      <td>-1.439095</td>\n",
       "    </tr>\n",
       "  </tbody>\n",
       "</table>\n",
       "</div>"
      ],
      "text/plain": [
       "             datetime  season  holiday  workingday  weather  year  month  day  \\\n",
       "0 2011-01-20 00:00:00       1        0           1        1  2011      1   20   \n",
       "1 2011-01-20 01:00:00       1        0           1        1  2011      1   20   \n",
       "\n",
       "   dayofweek  hour  component_0  component_1  component_2  \n",
       "0          3     0    -1.920363     1.412416     0.791086  \n",
       "1          3     1    -1.629284    -0.856109    -1.439095  "
      ]
     },
     "execution_count": 20,
     "metadata": {},
     "output_type": "execute_result"
    }
   ],
   "source": [
    "df_test.head(2)"
   ]
  },
  {
   "cell_type": "code",
   "execution_count": 21,
   "metadata": {},
   "outputs": [],
   "source": [
    "X_test =  df_test.iloc[:,1:] # Exclude datetime for prediction"
   ]
  },
  {
   "cell_type": "code",
   "execution_count": 22,
   "metadata": {},
   "outputs": [
    {
     "data": {
      "text/html": [
       "<div>\n",
       "<style scoped>\n",
       "    .dataframe tbody tr th:only-of-type {\n",
       "        vertical-align: middle;\n",
       "    }\n",
       "\n",
       "    .dataframe tbody tr th {\n",
       "        vertical-align: top;\n",
       "    }\n",
       "\n",
       "    .dataframe thead th {\n",
       "        text-align: right;\n",
       "    }\n",
       "</style>\n",
       "<table border=\"1\" class=\"dataframe\">\n",
       "  <thead>\n",
       "    <tr style=\"text-align: right;\">\n",
       "      <th></th>\n",
       "      <th>season</th>\n",
       "      <th>holiday</th>\n",
       "      <th>workingday</th>\n",
       "      <th>weather</th>\n",
       "      <th>year</th>\n",
       "      <th>month</th>\n",
       "      <th>day</th>\n",
       "      <th>dayofweek</th>\n",
       "      <th>hour</th>\n",
       "      <th>component_0</th>\n",
       "      <th>component_1</th>\n",
       "      <th>component_2</th>\n",
       "    </tr>\n",
       "  </thead>\n",
       "  <tbody>\n",
       "    <tr>\n",
       "      <th>0</th>\n",
       "      <td>1</td>\n",
       "      <td>0</td>\n",
       "      <td>1</td>\n",
       "      <td>1</td>\n",
       "      <td>2011</td>\n",
       "      <td>1</td>\n",
       "      <td>20</td>\n",
       "      <td>3</td>\n",
       "      <td>0</td>\n",
       "      <td>-1.920363</td>\n",
       "      <td>1.412416</td>\n",
       "      <td>0.791086</td>\n",
       "    </tr>\n",
       "    <tr>\n",
       "      <th>1</th>\n",
       "      <td>1</td>\n",
       "      <td>0</td>\n",
       "      <td>1</td>\n",
       "      <td>1</td>\n",
       "      <td>2011</td>\n",
       "      <td>1</td>\n",
       "      <td>20</td>\n",
       "      <td>3</td>\n",
       "      <td>1</td>\n",
       "      <td>-1.629284</td>\n",
       "      <td>-0.856109</td>\n",
       "      <td>-1.439095</td>\n",
       "    </tr>\n",
       "  </tbody>\n",
       "</table>\n",
       "</div>"
      ],
      "text/plain": [
       "   season  holiday  workingday  weather  year  month  day  dayofweek  hour  \\\n",
       "0       1        0           1        1  2011      1   20          3     0   \n",
       "1       1        0           1        1  2011      1   20          3     1   \n",
       "\n",
       "   component_0  component_1  component_2  \n",
       "0    -1.920363     1.412416     0.791086  \n",
       "1    -1.629284    -0.856109    -1.439095  "
      ]
     },
     "execution_count": 22,
     "metadata": {},
     "output_type": "execute_result"
    }
   ],
   "source": [
    "X_test.head(2)"
   ]
  },
  {
   "cell_type": "code",
   "execution_count": 23,
   "metadata": {},
   "outputs": [],
   "source": [
    "result = regressor.predict(X_test)"
   ]
  },
  {
   "cell_type": "code",
   "execution_count": 24,
   "metadata": {},
   "outputs": [
    {
     "data": {
      "text/plain": [
       "array([2.477745 , 1.868279 , 1.611922 , 1.0965617, 1.0515537],\n",
       "      dtype=float32)"
      ]
     },
     "execution_count": 24,
     "metadata": {},
     "output_type": "execute_result"
    }
   ],
   "source": [
    "result[:5]"
   ]
  },
  {
   "cell_type": "code",
   "execution_count": 25,
   "metadata": {},
   "outputs": [],
   "source": [
    "# Convert result to actual count\n",
    "df_test[\"count\"] = np.expm1(result)"
   ]
  },
  {
   "cell_type": "code",
   "execution_count": 26,
   "metadata": {},
   "outputs": [
    {
     "data": {
      "text/html": [
       "<div>\n",
       "<style scoped>\n",
       "    .dataframe tbody tr th:only-of-type {\n",
       "        vertical-align: middle;\n",
       "    }\n",
       "\n",
       "    .dataframe tbody tr th {\n",
       "        vertical-align: top;\n",
       "    }\n",
       "\n",
       "    .dataframe thead th {\n",
       "        text-align: right;\n",
       "    }\n",
       "</style>\n",
       "<table border=\"1\" class=\"dataframe\">\n",
       "  <thead>\n",
       "    <tr style=\"text-align: right;\">\n",
       "      <th></th>\n",
       "      <th>datetime</th>\n",
       "      <th>season</th>\n",
       "      <th>holiday</th>\n",
       "      <th>workingday</th>\n",
       "      <th>weather</th>\n",
       "      <th>year</th>\n",
       "      <th>month</th>\n",
       "      <th>day</th>\n",
       "      <th>dayofweek</th>\n",
       "      <th>hour</th>\n",
       "      <th>component_0</th>\n",
       "      <th>component_1</th>\n",
       "      <th>component_2</th>\n",
       "      <th>count</th>\n",
       "    </tr>\n",
       "  </thead>\n",
       "  <tbody>\n",
       "    <tr>\n",
       "      <th>0</th>\n",
       "      <td>2011-01-20 00:00:00</td>\n",
       "      <td>1</td>\n",
       "      <td>0</td>\n",
       "      <td>1</td>\n",
       "      <td>1</td>\n",
       "      <td>2011</td>\n",
       "      <td>1</td>\n",
       "      <td>20</td>\n",
       "      <td>3</td>\n",
       "      <td>0</td>\n",
       "      <td>-1.920363</td>\n",
       "      <td>1.412416</td>\n",
       "      <td>0.791086</td>\n",
       "      <td>10.914368</td>\n",
       "    </tr>\n",
       "    <tr>\n",
       "      <th>1</th>\n",
       "      <td>2011-01-20 01:00:00</td>\n",
       "      <td>1</td>\n",
       "      <td>0</td>\n",
       "      <td>1</td>\n",
       "      <td>1</td>\n",
       "      <td>2011</td>\n",
       "      <td>1</td>\n",
       "      <td>20</td>\n",
       "      <td>3</td>\n",
       "      <td>1</td>\n",
       "      <td>-1.629284</td>\n",
       "      <td>-0.856109</td>\n",
       "      <td>-1.439095</td>\n",
       "      <td>5.477139</td>\n",
       "    </tr>\n",
       "    <tr>\n",
       "      <th>2</th>\n",
       "      <td>2011-01-20 02:00:00</td>\n",
       "      <td>1</td>\n",
       "      <td>0</td>\n",
       "      <td>1</td>\n",
       "      <td>1</td>\n",
       "      <td>2011</td>\n",
       "      <td>1</td>\n",
       "      <td>20</td>\n",
       "      <td>3</td>\n",
       "      <td>2</td>\n",
       "      <td>-1.629284</td>\n",
       "      <td>-0.856109</td>\n",
       "      <td>-1.439095</td>\n",
       "      <td>4.012436</td>\n",
       "    </tr>\n",
       "    <tr>\n",
       "      <th>3</th>\n",
       "      <td>2011-01-20 03:00:00</td>\n",
       "      <td>1</td>\n",
       "      <td>0</td>\n",
       "      <td>1</td>\n",
       "      <td>1</td>\n",
       "      <td>2011</td>\n",
       "      <td>1</td>\n",
       "      <td>20</td>\n",
       "      <td>3</td>\n",
       "      <td>3</td>\n",
       "      <td>-1.735344</td>\n",
       "      <td>0.102855</td>\n",
       "      <td>-0.494568</td>\n",
       "      <td>1.993854</td>\n",
       "    </tr>\n",
       "    <tr>\n",
       "      <th>4</th>\n",
       "      <td>2011-01-20 04:00:00</td>\n",
       "      <td>1</td>\n",
       "      <td>0</td>\n",
       "      <td>1</td>\n",
       "      <td>1</td>\n",
       "      <td>2011</td>\n",
       "      <td>1</td>\n",
       "      <td>20</td>\n",
       "      <td>3</td>\n",
       "      <td>4</td>\n",
       "      <td>-1.735344</td>\n",
       "      <td>0.102855</td>\n",
       "      <td>-0.494568</td>\n",
       "      <td>1.862095</td>\n",
       "    </tr>\n",
       "  </tbody>\n",
       "</table>\n",
       "</div>"
      ],
      "text/plain": [
       "             datetime  season  holiday  workingday  weather  year  month  day  \\\n",
       "0 2011-01-20 00:00:00       1        0           1        1  2011      1   20   \n",
       "1 2011-01-20 01:00:00       1        0           1        1  2011      1   20   \n",
       "2 2011-01-20 02:00:00       1        0           1        1  2011      1   20   \n",
       "3 2011-01-20 03:00:00       1        0           1        1  2011      1   20   \n",
       "4 2011-01-20 04:00:00       1        0           1        1  2011      1   20   \n",
       "\n",
       "   dayofweek  hour  component_0  component_1  component_2      count  \n",
       "0          3     0    -1.920363     1.412416     0.791086  10.914368  \n",
       "1          3     1    -1.629284    -0.856109    -1.439095   5.477139  \n",
       "2          3     2    -1.629284    -0.856109    -1.439095   4.012436  \n",
       "3          3     3    -1.735344     0.102855    -0.494568   1.993854  \n",
       "4          3     4    -1.735344     0.102855    -0.494568   1.862095  "
      ]
     },
     "execution_count": 26,
     "metadata": {},
     "output_type": "execute_result"
    }
   ],
   "source": [
    "df_test.head()"
   ]
  },
  {
   "cell_type": "code",
   "execution_count": 27,
   "metadata": {},
   "outputs": [
    {
     "data": {
      "text/html": [
       "<div>\n",
       "<style scoped>\n",
       "    .dataframe tbody tr th:only-of-type {\n",
       "        vertical-align: middle;\n",
       "    }\n",
       "\n",
       "    .dataframe tbody tr th {\n",
       "        vertical-align: top;\n",
       "    }\n",
       "\n",
       "    .dataframe thead th {\n",
       "        text-align: right;\n",
       "    }\n",
       "</style>\n",
       "<table border=\"1\" class=\"dataframe\">\n",
       "  <thead>\n",
       "    <tr style=\"text-align: right;\">\n",
       "      <th></th>\n",
       "      <th>datetime</th>\n",
       "      <th>season</th>\n",
       "      <th>holiday</th>\n",
       "      <th>workingday</th>\n",
       "      <th>weather</th>\n",
       "      <th>year</th>\n",
       "      <th>month</th>\n",
       "      <th>day</th>\n",
       "      <th>dayofweek</th>\n",
       "      <th>hour</th>\n",
       "      <th>component_0</th>\n",
       "      <th>component_1</th>\n",
       "      <th>component_2</th>\n",
       "      <th>count</th>\n",
       "    </tr>\n",
       "  </thead>\n",
       "  <tbody>\n",
       "  </tbody>\n",
       "</table>\n",
       "</div>"
      ],
      "text/plain": [
       "Empty DataFrame\n",
       "Columns: [datetime, season, holiday, workingday, weather, year, month, day, dayofweek, hour, component_0, component_1, component_2, count]\n",
       "Index: []"
      ]
     },
     "execution_count": 27,
     "metadata": {},
     "output_type": "execute_result"
    }
   ],
   "source": [
    "df_test[df_test[\"count\"] < 0]"
   ]
  },
  {
   "cell_type": "code",
   "execution_count": 28,
   "metadata": {},
   "outputs": [],
   "source": [
    "df_test['count'] = df_test['count'].map(adjust_count)"
   ]
  },
  {
   "cell_type": "code",
   "execution_count": 29,
   "metadata": {},
   "outputs": [
    {
     "data": {
      "text/html": [
       "<div>\n",
       "<style scoped>\n",
       "    .dataframe tbody tr th:only-of-type {\n",
       "        vertical-align: middle;\n",
       "    }\n",
       "\n",
       "    .dataframe tbody tr th {\n",
       "        vertical-align: top;\n",
       "    }\n",
       "\n",
       "    .dataframe thead th {\n",
       "        text-align: right;\n",
       "    }\n",
       "</style>\n",
       "<table border=\"1\" class=\"dataframe\">\n",
       "  <thead>\n",
       "    <tr style=\"text-align: right;\">\n",
       "      <th></th>\n",
       "      <th>datetime</th>\n",
       "      <th>season</th>\n",
       "      <th>holiday</th>\n",
       "      <th>workingday</th>\n",
       "      <th>weather</th>\n",
       "      <th>year</th>\n",
       "      <th>month</th>\n",
       "      <th>day</th>\n",
       "      <th>dayofweek</th>\n",
       "      <th>hour</th>\n",
       "      <th>component_0</th>\n",
       "      <th>component_1</th>\n",
       "      <th>component_2</th>\n",
       "      <th>count</th>\n",
       "    </tr>\n",
       "  </thead>\n",
       "  <tbody>\n",
       "  </tbody>\n",
       "</table>\n",
       "</div>"
      ],
      "text/plain": [
       "Empty DataFrame\n",
       "Columns: [datetime, season, holiday, workingday, weather, year, month, day, dayofweek, hour, component_0, component_1, component_2, count]\n",
       "Index: []"
      ]
     },
     "execution_count": 29,
     "metadata": {},
     "output_type": "execute_result"
    }
   ],
   "source": [
    "df_test[df_test[\"count\"] < 0]"
   ]
  },
  {
   "cell_type": "code",
   "execution_count": 30,
   "metadata": {},
   "outputs": [],
   "source": [
    "df_test[['datetime','count']].to_csv('predicted_count_pca.csv',index=False)"
   ]
  },
  {
   "cell_type": "code",
   "execution_count": null,
   "metadata": {},
   "outputs": [],
   "source": []
  },
  {
   "cell_type": "code",
   "execution_count": null,
   "metadata": {},
   "outputs": [],
   "source": []
  }
 ],
 "metadata": {
  "kernelspec": {
   "display_name": "conda_python3",
   "language": "python",
   "name": "conda_python3"
  },
  "language_info": {
   "codemirror_mode": {
    "name": "ipython",
    "version": 3
   },
   "file_extension": ".py",
   "mimetype": "text/x-python",
   "name": "python",
   "nbconvert_exporter": "python",
   "pygments_lexer": "ipython3",
   "version": "3.6.5"
  }
 },
 "nbformat": 4,
 "nbformat_minor": 2
}
