{
 "cells": [
  {
   "cell_type": "code",
   "execution_count": 1,
   "metadata": {},
   "outputs": [],
   "source": [
    "%matplotlib inline\n",
    "import numpy as np\n",
    "import pandas as pd\n",
    "import matplotlib.pyplot as plt\n",
    "from sklearn.preprocessing import StandardScaler # Normalizing data set\n",
    "# http://scikit-learn.org/stable/modules/generated/sklearn.preprocessing.StandardScaler.html\n",
    "from sklearn.decomposition import PCA\n",
    "# http://scikit-learn.org/stable/modules/generated/sklearn.decomposition.PCA.html"
   ]
  },
  {
   "cell_type": "markdown",
   "metadata": {},
   "source": [
    "<h2>Correlated Data with PCA</h2>\n",
    "<h4>Demonstrate how PCA works with dataset containing related features</h4>\n",
    "<br>\n",
    "Input Features: 10 columns are related to each other. x,x^2,x^3,...<br>\n",
    "Target Feature: y is sum of all input features for that sample<br>\n",
    "Objective: <br><quote>1. Demonstrate how PCA is able to reduce the input dimensions<br>2. Train two Linear Regression models one with original features and another with PCA components.<br>Compare the outcome</quote>"
   ]
  },
  {
   "cell_type": "code",
   "execution_count": 2,
   "metadata": {},
   "outputs": [],
   "source": [
    "# 1000 rows x 10 columns\n",
    "np.random.seed(5)\n",
    "# Generate 1000 random values between 0 and 1\n",
    "random_data = np.random.rand(1000)"
   ]
  },
  {
   "cell_type": "code",
   "execution_count": 3,
   "metadata": {},
   "outputs": [
    {
     "data": {
      "text/plain": [
       "(1000,)"
      ]
     },
     "execution_count": 3,
     "metadata": {},
     "output_type": "execute_result"
    }
   ],
   "source": [
    "random_data.shape"
   ]
  },
  {
   "cell_type": "code",
   "execution_count": 4,
   "metadata": {},
   "outputs": [
    {
     "data": {
      "text/plain": [
       "array([0.22199317, 0.87073231, 0.20671916, 0.91861091, 0.48841119])"
      ]
     },
     "execution_count": 4,
     "metadata": {},
     "output_type": "execute_result"
    }
   ],
   "source": [
    "random_data[:5]"
   ]
  },
  {
   "cell_type": "code",
   "execution_count": 5,
   "metadata": {},
   "outputs": [],
   "source": [
    "# Add 10 columns. \n",
    "# x = random_data\n",
    "# Columns: x,x^2,x^3,....\n",
    "col_data = {}\n",
    "for i in range(10):\n",
    "    col_data[i] = random_data ** (i+1)"
   ]
  },
  {
   "cell_type": "code",
   "execution_count": 6,
   "metadata": {},
   "outputs": [],
   "source": [
    "df = pd.DataFrame(col_data)"
   ]
  },
  {
   "cell_type": "code",
   "execution_count": 7,
   "metadata": {},
   "outputs": [
    {
     "data": {
      "text/plain": [
       "(1000, 10)"
      ]
     },
     "execution_count": 7,
     "metadata": {},
     "output_type": "execute_result"
    }
   ],
   "source": [
    "df.shape"
   ]
  },
  {
   "cell_type": "code",
   "execution_count": 8,
   "metadata": {},
   "outputs": [
    {
     "data": {
      "text/html": [
       "<div>\n",
       "<style scoped>\n",
       "    .dataframe tbody tr th:only-of-type {\n",
       "        vertical-align: middle;\n",
       "    }\n",
       "\n",
       "    .dataframe tbody tr th {\n",
       "        vertical-align: top;\n",
       "    }\n",
       "\n",
       "    .dataframe thead th {\n",
       "        text-align: right;\n",
       "    }\n",
       "</style>\n",
       "<table border=\"1\" class=\"dataframe\">\n",
       "  <thead>\n",
       "    <tr style=\"text-align: right;\">\n",
       "      <th></th>\n",
       "      <th>0</th>\n",
       "      <th>1</th>\n",
       "      <th>2</th>\n",
       "      <th>3</th>\n",
       "      <th>4</th>\n",
       "      <th>5</th>\n",
       "      <th>6</th>\n",
       "      <th>7</th>\n",
       "      <th>8</th>\n",
       "      <th>9</th>\n",
       "    </tr>\n",
       "  </thead>\n",
       "  <tbody>\n",
       "    <tr>\n",
       "      <th>0</th>\n",
       "      <td>0.221993</td>\n",
       "      <td>0.049281</td>\n",
       "      <td>0.010940</td>\n",
       "      <td>0.002429</td>\n",
       "      <td>0.000539</td>\n",
       "      <td>0.000120</td>\n",
       "      <td>0.000027</td>\n",
       "      <td>0.000006</td>\n",
       "      <td>1.309352e-06</td>\n",
       "      <td>2.906673e-07</td>\n",
       "    </tr>\n",
       "    <tr>\n",
       "      <th>1</th>\n",
       "      <td>0.870732</td>\n",
       "      <td>0.758175</td>\n",
       "      <td>0.660167</td>\n",
       "      <td>0.574829</td>\n",
       "      <td>0.500522</td>\n",
       "      <td>0.435821</td>\n",
       "      <td>0.379483</td>\n",
       "      <td>0.330428</td>\n",
       "      <td>2.877146e-01</td>\n",
       "      <td>2.505224e-01</td>\n",
       "    </tr>\n",
       "    <tr>\n",
       "      <th>2</th>\n",
       "      <td>0.206719</td>\n",
       "      <td>0.042733</td>\n",
       "      <td>0.008834</td>\n",
       "      <td>0.001826</td>\n",
       "      <td>0.000377</td>\n",
       "      <td>0.000078</td>\n",
       "      <td>0.000016</td>\n",
       "      <td>0.000003</td>\n",
       "      <td>6.893289e-07</td>\n",
       "      <td>1.424975e-07</td>\n",
       "    </tr>\n",
       "    <tr>\n",
       "      <th>3</th>\n",
       "      <td>0.918611</td>\n",
       "      <td>0.843846</td>\n",
       "      <td>0.775166</td>\n",
       "      <td>0.712076</td>\n",
       "      <td>0.654121</td>\n",
       "      <td>0.600883</td>\n",
       "      <td>0.551977</td>\n",
       "      <td>0.507052</td>\n",
       "      <td>4.657838e-01</td>\n",
       "      <td>4.278741e-01</td>\n",
       "    </tr>\n",
       "    <tr>\n",
       "      <th>4</th>\n",
       "      <td>0.488411</td>\n",
       "      <td>0.238545</td>\n",
       "      <td>0.116508</td>\n",
       "      <td>0.056904</td>\n",
       "      <td>0.027793</td>\n",
       "      <td>0.013574</td>\n",
       "      <td>0.006630</td>\n",
       "      <td>0.003238</td>\n",
       "      <td>1.581505e-03</td>\n",
       "      <td>7.724245e-04</td>\n",
       "    </tr>\n",
       "  </tbody>\n",
       "</table>\n",
       "</div>"
      ],
      "text/plain": [
       "          0         1         2         3         4         5         6  \\\n",
       "0  0.221993  0.049281  0.010940  0.002429  0.000539  0.000120  0.000027   \n",
       "1  0.870732  0.758175  0.660167  0.574829  0.500522  0.435821  0.379483   \n",
       "2  0.206719  0.042733  0.008834  0.001826  0.000377  0.000078  0.000016   \n",
       "3  0.918611  0.843846  0.775166  0.712076  0.654121  0.600883  0.551977   \n",
       "4  0.488411  0.238545  0.116508  0.056904  0.027793  0.013574  0.006630   \n",
       "\n",
       "          7             8             9  \n",
       "0  0.000006  1.309352e-06  2.906673e-07  \n",
       "1  0.330428  2.877146e-01  2.505224e-01  \n",
       "2  0.000003  6.893289e-07  1.424975e-07  \n",
       "3  0.507052  4.657838e-01  4.278741e-01  \n",
       "4  0.003238  1.581505e-03  7.724245e-04  "
      ]
     },
     "execution_count": 8,
     "metadata": {},
     "output_type": "execute_result"
    }
   ],
   "source": [
    "df.head()"
   ]
  },
  {
   "cell_type": "code",
   "execution_count": 9,
   "metadata": {},
   "outputs": [
    {
     "data": {
      "text/html": [
       "<div>\n",
       "<style scoped>\n",
       "    .dataframe tbody tr th:only-of-type {\n",
       "        vertical-align: middle;\n",
       "    }\n",
       "\n",
       "    .dataframe tbody tr th {\n",
       "        vertical-align: top;\n",
       "    }\n",
       "\n",
       "    .dataframe thead th {\n",
       "        text-align: right;\n",
       "    }\n",
       "</style>\n",
       "<table border=\"1\" class=\"dataframe\">\n",
       "  <thead>\n",
       "    <tr style=\"text-align: right;\">\n",
       "      <th></th>\n",
       "      <th>0</th>\n",
       "      <th>1</th>\n",
       "      <th>2</th>\n",
       "      <th>3</th>\n",
       "      <th>4</th>\n",
       "      <th>5</th>\n",
       "      <th>6</th>\n",
       "      <th>7</th>\n",
       "      <th>8</th>\n",
       "      <th>9</th>\n",
       "    </tr>\n",
       "  </thead>\n",
       "  <tbody>\n",
       "    <tr>\n",
       "      <th>0</th>\n",
       "      <td>1.000000</td>\n",
       "      <td>0.967403</td>\n",
       "      <td>0.914701</td>\n",
       "      <td>0.863443</td>\n",
       "      <td>0.817456</td>\n",
       "      <td>0.776927</td>\n",
       "      <td>0.741253</td>\n",
       "      <td>0.709724</td>\n",
       "      <td>0.681698</td>\n",
       "      <td>0.656628</td>\n",
       "    </tr>\n",
       "    <tr>\n",
       "      <th>1</th>\n",
       "      <td>0.967403</td>\n",
       "      <td>1.000000</td>\n",
       "      <td>0.985779</td>\n",
       "      <td>0.957659</td>\n",
       "      <td>0.925905</td>\n",
       "      <td>0.894231</td>\n",
       "      <td>0.864033</td>\n",
       "      <td>0.835791</td>\n",
       "      <td>0.809595</td>\n",
       "      <td>0.785369</td>\n",
       "    </tr>\n",
       "    <tr>\n",
       "      <th>2</th>\n",
       "      <td>0.914701</td>\n",
       "      <td>0.985779</td>\n",
       "      <td>1.000000</td>\n",
       "      <td>0.992037</td>\n",
       "      <td>0.974611</td>\n",
       "      <td>0.953225</td>\n",
       "      <td>0.930489</td>\n",
       "      <td>0.907696</td>\n",
       "      <td>0.885491</td>\n",
       "      <td>0.864182</td>\n",
       "    </tr>\n",
       "    <tr>\n",
       "      <th>3</th>\n",
       "      <td>0.863443</td>\n",
       "      <td>0.957659</td>\n",
       "      <td>0.992037</td>\n",
       "      <td>1.000000</td>\n",
       "      <td>0.994907</td>\n",
       "      <td>0.983063</td>\n",
       "      <td>0.967742</td>\n",
       "      <td>0.950742</td>\n",
       "      <td>0.933090</td>\n",
       "      <td>0.915371</td>\n",
       "    </tr>\n",
       "    <tr>\n",
       "      <th>4</th>\n",
       "      <td>0.817456</td>\n",
       "      <td>0.925905</td>\n",
       "      <td>0.974611</td>\n",
       "      <td>0.994907</td>\n",
       "      <td>1.000000</td>\n",
       "      <td>0.996465</td>\n",
       "      <td>0.987905</td>\n",
       "      <td>0.976420</td>\n",
       "      <td>0.963278</td>\n",
       "      <td>0.949263</td>\n",
       "    </tr>\n",
       "    <tr>\n",
       "      <th>5</th>\n",
       "      <td>0.776927</td>\n",
       "      <td>0.894231</td>\n",
       "      <td>0.953225</td>\n",
       "      <td>0.983063</td>\n",
       "      <td>0.996465</td>\n",
       "      <td>1.000000</td>\n",
       "      <td>0.997407</td>\n",
       "      <td>0.990944</td>\n",
       "      <td>0.982032</td>\n",
       "      <td>0.971587</td>\n",
       "    </tr>\n",
       "    <tr>\n",
       "      <th>6</th>\n",
       "      <td>0.741253</td>\n",
       "      <td>0.864033</td>\n",
       "      <td>0.930489</td>\n",
       "      <td>0.967742</td>\n",
       "      <td>0.987905</td>\n",
       "      <td>0.997407</td>\n",
       "      <td>1.000000</td>\n",
       "      <td>0.998019</td>\n",
       "      <td>0.992973</td>\n",
       "      <td>0.985863</td>\n",
       "    </tr>\n",
       "    <tr>\n",
       "      <th>7</th>\n",
       "      <td>0.709724</td>\n",
       "      <td>0.835791</td>\n",
       "      <td>0.907696</td>\n",
       "      <td>0.950742</td>\n",
       "      <td>0.976420</td>\n",
       "      <td>0.990944</td>\n",
       "      <td>0.998019</td>\n",
       "      <td>1.000000</td>\n",
       "      <td>0.998439</td>\n",
       "      <td>0.994391</td>\n",
       "    </tr>\n",
       "    <tr>\n",
       "      <th>8</th>\n",
       "      <td>0.681698</td>\n",
       "      <td>0.809595</td>\n",
       "      <td>0.885491</td>\n",
       "      <td>0.933090</td>\n",
       "      <td>0.963278</td>\n",
       "      <td>0.982032</td>\n",
       "      <td>0.992973</td>\n",
       "      <td>0.998439</td>\n",
       "      <td>1.000000</td>\n",
       "      <td>0.998738</td>\n",
       "    </tr>\n",
       "    <tr>\n",
       "      <th>9</th>\n",
       "      <td>0.656628</td>\n",
       "      <td>0.785369</td>\n",
       "      <td>0.864182</td>\n",
       "      <td>0.915371</td>\n",
       "      <td>0.949263</td>\n",
       "      <td>0.971587</td>\n",
       "      <td>0.985863</td>\n",
       "      <td>0.994391</td>\n",
       "      <td>0.998738</td>\n",
       "      <td>1.000000</td>\n",
       "    </tr>\n",
       "  </tbody>\n",
       "</table>\n",
       "</div>"
      ],
      "text/plain": [
       "          0         1         2         3         4         5         6  \\\n",
       "0  1.000000  0.967403  0.914701  0.863443  0.817456  0.776927  0.741253   \n",
       "1  0.967403  1.000000  0.985779  0.957659  0.925905  0.894231  0.864033   \n",
       "2  0.914701  0.985779  1.000000  0.992037  0.974611  0.953225  0.930489   \n",
       "3  0.863443  0.957659  0.992037  1.000000  0.994907  0.983063  0.967742   \n",
       "4  0.817456  0.925905  0.974611  0.994907  1.000000  0.996465  0.987905   \n",
       "5  0.776927  0.894231  0.953225  0.983063  0.996465  1.000000  0.997407   \n",
       "6  0.741253  0.864033  0.930489  0.967742  0.987905  0.997407  1.000000   \n",
       "7  0.709724  0.835791  0.907696  0.950742  0.976420  0.990944  0.998019   \n",
       "8  0.681698  0.809595  0.885491  0.933090  0.963278  0.982032  0.992973   \n",
       "9  0.656628  0.785369  0.864182  0.915371  0.949263  0.971587  0.985863   \n",
       "\n",
       "          7         8         9  \n",
       "0  0.709724  0.681698  0.656628  \n",
       "1  0.835791  0.809595  0.785369  \n",
       "2  0.907696  0.885491  0.864182  \n",
       "3  0.950742  0.933090  0.915371  \n",
       "4  0.976420  0.963278  0.949263  \n",
       "5  0.990944  0.982032  0.971587  \n",
       "6  0.998019  0.992973  0.985863  \n",
       "7  1.000000  0.998439  0.994391  \n",
       "8  0.998439  1.000000  0.998738  \n",
       "9  0.994391  0.998738  1.000000  "
      ]
     },
     "execution_count": 9,
     "metadata": {},
     "output_type": "execute_result"
    }
   ],
   "source": [
    "df.corr()"
   ]
  },
  {
   "cell_type": "code",
   "execution_count": 10,
   "metadata": {},
   "outputs": [],
   "source": [
    "# Normalize the dataset before running PCA\n",
    "# x = (x-mean)/stddev\n",
    "scaler = StandardScaler()"
   ]
  },
  {
   "cell_type": "code",
   "execution_count": 11,
   "metadata": {},
   "outputs": [],
   "source": [
    "def transform_data(scaler, df, columns):\n",
    "    transformed_data = scaler.transform(df[columns])\n",
    "    df_transformed = pd.DataFrame(transformed_data, columns=columns)\n",
    "    \n",
    "    for col in df_transformed.columns:\n",
    "        df[col] = df_transformed[col]"
   ]
  },
  {
   "cell_type": "code",
   "execution_count": 12,
   "metadata": {},
   "outputs": [
    {
     "data": {
      "text/plain": [
       "StandardScaler(copy=True, with_mean=True, with_std=True)"
      ]
     },
     "execution_count": 12,
     "metadata": {},
     "output_type": "execute_result"
    }
   ],
   "source": [
    "scaler.fit(df)"
   ]
  },
  {
   "cell_type": "code",
   "execution_count": 13,
   "metadata": {},
   "outputs": [],
   "source": [
    "transform_data(scaler, df, df.columns)"
   ]
  },
  {
   "cell_type": "code",
   "execution_count": 14,
   "metadata": {},
   "outputs": [
    {
     "data": {
      "text/html": [
       "<div>\n",
       "<style scoped>\n",
       "    .dataframe tbody tr th:only-of-type {\n",
       "        vertical-align: middle;\n",
       "    }\n",
       "\n",
       "    .dataframe tbody tr th {\n",
       "        vertical-align: top;\n",
       "    }\n",
       "\n",
       "    .dataframe thead th {\n",
       "        text-align: right;\n",
       "    }\n",
       "</style>\n",
       "<table border=\"1\" class=\"dataframe\">\n",
       "  <thead>\n",
       "    <tr style=\"text-align: right;\">\n",
       "      <th></th>\n",
       "      <th>0</th>\n",
       "      <th>1</th>\n",
       "      <th>2</th>\n",
       "      <th>3</th>\n",
       "      <th>4</th>\n",
       "      <th>5</th>\n",
       "      <th>6</th>\n",
       "      <th>7</th>\n",
       "      <th>8</th>\n",
       "      <th>9</th>\n",
       "    </tr>\n",
       "  </thead>\n",
       "  <tbody>\n",
       "    <tr>\n",
       "      <th>0</th>\n",
       "      <td>-0.958108</td>\n",
       "      <td>-0.949885</td>\n",
       "      <td>-0.839305</td>\n",
       "      <td>-0.735652</td>\n",
       "      <td>-0.655068</td>\n",
       "      <td>-0.593751</td>\n",
       "      <td>-0.546153</td>\n",
       "      <td>-0.508156</td>\n",
       "      <td>-0.477025</td>\n",
       "      <td>-0.450954</td>\n",
       "    </tr>\n",
       "    <tr>\n",
       "      <th>1</th>\n",
       "      <td>1.311307</td>\n",
       "      <td>1.469406</td>\n",
       "      <td>1.503857</td>\n",
       "      <td>1.471755</td>\n",
       "      <td>1.401414</td>\n",
       "      <td>1.309325</td>\n",
       "      <td>1.205847</td>\n",
       "      <td>1.097718</td>\n",
       "      <td>0.989370</td>\n",
       "      <td>0.883701</td>\n",
       "    </tr>\n",
       "    <tr>\n",
       "      <th>2</th>\n",
       "      <td>-1.011539</td>\n",
       "      <td>-0.972232</td>\n",
       "      <td>-0.846907</td>\n",
       "      <td>-0.737975</td>\n",
       "      <td>-0.655733</td>\n",
       "      <td>-0.593933</td>\n",
       "      <td>-0.546201</td>\n",
       "      <td>-0.508169</td>\n",
       "      <td>-0.477028</td>\n",
       "      <td>-0.450955</td>\n",
       "    </tr>\n",
       "    <tr>\n",
       "      <th>3</th>\n",
       "      <td>1.478796</td>\n",
       "      <td>1.761782</td>\n",
       "      <td>1.918906</td>\n",
       "      <td>2.001035</td>\n",
       "      <td>2.033181</td>\n",
       "      <td>2.030290</td>\n",
       "      <td>2.002274</td>\n",
       "      <td>1.956122</td>\n",
       "      <td>1.896939</td>\n",
       "      <td>1.828540</td>\n",
       "    </tr>\n",
       "    <tr>\n",
       "      <th>4</th>\n",
       "      <td>-0.026126</td>\n",
       "      <td>-0.303969</td>\n",
       "      <td>-0.458293</td>\n",
       "      <td>-0.525573</td>\n",
       "      <td>-0.542972</td>\n",
       "      <td>-0.534983</td>\n",
       "      <td>-0.515665</td>\n",
       "      <td>-0.492448</td>\n",
       "      <td>-0.468971</td>\n",
       "      <td>-0.446841</td>\n",
       "    </tr>\n",
       "  </tbody>\n",
       "</table>\n",
       "</div>"
      ],
      "text/plain": [
       "          0         1         2         3         4         5         6  \\\n",
       "0 -0.958108 -0.949885 -0.839305 -0.735652 -0.655068 -0.593751 -0.546153   \n",
       "1  1.311307  1.469406  1.503857  1.471755  1.401414  1.309325  1.205847   \n",
       "2 -1.011539 -0.972232 -0.846907 -0.737975 -0.655733 -0.593933 -0.546201   \n",
       "3  1.478796  1.761782  1.918906  2.001035  2.033181  2.030290  2.002274   \n",
       "4 -0.026126 -0.303969 -0.458293 -0.525573 -0.542972 -0.534983 -0.515665   \n",
       "\n",
       "          7         8         9  \n",
       "0 -0.508156 -0.477025 -0.450954  \n",
       "1  1.097718  0.989370  0.883701  \n",
       "2 -0.508169 -0.477028 -0.450955  \n",
       "3  1.956122  1.896939  1.828540  \n",
       "4 -0.492448 -0.468971 -0.446841  "
      ]
     },
     "execution_count": 14,
     "metadata": {},
     "output_type": "execute_result"
    }
   ],
   "source": [
    "df.head()"
   ]
  },
  {
   "cell_type": "code",
   "execution_count": 15,
   "metadata": {},
   "outputs": [
    {
     "data": {
      "text/html": [
       "<div>\n",
       "<style scoped>\n",
       "    .dataframe tbody tr th:only-of-type {\n",
       "        vertical-align: middle;\n",
       "    }\n",
       "\n",
       "    .dataframe tbody tr th {\n",
       "        vertical-align: top;\n",
       "    }\n",
       "\n",
       "    .dataframe thead th {\n",
       "        text-align: right;\n",
       "    }\n",
       "</style>\n",
       "<table border=\"1\" class=\"dataframe\">\n",
       "  <thead>\n",
       "    <tr style=\"text-align: right;\">\n",
       "      <th></th>\n",
       "      <th>0</th>\n",
       "      <th>1</th>\n",
       "      <th>2</th>\n",
       "      <th>3</th>\n",
       "      <th>4</th>\n",
       "      <th>5</th>\n",
       "      <th>6</th>\n",
       "      <th>7</th>\n",
       "      <th>8</th>\n",
       "      <th>9</th>\n",
       "    </tr>\n",
       "  </thead>\n",
       "  <tbody>\n",
       "    <tr>\n",
       "      <th>count</th>\n",
       "      <td>1.000000e+03</td>\n",
       "      <td>1.000000e+03</td>\n",
       "      <td>1.000000e+03</td>\n",
       "      <td>1.000000e+03</td>\n",
       "      <td>1.000000e+03</td>\n",
       "      <td>1.000000e+03</td>\n",
       "      <td>1.000000e+03</td>\n",
       "      <td>1.000000e+03</td>\n",
       "      <td>1.000000e+03</td>\n",
       "      <td>1.000000e+03</td>\n",
       "    </tr>\n",
       "    <tr>\n",
       "      <th>mean</th>\n",
       "      <td>-4.218847e-17</td>\n",
       "      <td>1.085798e-16</td>\n",
       "      <td>-4.451994e-17</td>\n",
       "      <td>5.473400e-17</td>\n",
       "      <td>-6.472600e-17</td>\n",
       "      <td>1.104672e-17</td>\n",
       "      <td>-2.564615e-17</td>\n",
       "      <td>2.323142e-17</td>\n",
       "      <td>-1.038059e-16</td>\n",
       "      <td>-5.273559e-19</td>\n",
       "    </tr>\n",
       "    <tr>\n",
       "      <th>std</th>\n",
       "      <td>1.000500e+00</td>\n",
       "      <td>1.000500e+00</td>\n",
       "      <td>1.000500e+00</td>\n",
       "      <td>1.000500e+00</td>\n",
       "      <td>1.000500e+00</td>\n",
       "      <td>1.000500e+00</td>\n",
       "      <td>1.000500e+00</td>\n",
       "      <td>1.000500e+00</td>\n",
       "      <td>1.000500e+00</td>\n",
       "      <td>1.000500e+00</td>\n",
       "    </tr>\n",
       "    <tr>\n",
       "      <th>min</th>\n",
       "      <td>-1.733343e+00</td>\n",
       "      <td>-1.118069e+00</td>\n",
       "      <td>-8.787890e-01</td>\n",
       "      <td>-7.450172e-01</td>\n",
       "      <td>-6.572860e-01</td>\n",
       "      <td>-5.942734e-01</td>\n",
       "      <td>-5.462753e-01</td>\n",
       "      <td>-5.081849e-01</td>\n",
       "      <td>-4.770318e-01</td>\n",
       "      <td>-4.509557e-01</td>\n",
       "    </tr>\n",
       "    <tr>\n",
       "      <th>25%</th>\n",
       "      <td>-8.552905e-01</td>\n",
       "      <td>-9.024021e-01</td>\n",
       "      <td>-8.214537e-01</td>\n",
       "      <td>-7.296166e-01</td>\n",
       "      <td>-6.531568e-01</td>\n",
       "      <td>-5.931711e-01</td>\n",
       "      <td>-5.459824e-01</td>\n",
       "      <td>-5.081074e-01</td>\n",
       "      <td>-4.770114e-01</td>\n",
       "      <td>-4.509504e-01</td>\n",
       "    </tr>\n",
       "    <tr>\n",
       "      <th>50%</th>\n",
       "      <td>5.280867e-03</td>\n",
       "      <td>-2.737635e-01</td>\n",
       "      <td>-4.346742e-01</td>\n",
       "      <td>-5.089861e-01</td>\n",
       "      <td>-5.320717e-01</td>\n",
       "      <td>-5.281357e-01</td>\n",
       "      <td>-5.115016e-01</td>\n",
       "      <td>-4.899787e-01</td>\n",
       "      <td>-4.675353e-01</td>\n",
       "      <td>-4.460184e-01</td>\n",
       "    </tr>\n",
       "    <tr>\n",
       "      <th>75%</th>\n",
       "      <td>8.810271e-01</td>\n",
       "      <td>7.900187e-01</td>\n",
       "      <td>6.300497e-01</td>\n",
       "      <td>4.604780e-01</td>\n",
       "      <td>3.041021e-01</td>\n",
       "      <td>1.691093e-01</td>\n",
       "      <td>5.710709e-02</td>\n",
       "      <td>-3.327769e-02</td>\n",
       "      <td>-1.046369e-01</td>\n",
       "      <td>-1.598963e-01</td>\n",
       "    </tr>\n",
       "    <tr>\n",
       "      <th>max</th>\n",
       "      <td>1.758319e+00</td>\n",
       "      <td>2.284577e+00</td>\n",
       "      <td>2.714319e+00</td>\n",
       "      <td>3.088541e+00</td>\n",
       "      <td>3.425385e+00</td>\n",
       "      <td>3.734820e+00</td>\n",
       "      <td>4.023095e+00</td>\n",
       "      <td>4.294470e+00</td>\n",
       "      <td>4.552012e+00</td>\n",
       "      <td>4.797991e+00</td>\n",
       "    </tr>\n",
       "  </tbody>\n",
       "</table>\n",
       "</div>"
      ],
      "text/plain": [
       "                  0             1             2             3             4  \\\n",
       "count  1.000000e+03  1.000000e+03  1.000000e+03  1.000000e+03  1.000000e+03   \n",
       "mean  -4.218847e-17  1.085798e-16 -4.451994e-17  5.473400e-17 -6.472600e-17   \n",
       "std    1.000500e+00  1.000500e+00  1.000500e+00  1.000500e+00  1.000500e+00   \n",
       "min   -1.733343e+00 -1.118069e+00 -8.787890e-01 -7.450172e-01 -6.572860e-01   \n",
       "25%   -8.552905e-01 -9.024021e-01 -8.214537e-01 -7.296166e-01 -6.531568e-01   \n",
       "50%    5.280867e-03 -2.737635e-01 -4.346742e-01 -5.089861e-01 -5.320717e-01   \n",
       "75%    8.810271e-01  7.900187e-01  6.300497e-01  4.604780e-01  3.041021e-01   \n",
       "max    1.758319e+00  2.284577e+00  2.714319e+00  3.088541e+00  3.425385e+00   \n",
       "\n",
       "                  5             6             7             8             9  \n",
       "count  1.000000e+03  1.000000e+03  1.000000e+03  1.000000e+03  1.000000e+03  \n",
       "mean   1.104672e-17 -2.564615e-17  2.323142e-17 -1.038059e-16 -5.273559e-19  \n",
       "std    1.000500e+00  1.000500e+00  1.000500e+00  1.000500e+00  1.000500e+00  \n",
       "min   -5.942734e-01 -5.462753e-01 -5.081849e-01 -4.770318e-01 -4.509557e-01  \n",
       "25%   -5.931711e-01 -5.459824e-01 -5.081074e-01 -4.770114e-01 -4.509504e-01  \n",
       "50%   -5.281357e-01 -5.115016e-01 -4.899787e-01 -4.675353e-01 -4.460184e-01  \n",
       "75%    1.691093e-01  5.710709e-02 -3.327769e-02 -1.046369e-01 -1.598963e-01  \n",
       "max    3.734820e+00  4.023095e+00  4.294470e+00  4.552012e+00  4.797991e+00  "
      ]
     },
     "execution_count": 15,
     "metadata": {},
     "output_type": "execute_result"
    }
   ],
   "source": [
    "df.describe()"
   ]
  },
  {
   "cell_type": "code",
   "execution_count": 16,
   "metadata": {},
   "outputs": [],
   "source": [
    "y = df.sum(axis=1)"
   ]
  },
  {
   "cell_type": "code",
   "execution_count": 17,
   "metadata": {},
   "outputs": [
    {
     "data": {
      "text/plain": [
       "0    -6.714056\n",
       "1    12.643700\n",
       "2    -6.800672\n",
       "3    18.907866\n",
       "4    -4.315840\n",
       "dtype: float64"
      ]
     },
     "execution_count": 17,
     "metadata": {},
     "output_type": "execute_result"
    }
   ],
   "source": [
    "y.head()"
   ]
  },
  {
   "cell_type": "code",
   "execution_count": 18,
   "metadata": {},
   "outputs": [],
   "source": [
    "df_pca = df.copy()"
   ]
  },
  {
   "cell_type": "code",
   "execution_count": 19,
   "metadata": {},
   "outputs": [],
   "source": [
    "# Test PCA\n",
    "# Two modes to test with PCA\n",
    "# How many components we need in final output or how much variance do we need to capture as a percentage\n",
    "\n",
    "pca = PCA(n_components=0.9) # percentage of variance to capture\n",
    "#pca = PCA(n_components=2) # number of components"
   ]
  },
  {
   "cell_type": "code",
   "execution_count": 20,
   "metadata": {},
   "outputs": [
    {
     "data": {
      "text/plain": [
       "1"
      ]
     },
     "execution_count": 20,
     "metadata": {},
     "output_type": "execute_result"
    }
   ],
   "source": [
    "pca.fit(df_pca)\n",
    "\n",
    "# number of components PCA came up with\n",
    "pca.n_components_"
   ]
  },
  {
   "cell_type": "code",
   "execution_count": 21,
   "metadata": {},
   "outputs": [],
   "source": [
    "def transform_with_pca(pca, df, columns):\n",
    "    transformed_data = pca.transform(df[columns])\n",
    "    \n",
    "    tcols = []\n",
    "    for i in range(pca.n_components_):       \n",
    "        tcols.append('component_' + str(i))\n",
    "    \n",
    "    print ('components:',tcols)\n",
    "    df_transformed = pd.DataFrame(transformed_data, columns=tcols)\n",
    "    \n",
    "    for col in df_transformed.columns:\n",
    "        df[col] = df_transformed[col]\n",
    "    \n",
    "    df.drop(columns, inplace=True, axis=1)\n",
    "    \n",
    "    return tcols"
   ]
  },
  {
   "cell_type": "code",
   "execution_count": 22,
   "metadata": {},
   "outputs": [
    {
     "name": "stdout",
     "output_type": "stream",
     "text": [
      "components: ['component_0']\n"
     ]
    },
    {
     "data": {
      "text/plain": [
       "['component_0']"
      ]
     },
     "execution_count": 22,
     "metadata": {},
     "output_type": "execute_result"
    }
   ],
   "source": [
    "transform_with_pca(pca,df_pca,df_pca.columns)"
   ]
  },
  {
   "cell_type": "code",
   "execution_count": 23,
   "metadata": {},
   "outputs": [
    {
     "data": {
      "text/html": [
       "<div>\n",
       "<style scoped>\n",
       "    .dataframe tbody tr th:only-of-type {\n",
       "        vertical-align: middle;\n",
       "    }\n",
       "\n",
       "    .dataframe tbody tr th {\n",
       "        vertical-align: top;\n",
       "    }\n",
       "\n",
       "    .dataframe thead th {\n",
       "        text-align: right;\n",
       "    }\n",
       "</style>\n",
       "<table border=\"1\" class=\"dataframe\">\n",
       "  <thead>\n",
       "    <tr style=\"text-align: right;\">\n",
       "      <th></th>\n",
       "      <th>component_0</th>\n",
       "    </tr>\n",
       "  </thead>\n",
       "  <tbody>\n",
       "    <tr>\n",
       "      <th>0</th>\n",
       "      <td>-2.106623</td>\n",
       "    </tr>\n",
       "    <tr>\n",
       "      <th>1</th>\n",
       "      <td>3.995878</td>\n",
       "    </tr>\n",
       "    <tr>\n",
       "      <th>2</th>\n",
       "      <td>-2.131754</td>\n",
       "    </tr>\n",
       "    <tr>\n",
       "      <th>3</th>\n",
       "      <td>5.996119</td>\n",
       "    </tr>\n",
       "    <tr>\n",
       "      <th>4</th>\n",
       "      <td>-1.384941</td>\n",
       "    </tr>\n",
       "  </tbody>\n",
       "</table>\n",
       "</div>"
      ],
      "text/plain": [
       "   component_0\n",
       "0    -2.106623\n",
       "1     3.995878\n",
       "2    -2.131754\n",
       "3     5.996119\n",
       "4    -1.384941"
      ]
     },
     "execution_count": 23,
     "metadata": {},
     "output_type": "execute_result"
    }
   ],
   "source": [
    "df_pca.head()"
   ]
  },
  {
   "cell_type": "code",
   "execution_count": 24,
   "metadata": {},
   "outputs": [],
   "source": [
    "# Compare X and y\n",
    "# Compare First Component and y"
   ]
  },
  {
   "cell_type": "code",
   "execution_count": 25,
   "metadata": {},
   "outputs": [
    {
     "data": {
      "text/plain": [
       "<matplotlib.legend.Legend at 0x7f3e81234c50>"
      ]
     },
     "execution_count": 25,
     "metadata": {},
     "output_type": "execute_result"
    },
    {
     "data": {
      "image/png": "[encoded data removed]",
      "text/plain": [
       "<Figure size 432x288 with 1 Axes>"
      ]
     },
     "metadata": {},
     "output_type": "display_data"
    }
   ],
   "source": [
    "plt.scatter(x=df[0],y=y,label='ideal fit')\n",
    "plt.grid(True)\n",
    "plt.xlabel('X')\n",
    "plt.ylabel('Target')\n",
    "plt.title('X vs y')\n",
    "plt.legend()"
   ]
  },
  {
   "cell_type": "code",
   "execution_count": 26,
   "metadata": {},
   "outputs": [
    {
     "data": {
      "text/plain": [
       "<matplotlib.legend.Legend at 0x7f3e811a7cf8>"
      ]
     },
     "execution_count": 26,
     "metadata": {},
     "output_type": "execute_result"
    },
    {
     "data": {
      "image/png": "[encoded data removed]",
      "text/plain": [
       "<Figure size 432x288 with 1 Axes>"
      ]
     },
     "metadata": {},
     "output_type": "display_data"
    }
   ],
   "source": [
    "plt.scatter(x=df_pca['component_0'],y=y,label='component 0')\n",
    "plt.grid(True)\n",
    "plt.xlabel('First Component')\n",
    "plt.ylabel('Target')\n",
    "plt.title('First Component vs y')\n",
    "plt.legend()"
   ]
  },
  {
   "cell_type": "code",
   "execution_count": 27,
   "metadata": {},
   "outputs": [
    {
     "data": {
      "text/plain": [
       "LinearRegression(copy_X=True, fit_intercept=True, n_jobs=1, normalize=False)"
      ]
     },
     "execution_count": 27,
     "metadata": {},
     "output_type": "execute_result"
    }
   ],
   "source": [
    "# Train with actual data using Linear Regression Model\n",
    "import sklearn.linear_model as lm\n",
    "\n",
    "regressor = lm.LinearRegression()\n",
    "regressor.fit(df,y)"
   ]
  },
  {
   "cell_type": "code",
   "execution_count": 28,
   "metadata": {},
   "outputs": [],
   "source": [
    "y_predicted = regressor.predict(df)"
   ]
  },
  {
   "cell_type": "code",
   "execution_count": 29,
   "metadata": {},
   "outputs": [
    {
     "data": {
      "text/plain": [
       "<matplotlib.legend.Legend at 0x7f3e810d2fd0>"
      ]
     },
     "execution_count": 29,
     "metadata": {},
     "output_type": "execute_result"
    },
    {
     "data": {
      "image/png": "[encoded data removed]",
      "text/plain": [
       "<Figure size 432x288 with 1 Axes>"
      ]
     },
     "metadata": {},
     "output_type": "display_data"
    }
   ],
   "source": [
    "plt.scatter(x=df[0],y=y,label='Actual')\n",
    "plt.scatter(x=df[0],y=y_predicted,label='Predicted')\n",
    "plt.grid(True)\n",
    "plt.xlabel('Input Feature')\n",
    "plt.ylabel('Target')\n",
    "plt.legend()"
   ]
  },
  {
   "cell_type": "code",
   "execution_count": 30,
   "metadata": {},
   "outputs": [
    {
     "name": "stdout",
     "output_type": "stream",
     "text": [
      "RMSE: 2.9335853032246524e-15\n"
     ]
    }
   ],
   "source": [
    "import sklearn.metrics as metrics\n",
    "print(\"RMSE: {0}\".format(metrics.mean_squared_error(y,y_predicted)**.5))"
   ]
  },
  {
   "cell_type": "code",
   "execution_count": 31,
   "metadata": {},
   "outputs": [
    {
     "data": {
      "image/png": "[encoded data removed]",
      "text/plain": [
       "<Figure size 432x288 with 1 Axes>"
      ]
     },
     "metadata": {},
     "output_type": "display_data"
    }
   ],
   "source": [
    "plt.boxplot([y,y_predicted], labels=['actual','predicted'])\n",
    "plt.title('Box Plot - Actual, Predicted')\n",
    "plt.ylabel('Target')\n",
    "plt.grid(True)"
   ]
  },
  {
   "cell_type": "code",
   "execution_count": 32,
   "metadata": {},
   "outputs": [
    {
     "data": {
      "text/plain": [
       "<matplotlib.legend.Legend at 0x7f3e8102b4e0>"
      ]
     },
     "execution_count": 32,
     "metadata": {},
     "output_type": "execute_result"
    },
    {
     "data": {
      "image/png": "[encoded data removed]",
      "text/plain": [
       "<Figure size 432x288 with 1 Axes>"
      ]
     },
     "metadata": {},
     "output_type": "display_data"
    }
   ],
   "source": [
    "# Train with PCA Components using Linear Regression Model\n",
    "plt.scatter(x=df_pca['component_0'],y=y,label='component 0')\n",
    "plt.grid(True)\n",
    "plt.xlabel('Input Feature')\n",
    "plt.ylabel('Target')\n",
    "plt.legend()"
   ]
  },
  {
   "cell_type": "code",
   "execution_count": 33,
   "metadata": {},
   "outputs": [
    {
     "data": {
      "text/plain": [
       "LinearRegression(copy_X=True, fit_intercept=True, n_jobs=1, normalize=False)"
      ]
     },
     "execution_count": 33,
     "metadata": {},
     "output_type": "execute_result"
    }
   ],
   "source": [
    "regressor.fit(df_pca,y)"
   ]
  },
  {
   "cell_type": "code",
   "execution_count": 34,
   "metadata": {},
   "outputs": [],
   "source": [
    "y_predicted_pca = regressor.predict(df_pca)"
   ]
  },
  {
   "cell_type": "code",
   "execution_count": 35,
   "metadata": {},
   "outputs": [
    {
     "data": {
      "text/plain": [
       "<matplotlib.legend.Legend at 0x7f3e80f89908>"
      ]
     },
     "execution_count": 35,
     "metadata": {},
     "output_type": "execute_result"
    },
    {
     "data": {
      "image/png": "[encoded data removed]",
      "text/plain": [
       "<Figure size 432x288 with 1 Axes>"
      ]
     },
     "metadata": {},
     "output_type": "display_data"
    }
   ],
   "source": [
    "plt.scatter(x=df_pca['component_0'],y=y,label='Actual')\n",
    "plt.scatter(x=df_pca['component_0'],y=y_predicted_pca,label='Predicted')\n",
    "plt.grid(True)\n",
    "plt.xlabel('Component')\n",
    "plt.ylabel('Target')\n",
    "plt.legend()"
   ]
  },
  {
   "cell_type": "code",
   "execution_count": 36,
   "metadata": {},
   "outputs": [
    {
     "data": {
      "text/plain": [
       "<matplotlib.legend.Legend at 0x7f3e80f6f438>"
      ]
     },
     "execution_count": 36,
     "metadata": {},
     "output_type": "execute_result"
    },
    {
     "data": {
      "image/png": "[encoded data removed]",
      "text/plain": [
       "<Figure size 432x288 with 1 Axes>"
      ]
     },
     "metadata": {},
     "output_type": "display_data"
    }
   ],
   "source": [
    "plt.scatter(x=df[0],y=y_predicted,label='X vs y')\n",
    "plt.scatter(x=df[0],y=y_predicted_pca,label='X vs PCA Predicted')\n",
    "plt.grid(True)\n",
    "plt.xlabel('X')\n",
    "plt.ylabel('Target')\n",
    "plt.legend()"
   ]
  },
  {
   "cell_type": "markdown",
   "metadata": {},
   "source": [
    "<h2>Summary</h2>\n",
    "<br>\n",
    "1. PCA works great when the columns are related to each other\n",
    "2. Substantial reduction in dimension possible - real world datasets often have correlated columns\n",
    "3. PCA loses original features - you cannot use Components and figure out how it maps to real world features \n",
    "4. PCA works for numeric data and data needs to be normalized"
   ]
  },
  {
   "cell_type": "code",
   "execution_count": null,
   "metadata": {},
   "outputs": [],
   "source": []
  }
 ],
 "metadata": {
  "kernelspec": {
   "display_name": "conda_python3",
   "language": "python",
   "name": "conda_python3"
  },
  "language_info": {
   "codemirror_mode": {
    "name": "ipython",
    "version": 3
   },
   "file_extension": ".py",
   "mimetype": "text/x-python",
   "name": "python",
   "nbconvert_exporter": "python",
   "pygments_lexer": "ipython3",
   "version": "3.6.5"
  }
 },
 "nbformat": 4,
 "nbformat_minor": 2
}
