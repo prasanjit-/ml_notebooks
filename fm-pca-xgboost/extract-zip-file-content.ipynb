{
 "cells": [
  {
   "cell_type": "code",
   "execution_count": 2,
   "metadata": {},
   "outputs": [],
   "source": [
    "import zipfile as zf"
   ]
  },
  {
   "cell_type": "code",
   "execution_count": 2,
   "metadata": {},
   "outputs": [
    {
     "name": "stdout",
     "output_type": "stream",
     "text": [
      "8. extract-zip-file-content.ipynb  \u001b[0m\u001b[01;31m9. XGBoostExamples.zip\u001b[0m\n"
     ]
    }
   ],
   "source": [
    "ls"
   ]
  },
  {
   "cell_type": "code",
   "execution_count": 4,
   "metadata": {},
   "outputs": [],
   "source": [
    "f = zf.ZipFile(r'XGBoostExamples.zip')"
   ]
  },
  {
   "cell_type": "code",
   "execution_count": 5,
   "metadata": {},
   "outputs": [],
   "source": [
    "f.extractall('xgboost')"
   ]
  },
  {
   "cell_type": "code",
   "execution_count": 4,
   "metadata": {},
   "outputs": [],
   "source": [
    "f = zf.ZipFile(r'pca.zip')"
   ]
  },
  {
   "cell_type": "code",
   "execution_count": 5,
   "metadata": {},
   "outputs": [],
   "source": [
    "f.extractall('pca')"
   ]
  },
  {
   "cell_type": "code",
   "execution_count": 3,
   "metadata": {},
   "outputs": [],
   "source": [
    "f = zf.ZipFile(r'fm.zip')"
   ]
  },
  {
   "cell_type": "code",
   "execution_count": 4,
   "metadata": {},
   "outputs": [],
   "source": [
    "f.extractall('fm')"
   ]
  },
  {
   "cell_type": "code",
   "execution_count": 5,
   "metadata": {},
   "outputs": [],
   "source": [
    "f = zf.ZipFile(r'ml-latest-small.zip')"
   ]
  },
  {
   "cell_type": "code",
   "execution_count": 6,
   "metadata": {},
   "outputs": [],
   "source": [
    "f.extractall('fm')"
   ]
  },
  {
   "cell_type": "code",
   "execution_count": 1,
   "metadata": {},
   "outputs": [
    {
     "name": "stdout",
     "output_type": "stream",
     "text": [
      "extract-zip-file-content.ipynb\n",
      "fm/\n",
      "fm/.ipynb_checkpoints/\n",
      "fm/.ipynb_checkpoints/movie_data_preparation-checkpoint.ipynb\n",
      "fm/.ipynb_checkpoints/fm_cloud_training_template-checkpoint.ipynb\n",
      "fm/.ipynb_checkpoints/fm_cloud_prediction_template-checkpoint.ipynb\n",
      "fm/fm_cloud_training_template.ipynb\n",
      "fm/ml-latest-small/\n",
      "fm/ml-latest-small/user_movie_train.recordio\n",
      "fm/ml-latest-small/movies_genre.csv\n",
      "fm/ml-latest-small/ratings.csv\n",
      "fm/ml-latest-small/links.csv\n",
      "fm/ml-latest-small/one_hot_enc_movies.svm\n",
      "fm/ml-latest-small/one_hot_enc_users.svm\n",
      "fm/ml-latest-small/user_movie_test.csv\n",
      "fm/ml-latest-small/README.txt\n",
      "fm/ml-latest-small/tags.csv\n",
      "fm/ml-latest-small/user_movie_train.csv\n",
      "fm/ml-latest-small/user_movie_train.svm\n",
      "fm/ml-latest-small/user_movie_test.svm\n",
      "fm/ml-latest-small/movies.csv\n",
      "fm/ml-latest-small/user_movie_test.recordio\n",
      "fm/movie_data_preparation.ipynb\n",
      "fm/fm_cloud_prediction_template.ipynb\n",
      "fm.zip\n",
      "ml-latest-small.zip\n",
      "pca/\n",
      "pca/BikeSharingRegression/\n",
      "pca/BikeSharingRegression/bike_train_pca.csv\n",
      "pca/BikeSharingRegression/test.csv\n",
      "pca/BikeSharingRegression/.ipynb_checkpoints/\n",
      "pca/BikeSharingRegression/.ipynb_checkpoints/biketrain_xgboost_localmode_pca-checkpoint.ipynb\n",
      "pca/BikeSharingRegression/.ipynb_checkpoints/biketrain_pca_projection_localmode-checkpoint.ipynb\n",
      "pca/BikeSharingRegression/.ipynb_checkpoints/biketrain_pca_projection_cloudmode-checkpoint.ipynb\n",
      "pca/BikeSharingRegression/.ipynb_checkpoints/biketrain_data_preparation_normalized-checkpoint.ipynb\n",
      "pca/BikeSharingRegression/.ipynb_checkpoints/pca_cloud_training_template-checkpoint.ipynb\n",
      "pca/BikeSharingRegression/train.csv\n",
      "pca/BikeSharingRegression/test_normalized.csv\n",
      "pca/BikeSharingRegression/biketrain_xgboost_localmode_pca.ipynb\n",
      "pca/BikeSharingRegression/README.txt\n",
      "pca/BikeSharingRegression/predicted_count_pca.csv\n",
      "pca/BikeSharingRegression/bike_test_pca.csv\n",
      "pca/BikeSharingRegression/bike_train_column_list_pca.txt\n",
      "pca/BikeSharingRegression/biketrain_pca_projection_localmode.ipynb\n",
      "pca/BikeSharingRegression/bike_train_numeric_columns.recordio\n",
      "pca/BikeSharingRegression/pca_cloud_training_template.ipynb\n",
      "pca/BikeSharingRegression/biketrain_data_preparation_normalized.ipynb\n",
      "pca/BikeSharingRegression/biketrain_pca_projection_cloudmode.ipynb\n",
      "pca/BikeSharingRegression/train_normalized.csv\n",
      "pca/BikeSharingRegression/bike_validation_pca.csv\n",
      "pca/ExplorePCA/\n",
      "pca/ExplorePCA/.ipynb_checkpoints/\n",
      "pca/ExplorePCA/.ipynb_checkpoints/correlated_data_pca_exploration-checkpoint.ipynb\n",
      "pca/ExplorePCA/.ipynb_checkpoints/random_data_preparation-checkpoint.ipynb\n",
      "pca/ExplorePCA/random_data_preparation.ipynb\n",
      "pca/ExplorePCA/correlated_data_pca_exploration.ipynb\n",
      "pca.zip\n",
      "xgboost/\n",
      "xgboost/SageMakerSteps.pdf\n",
      "xgboost/.ipynb_checkpoints/\n",
      "xgboost/.ipynb_checkpoints/SageMakerSteps-checkpoint.pdf\n",
      "xgboost/DiabetesClassification/\n",
      "xgboost/DiabetesClassification/diabetes_data_preparation.ipynb\n",
      "xgboost/DiabetesClassification/.ipynb_checkpoints/\n",
      "xgboost/DiabetesClassification/.ipynb_checkpoints/diabetes_xgboost_localmode-checkpoint.ipynb\n",
      "xgboost/DiabetesClassification/.ipynb_checkpoints/diabetes_data_preparation-checkpoint.ipynb\n",
      "xgboost/DiabetesClassification/README.txt\n",
      "xgboost/DiabetesClassification/diabetes_train.csv\n",
      "xgboost/DiabetesClassification/diabetes_validation.csv\n",
      "xgboost/DiabetesClassification/diabetes_train_column_list.txt\n",
      "xgboost/DiabetesClassification/pima_indians_diabetes_all.csv\n",
      "xgboost/DiabetesClassification/diabetes_xgboost_localmode.ipynb\n",
      "xgboost/IrisClassification/\n",
      "xgboost/IrisClassification/iris_data_preparation.ipynb\n",
      "xgboost/IrisClassification/.ipynb_checkpoints/\n",
      "xgboost/IrisClassification/.ipynb_checkpoints/iris_data_preparation-checkpoint.ipynb\n",
      "xgboost/IrisClassification/.ipynb_checkpoints/iris_xgboost_sagemakersdk-checkpoint.ipynb\n",
      "xgboost/IrisClassification/.ipynb_checkpoints/iris_xgboost_boto3-checkpoint.ipynb\n",
      "xgboost/IrisClassification/.ipynb_checkpoints/xgboost_cloud_training_template-checkpoint.ipynb\n",
      "xgboost/IrisClassification/.ipynb_checkpoints/iris_xgboost_localmode-checkpoint.ipynb\n",
      "xgboost/IrisClassification/iris_train_column_list.txt\n",
      "xgboost/IrisClassification/README.txt\n",
      "xgboost/IrisClassification/iris_train.csv\n",
      "xgboost/IrisClassification/iris_all.csv\n",
      "xgboost/IrisClassification/xgboost_cloud_training_template.ipynb\n",
      "xgboost/IrisClassification/xgboost_cloud_prediction_template.ipynb\n",
      "xgboost/IrisClassification/iris_xgboost_localmode.ipynb\n",
      "xgboost/IrisClassification/iris_validation.csv\n",
      "xgboost/DataFormats/\n",
      "xgboost/DataFormats/.ipynb_checkpoints/\n",
      "xgboost/DataFormats/.ipynb_checkpoints/data_format_exploration-checkpoint.ipynb\n",
      "xgboost/DataFormats/demo_file_from_s3.recordio\n",
      "xgboost/DataFormats/demo_file.recordio\n",
      "xgboost/DataFormats/demo_file.csv\n",
      "xgboost/DataFormats/data_format_exploration.ipynb\n",
      "xgboost/DataFormats/demo_file_from_s3.csv\n",
      "xgboost/LinearAndQuadraticFunctionRegression/\n",
      "xgboost/LinearAndQuadraticFunctionRegression/.ipynb_checkpoints/\n",
      "xgboost/LinearAndQuadraticFunctionRegression/.ipynb_checkpoints/linear_xgboost_localmode-checkpoint.ipynb\n",
      "xgboost/LinearAndQuadraticFunctionRegression/.ipynb_checkpoints/linear_validation-checkpoint.csv\n",
      "xgboost/LinearAndQuadraticFunctionRegression/.ipynb_checkpoints/quadratic_data_preparation-checkpoint.ipynb\n",
      "xgboost/LinearAndQuadraticFunctionRegression/.ipynb_checkpoints/linear_data_preparation-checkpoint.ipynb\n",
      "xgboost/LinearAndQuadraticFunctionRegression/.ipynb_checkpoints/quadratic_xgboost_localmode-checkpoint.ipynb\n",
      "xgboost/LinearAndQuadraticFunctionRegression/linear_all.csv\n",
      "xgboost/LinearAndQuadraticFunctionRegression/linear_validation.csv\n",
      "xgboost/LinearAndQuadraticFunctionRegression/linear_data_preparation.ipynb\n",
      "xgboost/LinearAndQuadraticFunctionRegression/quadratic_train.csv\n",
      "xgboost/LinearAndQuadraticFunctionRegression/linear_xgboost_localmode.ipynb\n",
      "xgboost/LinearAndQuadraticFunctionRegression/quadratic_validation.csv\n",
      "xgboost/LinearAndQuadraticFunctionRegression/quadratic_xgboost_localmode.ipynb\n",
      "xgboost/LinearAndQuadraticFunctionRegression/quadratic_all.csv\n",
      "xgboost/LinearAndQuadraticFunctionRegression/quadratic_data_preparation.ipynb\n",
      "xgboost/LinearAndQuadraticFunctionRegression/loading_pickled_model.ipynb\n",
      "xgboost/LinearAndQuadraticFunctionRegression/linear_train.csv\n",
      "xgboost/BikeSharingRegression/\n",
      "xgboost/BikeSharingRegression/bike_validation.csv\n",
      "xgboost/BikeSharingRegression/biketrain_data_preparation_rev3.ipynb\n",
      "xgboost/BikeSharingRegression/test.csv\n",
      "xgboost/BikeSharingRegression/bike_train.csv\n",
      "xgboost/BikeSharingRegression/.ipynb_checkpoints/\n",
      "xgboost/BikeSharingRegression/.ipynb_checkpoints/invoke_sagemaker_runtime_from_outside-checkpoint.ipynb\n",
      "xgboost/BikeSharingRegression/.ipynb_checkpoints/biketrain_xgboost_localmode_rev2-checkpoint.ipynb\n",
      "xgboost/BikeSharingRegression/.ipynb_checkpoints/biketrain_data_preparation_rev1-checkpoint.ipynb\n",
      "xgboost/BikeSharingRegression/.ipynb_checkpoints/biketrain_data_preparation_rev2-checkpoint.ipynb\n",
      "xgboost/BikeSharingRegression/.ipynb_checkpoints/README-checkpoint.txt\n",
      "xgboost/BikeSharingRegression/.ipynb_checkpoints/xgboost_cloud_prediction_template-checkpoint.ipynb\n",
      "xgboost/BikeSharingRegression/.ipynb_checkpoints/biketrain_xgboost_localmode_rev3-checkpoint.ipynb\n",
      "xgboost/BikeSharingRegression/.ipynb_checkpoints/xgboost_cloud_training_template-checkpoint.ipynb\n",
      "xgboost/BikeSharingRegression/.ipynb_checkpoints/biketrain_data_preparation_rev3-checkpoint.ipynb\n",
      "xgboost/BikeSharingRegression/.ipynb_checkpoints/biketrain_xgboost_localmode-checkpoint.ipynb\n",
      "xgboost/BikeSharingRegression/predicted_count.csv\n",
      "xgboost/BikeSharingRegression/biketrain_data_preparation_rev2.ipynb\n",
      "xgboost/BikeSharingRegression/biketrain_xgboost_localmode_rev2.ipynb\n",
      "xgboost/BikeSharingRegression/bike_train_column_list.txt\n",
      "xgboost/BikeSharingRegression/train.csv\n",
      "xgboost/BikeSharingRegression/README.txt\n",
      "xgboost/BikeSharingRegression/biketrain_xgboost_localmode.ipynb\n",
      "xgboost/BikeSharingRegression/biketrain_xgboost_localmode_rev3.ipynb\n",
      "xgboost/BikeSharingRegression/biketrain_data_preparation_rev1.ipynb\n",
      "xgboost/BikeSharingRegression/sampleSubmission.csv\n",
      "xgboost/BikeSharingRegression/predicted_count_cloud.csv\n",
      "xgboost/BikeSharingRegression/bike_test.csv\n",
      "xgboost/BikeSharingRegression/xgboost_cloud_training_template.ipynb\n",
      "xgboost/BikeSharingRegression/xgboost_cloud_prediction_template.ipynb\n",
      "xgboost/BikeSharingRegression/invoke_sagemaker_runtime_from_outside.ipynb\n",
      "xgboost/BikeSharingRegression/bike_all.csv\n",
      "xgboost/MushroomClassification/\n",
      "xgboost/MushroomClassification/mushroom_validation.csv\n",
      "xgboost/MushroomClassification/.ipynb_checkpoints/\n",
      "xgboost/MushroomClassification/.ipynb_checkpoints/mushroom_data_preparation-checkpoint.ipynb\n",
      "xgboost/MushroomClassification/.ipynb_checkpoints/mushroom_xgboost_localmode-checkpoint.ipynb\n",
      "xgboost/MushroomClassification/mushroom_xgboost_localmode.ipynb\n",
      "xgboost/MushroomClassification/mushroom_data_preparation.ipynb\n",
      "xgboost/MushroomClassification/README.txt\n",
      "xgboost/MushroomClassification/mushroom_encoded_all.csv\n",
      "xgboost/MushroomClassification/mushroom_train_column_list.txt\n",
      "xgboost/MushroomClassification/mushroom_train.csv\n",
      "xgboost/MushroomClassification/mushroom_data_all.csv\n",
      "XGBoostExamples.zip\n",
      "zipname.tar.gz\n",
      "tar: zipname.tar.gz: file changed as we read it\n"
     ]
    }
   ],
   "source": [
    "!tar cvfz zipname.tar.gz *"
   ]
  },
  {
   "cell_type": "code",
   "execution_count": null,
   "metadata": {},
   "outputs": [],
   "source": []
  }
 ],
 "metadata": {
  "kernelspec": {
   "display_name": "conda_python3",
   "language": "python",
   "name": "conda_python3"
  },
  "language_info": {
   "codemirror_mode": {
    "name": "ipython",
    "version": 3
   },
   "file_extension": ".py",
   "mimetype": "text/x-python",
   "name": "python",
   "nbconvert_exporter": "python",
   "pygments_lexer": "ipython3",
   "version": "3.6.5"
  }
 },
 "nbformat": 4,
 "nbformat_minor": 2
}
